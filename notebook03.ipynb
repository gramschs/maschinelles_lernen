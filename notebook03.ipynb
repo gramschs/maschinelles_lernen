{
 "cells": [
  {
   "cell_type": "markdown",
   "id": "b0002fb4",
   "metadata": {},
   "source": [
    "# 3. Pandas und Plotly anstatt Excel\n",
    "\n",
    "## 3.1 Pandas Series\n",
    "\n",
    "Eine **Series** ist eine von zwei grundlegenden Datenstrukturen des\n",
    "Pandas-Moduls. Die Series dient vor allem dazu, Daten zu verwalten und\n",
    "statistisch zu erkunden. Bevor wir die neue Datenstruktur näher beleuchten,\n",
    "machen wir uns aber zuerst mit dem **Modul Pandas** vertraut.\n",
    "\n",
    "### Lernziele 3.1\n",
    "\n",
    "* Sie können erklären, was ein **Modul** in Python ist.\n",
    "* Sie kennen das Modul **Pandas** und können es mit seiner üblichen Abkürzung\n",
    "  **pd** importieren.\n",
    "* Sie kennen die Pandas-Datenstruktur **Series**.\n",
    "* Sie wissen, was ein **Index** ist.\n",
    "* Sie können aus Listen eine Series-Objekt erzeugen und mit einem Index\n",
    "  versehen.\n",
    "* Sie können mit Series-Objekten rechnen.\n",
    "* Sie können die Elemente eines Series-Objektes mit **sort_values()**\n",
    "  aufsteigend und absteigend sortieren lassen.\n",
    "\n",
    "### Das Modul Pandas\n",
    "\n",
    "Stellen Sie sich vor, Sie möchten Spaghetti mit Tomatensauce kochen. Am\n",
    "einfachsten ist es, die Spaghetti-Nudeln und die Tomatensauce im Supermarkt zu\n",
    "kaufen. Sie können aber auch nur die Nudeln kaufen und die Tomatensauce selbst\n",
    "aus Tomaten und Basilikum zubereiten. Oder Sie gehen noch einen Schritt weiter\n",
    "und machen sogar die Nudeln aus Mehl, Eiern, Wasser und Salz selbst.\n",
    "\n",
    "In der Programmierung verhält es sich ähnlich. Sie können alle Funktionalitäten\n",
    "(d.h. die Spagehtti oder die Tomatensauce) selbst programmieren. Oder sie\n",
    "verwenden schon fertige Komponenten und setzen Sie so zusammen, wie Sie es zur\n",
    "Lösung ihres Problems brauchen. Eine Sammlung von fertigen Python-Komponenten zu\n",
    "einem bestimmten Thema wird **Modul** genannt. In anderen Programmiersprachen\n",
    "oder allgemein in der Informatik nennt man eine solche Sammlung auch\n",
    "**Bibliothek** oder verwendet den englischen Begriff **Library**.\n",
    "\n",
    "**Was ist ... ein Modul?**\n",
    "Ein Modul (oder eine Bibliothek oder eine Library) ist eine Sammlung von\n",
    "Python-Code zu einem bestimmten Thema, der als Werkzeug für eigene Programme\n",
    "eingesetzt werden kann.\n",
    "\n",
    "Um ein Modul in Python benutzen zu können, muss es zunächst einmal installiert\n",
    "sein. Um dann die Funktionen, Klassen, Datentypen oder Konstanten benutzen zu\n",
    "können, die das Modul zur Verfügung stellt, wird es importiert. Wir werden in\n",
    "dieser Vorlesung sehr intensiv das Modul **Pandas** verwenden. Pandas ist ein\n",
    "Modul zur Verarbeitung und Analyse von Daten. Es ist üblich, das Modul `pandas`\n",
    "mit der Abkürzung `pd` zu importieren, damit wir nicht immer `pandas` schreiben\n",
    "müssen, wenn wir Code aus dem Pandas-Modul benutzen."
   ]
  },
  {
   "cell_type": "code",
   "execution_count": null,
   "id": "8fbeaa5b",
   "metadata": {},
   "outputs": [],
   "source": [
    "import pandas as pd"
   ]
  },
  {
   "cell_type": "markdown",
   "id": "14edeea0",
   "metadata": {},
   "source": [
    "Sollten Sie jetzt eine Fehlermeldung erhalten haben, ist das Pandas-Modul nicht\n",
    "installiert. Installieren Sie zunächst Pandas beispielsweise mit `!conda install\n",
    "pandas` oder `!pip install pandas`. Mit der Funktion `dir()` werden alle\n",
    "Funktionalitäten des Moduls aufgelistet."
   ]
  },
  {
   "cell_type": "code",
   "execution_count": null,
   "id": "34b666c7",
   "metadata": {},
   "outputs": [],
   "source": [
    "dir(pd)"
   ]
  },
  {
   "cell_type": "markdown",
   "id": "0d325ddb",
   "metadata": {},
   "source": [
    "Eine sehr lange Liste.\n",
    "\n",
    "### Die Datenstruktur Series\n",
    "\n",
    "Einfache Listen reichen nicht aus, um größere Datenmengen oder Tabellen\n",
    "effizient zu speichern. Dazu benutzen Data Scientists die Datenstrukturen\n",
    "`Series` oder `DataFrame` aus dem Pandas-Modul. Dabei wird **Series** für\n",
    "Datenreihen genommen. Damit sind Vektoren gemeint, wenn alle Elemente der\n",
    "Datenreihe aus Zahlen bestehen, oder eindimensionale Arrays. Die Datenstruktur\n",
    "**DataFrame** wiederum dient zum Speichern und Verarbeiten von tabellierten\n",
    "Daten, also sozusagen Matrizen, wenn alle Elemente Zahlen sind, oder\n",
    "zweidimensionale Arrays.\n",
    "\n",
    "Wir starten mit der Datenstruktur Series. Als Beispiel betrachten wir die\n",
    "Verkaufspreise (in Euro) von zehn Autos. Die Daten stammen von der\n",
    "Internetplattform [Autoscout24](https://www.autoscout24.de). Die Preise kommen\n",
    "zunächst in eine Liste (erkennbar an den eckigen Klammern), aus der dann ein\n",
    "Series-Objekt erzeugt wird."
   ]
  },
  {
   "cell_type": "code",
   "execution_count": null,
   "id": "f1642a66",
   "metadata": {},
   "outputs": [],
   "source": [
    "preisliste = [1999, 35990, 17850, 46830, 27443, 14240, 19950, 15950, 21990, 50000]\n",
    "preise = pd.Series(preisliste)\n",
    "print(preise)"
   ]
  },
  {
   "cell_type": "markdown",
   "id": "d102a41d",
   "metadata": {},
   "source": [
    "Was ist aber jetzt der Vorteil von Pandas? Warum nicht einfach bei der Liste\n",
    "bleiben? Der wichtigste Unterschied zwischen Liste und Series ist der **Index**.\n",
    "\n",
    "Bei einer Liste ist der Index implizit definiert. Damit ist gemeint, dass bei\n",
    "der Initialisierung einer Liste automatisch ein nummerierter Index 0, 1, 2, 3,\n",
    "... angelegt wird. Wenn bei einer Liste auf das dritte Element zugegriffen\n",
    "werden soll, dann verwenden wir den Index 2 (zur Erinnerung: Python zählt ab 0)\n",
    "und schreiben"
   ]
  },
  {
   "cell_type": "code",
   "execution_count": null,
   "id": "e3f108a2",
   "metadata": {},
   "outputs": [],
   "source": [
    "preis_drittes_auto = preisliste[2]\n",
    "print(f'Preis des dritten Autos: {preis_drittes_auto} EUR')"
   ]
  },
  {
   "cell_type": "markdown",
   "id": "c95b1f41",
   "metadata": {},
   "source": [
    "Die Datenstruktur Series ermöglich es aber, einen *expliziten Index* zu setzen.\n",
    "Über den optionalen Parameter `index=` speichern wir als Zusatzinformation noch\n",
    "ab, von welchem Auto der Verkaufspreis erfasst wurde. Wir werden diesen\n",
    "Datensatz in den folgenden Kapiteln noch weiter vertiefen. An dieser Stelle\n",
    "halten wir fest, dass die ersten drei Autos von der Marke Audi sind, die\n",
    "nächsten sind BMWs und die letzten fünf sind von der Marke Citroen."
   ]
  },
  {
   "cell_type": "code",
   "execution_count": null,
   "id": "4c7f9241",
   "metadata": {},
   "outputs": [],
   "source": [
    "autos = ['Audi Nr. 1', 'Audi Nr. 2', 'Audi Nr. 3', 'BMW Nr. 1', 'BMW Nr. 2', 'Citroen Nr. 1', 'Citroen Nr. 2', 'Citroen Nr. 3', 'Citroen Nr. 4', 'Citroen Nr. 5']\n",
    "preise = pd.Series(preisliste, index = autos)\n",
    "print(preise)"
   ]
  },
  {
   "cell_type": "markdown",
   "id": "e5422074",
   "metadata": {},
   "source": [
    "Jetzt ist auch klar, warum beim ersten Mal, als wir `print(preise)` ausgeführt\n",
    "haben, die Zahlen 0, 1, 2, usw. ausgegeben wurden. Zu dem Zeitpunkt hatte das\n",
    "Series-Objekt noch einen impliziten Index wie eine Liste. Den expliziten Index\n",
    "nutzen wir jetzt, um auf den Verkaufspreis des dritten Autos zuzugreifen. Das\n",
    "dritte Auto ist `Audi Nr. 3`. Wie bei Listen verwenden wir eckige Klammern:"
   ]
  },
  {
   "cell_type": "code",
   "execution_count": null,
   "id": "64b3e710",
   "metadata": {},
   "outputs": [],
   "source": [
    "preis_drittes_auto = preise['Audi Nr. 3']\n",
    "print(f'Preis des dritten Autos: {preis_drittes_auto} EUR')"
   ]
  },
  {
   "cell_type": "markdown",
   "id": "de41cc44",
   "metadata": {},
   "source": [
    "Die Datenstruktur Series hat gegenüber der Liste noch einen weiteren Vorteil. In\n",
    "der Datenstruktur ist noch eine Zusatzinformation gespeichert, die Eigenschaft\n",
    "`dtype`. Darin gespeichert ist der Datentyp der Elemente des Series-Objektes.\n",
    "Auf diese Eigenschaft kann auch direkt mit dem sogenannten Punktoperator\n",
    "zugegegriffen werden."
   ]
  },
  {
   "cell_type": "code",
   "execution_count": null,
   "id": "731b9bb8",
   "metadata": {},
   "outputs": [],
   "source": [
    "datentyp_preise = preise.dtype\n",
    "print(f'Die einzelnen Elemente des Series-Objektes \"preise\" haben den Datentyp {datentyp_preise}, sind also Integer.')"
   ]
  },
  {
   "cell_type": "markdown",
   "id": "206da1de",
   "metadata": {},
   "source": [
    "Offensichtlich sind die gespeicherten Werte Integer.\n",
    "\n",
    "**Mini-Übung**\n",
    "Erzeugen Sie ein Series-Objekt mit den Wochentagen als Index und der Anzahl der\n",
    "Vorlesungsstunden (SWS) an diesem Wochentag."
   ]
  },
  {
   "cell_type": "code",
   "execution_count": null,
   "id": "8f493e00",
   "metadata": {},
   "outputs": [],
   "source": [
    "# Hier Ihr Code:"
   ]
  },
  {
   "cell_type": "markdown",
   "id": "6410248f",
   "metadata": {},
   "source": [
    "### Arbeiten mit Series-Objekten\n",
    "\n",
    "Falls der Datentyp der einzelnen Elemente eines Series-Objektes ein numerischer\n",
    "Typ ist (Integer oder Float), können wir mit den Einträgen auch rechnen. So\n",
    "lassen sich beispielweise die Preise nicht in Euro, sondern als Preis pro\n",
    "Tausend Euro angeben, wenn wir alle Preise durch 1000 teilen."
   ]
  },
  {
   "cell_type": "code",
   "execution_count": null,
   "id": "a207c3c9",
   "metadata": {},
   "outputs": [],
   "source": [
    "preise_pro_1000euro = preise / 1000\n",
    "print(preise_pro_1000euro)"
   ]
  },
  {
   "cell_type": "markdown",
   "id": "61131284",
   "metadata": {},
   "source": [
    "Oder Sie könnten auf die Idee kommen, das billigste Auto auf den Preis 0 zu\n",
    "setzen und sich ausgeben lassen, um wie viel Euro die anderen Autos teuer sind.\n",
    "Oder anders ausgedrückt, wir subtrahieren von jedem Preis den Wert 1999 EUR:"
   ]
  },
  {
   "cell_type": "code",
   "execution_count": null,
   "id": "ce449f61",
   "metadata": {},
   "outputs": [],
   "source": [
    "preise_differenz = preise - 1999\n",
    "print(preise_differenz)"
   ]
  },
  {
   "cell_type": "markdown",
   "id": "ae0c54fb",
   "metadata": {},
   "source": [
    "Bei zehn Autos war es relativ einfach, das billigste Auto zu ermitteln, indem\n",
    "wir einfach die Preisliste durchgeschaut haben. Hilfreicher ist es, vorher die\n",
    "Preise aufsteigend oder absteigend zu sortieren. Dazu nutzen wir die Methode\n",
    "`.sort_values()`. Der Name lässt vermuten, dass die Methode die Elemente nach\n",
    "ihrem Wert sortiert."
   ]
  },
  {
   "cell_type": "code",
   "execution_count": null,
   "id": "9eb021a5",
   "metadata": {},
   "outputs": [],
   "source": [
    "preise_aufsteigend = preise.sort_values()\n",
    "print(preise_aufsteigend)"
   ]
  },
  {
   "cell_type": "markdown",
   "id": "138bf29e",
   "metadata": {},
   "source": [
    "Jetzt zeigt sich auch der Vorteil des expliziten Index, denn auf die\n",
    "ursprüngliche Reihenfolge kommt es nicht an. Der explizite Index ermöglicht uns,\n",
    "jedes Auto auch in der nach Preisen aufsteigend sortierten Liste eindeutig\n",
    "wiederzufinden. Zum Abschluss sortieren wir noch absteigend. Mit dem optionalen\n",
    "Argument `ascending` wird gesteuert, ob aufsteigend sortiert werden soll oder\n",
    "nicht. Fehlt das Argument, so nimmt der Python-Interpreter an, dass `ascending =\n",
    "True` gewünscht wird, also dass `aufsteigend = wahr` sein soll. Wollen wir\n",
    "absteigend sortieren, müssen wir `aufsteigend = falsch` setzen, also `ascending\n",
    " = False`."
   ]
  },
  {
   "cell_type": "code",
   "execution_count": null,
   "id": "30fb154b",
   "metadata": {},
   "outputs": [],
   "source": [
    "preise_absteigend = preise.sort_values(ascending = False)\n",
    "print(preise_absteigend)"
   ]
  },
  {
   "cell_type": "markdown",
   "id": "789e4663",
   "metadata": {},
   "source": [
    "Vielleicht ist Ihnen aufgefallen, dass wir das sortierte Series-Objekt gleich in\n",
    "einer neuen Vaiable abgespeichert haben. Das ist notwendig, wenn die neue\n",
    "Sortierung erhalten bleiben soll. Standardmäßig wirkt der Sortierungsbefehl\n",
    "nämlich nur einmalig und ändert die eigentliche Reihenfolge im Original nicht.\n",
    "Auch das könnte man durch weitere Parameter ändern (`inplace = True`), wie Sie\n",
    "in der [Pandas-Dokumentation →\n",
    "sort_values()](https://pandas.pydata.org/docs/reference/api/pandas.Series.sort_values.html)\n",
    "nachlesen können.\n",
    "\n",
    "**Mini-Übung**\n",
    "Alice, Bob, Charlie und Dora sind 22, 20, 24 und 22 Jahre alt. Speichern Sie\n",
    "diese Informationen in einem Series-Objekt und sortieren Sie von alt nach jung."
   ]
  },
  {
   "cell_type": "code",
   "execution_count": null,
   "id": "a0b1e7de",
   "metadata": {},
   "outputs": [],
   "source": [
    "# Hier Ihr Code"
   ]
  },
  {
   "cell_type": "markdown",
   "id": "6d9bb363",
   "metadata": {},
   "source": [
    "## Zusammenfassung und Ausblick Kapitel 3.1\n",
    "\n",
    "In diesem Kapitel haben wir Pandas und die sehr wichtige Datenstruktur Series\n",
    "kennengelernt. Im nächsten Kapitel geht es darum, die wichtigsten statistischen\n",
    "Kennzahlen der Daten zu ermitteln, die in dem Series-Objekt gespeichert sind.\n",
    "\n",
    "## 3.2 Statistik mit Pandas\n",
    "\n",
    "Pandas dient nicht nur dazu, Daten zu sammeln, sondern ermöglicht auch\n",
    "statistische Analysen. Die deskriptive Statistik hat zum Ziel, Daten durch\n",
    "einfache Kennzahlen und Diagramme zu beschreiben. In diesem Kapitel geht es\n",
    "darum, die wichtigsten statistischen Kennzahlen mit Pandas zu ermitteln und zu\n",
    "interpretieren.\n",
    "\n",
    "### Lernziele 3.2\n",
    "\n",
    "* Sie können sich mit **.describe()** eine Übersicht über statistische Kennzahlen\n",
    "  verschaffen.\n",
    "* Sie wissen, wie Sie die Anzahl der gültigen Einträge mit **.count()** ermitteln.\n",
    "* Sie kennen die statistischen Kennzahlen Mittelwert und Standardabweichung und\n",
    "  wissen, wie diese mit **.mean()** und **.std()** berechnet werden.\n",
    "* Sie können das Minimum und das Maximum mit **.min()** und **.max()** bestimmen.\n",
    "* Sie wissen wie ein Quantil interpretiert wird und wie es mit **.quantile()**\n",
    "  berechnet wird.\n",
    "\n",
    "### Schnelle Übersicht mit .describe()\n",
    "\n",
    "Die Methode `.describe()` aus dem Pandas-Modul liefert eine schnelle Übersicht\n",
    "über viele statistische Kennzahlen. Vor allem, wenn neue Daten geladen werden,\n",
    "sollte diese Methode direkt am Anfang angewendet werden. Wir bleiben bei unserem\n",
    "Beispiel mit den zehn Autos und deren Verkaufspreisen."
   ]
  },
  {
   "cell_type": "code",
   "execution_count": null,
   "id": "eb4efab5",
   "metadata": {},
   "outputs": [],
   "source": [
    "# Import des Pandas-Moduls \n",
    "import pandas as pd\n",
    "\n",
    "# Erzeugung der Daten als Series-Objekt\n",
    "preisliste = [1999, 35990, 17850, 46830, 27443, 14240, 19950, 15950, 21990, 12450]\n",
    "autos = ['Audi Nr. 1', 'Audi Nr. 2', 'Audi Nr. 3', 'BMW Nr. 1', 'BMW Nr. 2', 'Citroen Nr. 1', 'Citroen Nr. 2', 'Citroen Nr. 3', 'Citroen Nr. 4', 'Citroen Nr. 5']\n",
    "preise = pd.Series(preisliste, index = autos)"
   ]
  },
  {
   "cell_type": "markdown",
   "id": "c10b0726",
   "metadata": {},
   "source": [
    "Die Anwendung der `.describe()`-Methode liefert folgende Ausgabe:"
   ]
  },
  {
   "cell_type": "code",
   "execution_count": null,
   "id": "907514de",
   "metadata": {},
   "outputs": [],
   "source": [
    "preise.describe()"
   ]
  },
  {
   "cell_type": "markdown",
   "id": "e333d784",
   "metadata": {},
   "source": [
    "Offensichtlich liefert die Methode `.describe()` acht statistische Kennzahlen,\n",
    "deren Bedeutung in der\n",
    "[Pandas-Dokumentation](https://pandas.pydata.org/docs/reference/api/pandas.Series.describe.html)\n",
    "erläutert wird. Wir gehen im Folgenden jede Kennzahl einzeln durch.\n",
    "\n",
    "Aber was machen wir, wenn wir die statistischen Kennzahlen erst später verwenden\n",
    "wollen, können wir sie zwischenspeichern? Probieren wir es aus."
   ]
  },
  {
   "cell_type": "code",
   "execution_count": null,
   "id": "7de38e0d",
   "metadata": {},
   "outputs": [],
   "source": [
    "statistische_kennzahlen = preise.describe()"
   ]
  },
  {
   "cell_type": "markdown",
   "id": "0c4d1615",
   "metadata": {},
   "source": [
    "Es kommt keine Fehlermeldung. Und was ist in der Variable\n",
    "`statistische_kennzahlen` nun genau gespeichert, welcher Datentyp?"
   ]
  },
  {
   "cell_type": "code",
   "execution_count": null,
   "id": "2f1a173e",
   "metadata": {},
   "outputs": [],
   "source": [
    "type(statistische_kennzahlen)"
   ]
  },
  {
   "cell_type": "markdown",
   "id": "00d42158",
   "metadata": {},
   "source": [
    "Offensichtlich wird durch das Anwenden der `.describe()`-Methode auf das\n",
    "Series-Objekt `preise` ein neues Series-Objekt erzeugt, in dem wiederum die\n",
    "statistischen Kennzahlen von `preise` gespeichert sind. Da wir im letzten\n",
    "Kapitel schon gelernt haben, dass mit eckigen Klammern und dem Index auf einen\n",
    "einzelnen Wert zugegriffen werden kann, können wir uns so den minimalen\n",
    "Verkaufspreis ausgeben lassen:"
   ]
  },
  {
   "cell_type": "code",
   "execution_count": null,
   "id": "f7a5aae0",
   "metadata": {},
   "outputs": [],
   "source": [
    "minimaler_preis = statistische_kennzahlen['min']\n",
    "print(f'Das billigste Auto wird für {minimaler_preis} EUR angeboten.')"
   ]
  },
  {
   "cell_type": "markdown",
   "id": "144c26a4",
   "metadata": {},
   "source": [
    "**Mini-Übung**\n",
    "Lassen Sie zuerst die Verkaufspreise aufsteigend sortieren und ausgeben. Lesen\n",
    "Sie anhand der Ausgabe ab: welches Auto ist am teuersten und für wieviel Euro\n",
    "wird es bei Autoscout24 angeboten? Lassen Sie dann das Maximum über die\n",
    "statistischen Kennzahlen, d.h. mit .describe() ermitteln. Vergleichen Sie beide\n",
    "Werte."
   ]
  },
  {
   "cell_type": "code",
   "execution_count": null,
   "id": "9e358f5c",
   "metadata": {},
   "outputs": [],
   "source": [
    "# Hier Ihr Code"
   ]
  },
  {
   "cell_type": "markdown",
   "id": "82d860a0",
   "metadata": {},
   "source": [
    "Neben der Möglichkeit, die statistischen Kennzahlen über .describe() berechnen\n",
    "zu lassen und dann mit dem expliziten Index darauf zuzugreifen, gibt es auch\n",
    "Methoden, um die statistischen Kennzahlen direkt zu ermitteln.\n",
    "\n",
    "### Anzahl count()\n",
    "\n",
    "Mit `.count()` wird die Anzahl der Einträge bestimmt, die *nicht* 'NA' sind. Der\n",
    "Begriff 'NA' ist ein Fachbegriff des maschinellen Lernens. Gemeint sind fehlende\n",
    "Einträge, wobei die fehlenden Einträge verschiedene Ursachen haben können:\n",
    "\n",
    "* NA = not available (der Messsensor hat versagt)\n",
    "* NA = not applicable (es ist sinnlos bei einem Mann nachzufragen, ob er\n",
    "  schwanger ist)\n",
    "* NA = no answer (eine Person hat bei dem Umfrage nichts angegeben)"
   ]
  },
  {
   "cell_type": "code",
   "execution_count": null,
   "id": "0bebdfe2",
   "metadata": {},
   "outputs": [],
   "source": [
    "anzahl_gueltige_preise = preise.count()\n",
    "print(f'Im Series-Objekt sind {anzahl_gueltige_preise} nicht NA-Werte, also gültige Datensätze gespeichert.')"
   ]
  },
  {
   "cell_type": "markdown",
   "id": "6ee1ab00",
   "metadata": {},
   "source": [
    "### Mittelwert mean()\n",
    "\n",
    "Der Mittelwert ist die Summe aller Elemente geteilt durch ihre Anzahl. Wie\n",
    "praktisch, dass wir mit .count() schon die Anzahl der gültigen Werte geliefert\n",
    "bekommen. Rechnen wir zuerst einmal \"händisch\" nach, was der durchschnittliche\n",
    "Verkaufspreis der 10 Autos ist."
   ]
  },
  {
   "cell_type": "code",
   "execution_count": null,
   "id": "4b67721f",
   "metadata": {},
   "outputs": [],
   "source": [
    "preisliste = [1999, 35990, 17850, 46830, 27443, 14240, 19950, 15950, 21990, 12450]\n",
    "summe = 1999 + 35990 + 17850 + 46830 + 27443 + 14240 + 19950 + 15950 + 21990 + 12450\n",
    "print(f'Die Summe ist {summe} EUR.')\n",
    "mittelwert = summe / 10\n",
    "print(f'Der durchschnittliche Verkaufspreis ist {mittelwert} EUR.')"
   ]
  },
  {
   "cell_type": "markdown",
   "id": "5358c71f",
   "metadata": {},
   "source": [
    "Mittelwert heißt auf Englisch mean. Daher ist es nicht verwunderlich, dass die\n",
    "Methode `.mean()` den Mittelwert der Einträge in jeder Spalte berechnet."
   ]
  },
  {
   "cell_type": "code",
   "execution_count": null,
   "id": "26dd28d4",
   "metadata": {},
   "outputs": [],
   "source": [
    "mittelwert = preise.mean()\n",
    "print(f'Der mittlere Verkaufspreis beträgt {mittelwert} Euro.')"
   ]
  },
  {
   "cell_type": "markdown",
   "id": "5257fa65",
   "metadata": {},
   "source": [
    "Falls Sie prinzipiell nochmal die Berechnung des Mittelwertes wiederholen\n",
    "wollen, können Sie folgendes Video ansehen: <https://youtu.be/IKfsGPwACnU>.\n",
    "\n",
    "### Standardabweichung std()\n",
    "\n",
    "Der Mittelwert ist eine sehr wichtige statistische Kennzahl. Allerdings verrät\n",
    "der Mittelwert nicht, wie sich die einzelnen Autopreise relativ zum Mittelwert\n",
    "verhalten. Bei den 10 Autos sehen wir mit einem Blick, dass einzelne Autos sehr\n",
    "stark vom Mittelwert abweichen. Audi Nr. 1 kostet nur 1999 EUR und damit nur\n",
    "circa 10 % vom durchschnittlichen Verkaufspreis. Dafür ist BMW Nr. 1 mehr als\n",
    "doppelt so teuer. Es ist daher wichtig, sich zusätzlich zum Mittelwert\n",
    "anzusehen, wie die anderen Datenpunkte vom Mittelwert abweichen. In der\n",
    "Statistik wird das als **Streuung** bezeichnet. Eine statistische Kennzahl, die\n",
    "die Streuung von Daten um den Mittelwert angibt, ist die **Standardabweichung**.\n",
    "\n",
    "Zur Berechnung der Standardabweichung werden zuerst die Abweichungen jedes\n",
    "Datenpunktes zum Mittelwert berechnet."
   ]
  },
  {
   "cell_type": "code",
   "execution_count": null,
   "id": "56cfeefc",
   "metadata": {},
   "outputs": [],
   "source": [
    "mittelwert = preise.mean()\n",
    "differenzen = preise - mittelwert\n",
    "print(differenzen)"
   ]
  },
  {
   "cell_type": "markdown",
   "id": "1fc3fba1",
   "metadata": {},
   "source": [
    "Die negativen Vorzeichen stören, wir wollen ja die Abweichung. Daher quadrieren\n",
    "wir die Differenzen."
   ]
  },
  {
   "cell_type": "code",
   "execution_count": null,
   "id": "50f1ffe6",
   "metadata": {},
   "outputs": [],
   "source": [
    "quadrate = differenzen * differenzen\n",
    "print(quadrate)"
   ]
  },
  {
   "cell_type": "markdown",
   "id": "7ecff058",
   "metadata": {},
   "source": [
    "Die durchschnittliche Abweichung beschreibt nun, wie weit \"weg\" die anderen\n",
    "Verkaufspreise vom Mittelwert sind. Daher bilden wir nun von den Abweichungen\n",
    "wiederum den Mittelwert. Da Quadrate ein Series-Objekt ist, machen wir das\n",
    "diesmal nicht händisch, sondern nutzen die Methode `.mean()`."
   ]
  },
  {
   "cell_type": "code",
   "execution_count": null,
   "id": "995b242b",
   "metadata": {},
   "outputs": [],
   "source": [
    "durchschnittliche_abweichungen = quadrate.mean()\n",
    "print(f'Die durchschnittliche Abweichung ist {durchschnittliche_abweichungen}.')"
   ]
  },
  {
   "cell_type": "markdown",
   "id": "c9d3f1bb",
   "metadata": {},
   "source": [
    "Wenn wir die durchschnittliche Abweichung wiederum als Verkaufspreis gemessen in\n",
    "Euro interpretieren wollen, gibt es ein Problem. Offensichtlich ist diese Zahl\n",
    "soviel größer als das teuerste Auto. Das ist nicht verwunderlich, denn wir haben\n",
    "ja die quadrierten Differenzen genommen. Die Einheit der durchschnittlichen\n",
    "Abweichung ist also EUR². Das ist aber unpraktisch. Also ziehen wir wieder die\n",
    "Wurzel, damit wir ein Maß für die durchschnittliche Abweichung haben, das auch\n",
    "direkt Verkaufspreise widerspiegelt. Das nennen wir dann Standardabweichung."
   ]
  },
  {
   "cell_type": "code",
   "execution_count": null,
   "id": "e4e19fa5",
   "metadata": {},
   "outputs": [],
   "source": [
    "standardabweichung = quadrate.mean()**0.5\n",
    "print(f'Die Standardabweichung ist {standardabweichung:.2f} EUR.')"
   ]
  },
  {
   "cell_type": "markdown",
   "id": "484bffbd",
   "metadata": {},
   "source": [
    "Benutzen wir Pandas, so liefert die Methode `.std()` die Standardabweichung. Das\n",
    "'st' in `.std()` für Standard steht, ist nachvollziehbar. Der dritte Buchstabe\n",
    "'d' kommt von 'deviation', also Abweichung. Somit ist wiederum die Methode nach\n",
    "dem englischen Fachbegriff 'standard deviation' benannt. Probieren wir die\n",
    "Methode für die Autopreise aus."
   ]
  },
  {
   "cell_type": "code",
   "execution_count": null,
   "id": "64f60485",
   "metadata": {},
   "outputs": [],
   "source": [
    "standardabweichung = preise.std()\n",
    "print(f'Die Standardabweichung bei den Verkaufspreisen beträgt {standardabweichung} Euro.')"
   ]
  },
  {
   "cell_type": "markdown",
   "id": "83700232",
   "metadata": {},
   "source": [
    "Der Wert, den Pandas berechnet, unterscheidet sich von dem Wert, den wir\n",
    "\"händisch\" berechnet haben. Der Unterschied kommt daher, dass es zwei Formeln\n",
    "zur Berechnung der Standardabweichung gibt. Einmal wird der Durchschnitt über\n",
    "die Quadrate gebildet, indem die Summe durch die Anzahl aller Elemente geteilt\n",
    "wird, so wie wir es getan haben. Wir haben durch 10 geteilt. Bei der anderen\n",
    "Formel wird die Summe der Quadrate durch 9 geteilt.\n",
    "\n",
    "Was war eigentlich nochmal die Standardabweichung? Falls Sie dazu eine kurze\n",
    "Wiederholung der Theorie benötigen, empfehle ich Ihnen dieses Video:\n",
    "<https://youtu.be/QNNt7BvmUJM>.\n",
    "\n",
    "### Minimum und Maximum mit min() und max()\n",
    "\n",
    "Die Namen der Methoden `.min()` und `max()` sind fast schon wieder\n",
    "selbsterklärend. Die Methode `.min()` liefert den kleinsten Wert zurück, der\n",
    "gefunden wird. Umgekehrt liefert `.max()` den größten Eintrag. Wie häufig die\n",
    "minimalen und maximalen Werte vorkommen, ist dabei egal. Es kann durchaus sein,\n",
    "dass das Minimum oder das Maximum mehrfach vorkommt.\n",
    "\n",
    "Schauen wir uns an, was der niedrigste Verkaufspreis ist. Und dann schauen wir\n",
    "nach, welches Auto am teuersten ist."
   ]
  },
  {
   "cell_type": "code",
   "execution_count": null,
   "id": "da184f05",
   "metadata": {},
   "outputs": [],
   "source": [
    "preis_min = preise.min()\n",
    "print(f'Das billigste oder die billigsten Autos werden zum Preis von {preis_min} EUR angeboten.')\n",
    "\n",
    "preis_max = preise.max()\n",
    "print(f'Das teuerste oder die teuersten Autos werden für {preis_max} EUR angeboten.')"
   ]
  },
  {
   "cell_type": "markdown",
   "id": "9fc0b49c",
   "metadata": {},
   "source": [
    "### Quantil mit quantile()\n",
    "\n",
    "Das Quantil $p \\%$ ist der Wert, bei dem $p %$ der Einträge kleiner oder gleich\n",
    "als diese Zahl sind und $100 \\% - p \\%$ sind größer. Meist werden nicht\n",
    "Prozentzahlen verwendet, sondern p ist zwischen 0 und 1, wobei die 1 für 100 %\n",
    "steht.\n",
    "\n",
    "Angenommen, wir würden gerne das 0.5-Quantil (auch Median genannt) der Preise\n",
    "wissen. Mit der Methode `.quantile()` können wir diesen Wert leicht aus den\n",
    "Daten holen."
   ]
  },
  {
   "cell_type": "code",
   "execution_count": null,
   "id": "2cbeded3",
   "metadata": {},
   "outputs": [],
   "source": [
    "quantil50 =preise.quantile(0.5)\n",
    "print(f'Der Median, d.h. das 50 % Quantil, liegt bei {quantil50} EUR.')"
   ]
  },
  {
   "cell_type": "markdown",
   "id": "c6e02c65",
   "metadata": {},
   "source": [
    "Das 50 % -Quantil liegt bei 18900 EUR. 50 % aller Autos werden zu einem Preis\n",
    "angeboten, der kleiner oder gleich 18900 EUR ist. Und 50 % aller Autos werden\n",
    "teuer angeboten. Wir schauen uns jetzt das 75 % Quantil an."
   ]
  },
  {
   "cell_type": "code",
   "execution_count": null,
   "id": "fec64e5b",
   "metadata": {},
   "outputs": [],
   "source": [
    "quantil75 = preise.quantile(0.75)\n",
    "print(f'75 % aller Autos haben einen Preis kleiner gleich {quantil75} EUR.')"
   ]
  },
  {
   "cell_type": "markdown",
   "id": "8bb36763",
   "metadata": {},
   "source": [
    "75 % aller Autos werden günstiger als 26079.75 EUR angeboten. Auch wenn Sie sich\n",
    "natürlich für jede beliebigen Prozentsatz zwischen 0 % und 100 % das Quantil\n",
    "ansehen können, interessieren wir uns noch für das 25 % Quantil."
   ]
  },
  {
   "cell_type": "code",
   "execution_count": null,
   "id": "d98145b4",
   "metadata": {},
   "outputs": [],
   "source": [
    "quantil25 = preise.quantile(0.25)\n",
    "print(f'25 % aller Autos haben einen Preis kleiner gleich {quantil25} EUR.')"
   ]
  },
  {
   "cell_type": "markdown",
   "id": "5618d072",
   "metadata": {},
   "source": [
    "### Zusammenfassung und Ausblick Kapitel 3.2\n",
    "\n",
    "In diesem Abschnitt haben wir uns mit einfachen statistischen Kennzahlen\n",
    "beschäftigt, die Pandas mit der Methode `.describe()` zusammenfasst, die aber\n",
    "auch einzeln über\n",
    "\n",
    "* `.count()`\n",
    "* `.mean()`\n",
    "* `.std()`\n",
    "* `.min()` und `.max()`\n",
    "* `.quantile()`\n",
    "\n",
    "berechnet und ausgegeben werden können. Im nächsten Kapitel geht es darum, durch\n",
    "Diagramme mehr über die Daten zu erfahren.\n",
    "\n",
    "## 3.3 Boxplots mit Plotly\n",
    "\n",
    "Die wichtigsten statistischen Kennzahlen lassen sich mit einem Diagramm\n",
    "visualisieren, das Boxplot genannt wird. Selten wird auch der deutsche Begriff\n",
    "Kastendiagramm dafür gebraucht. In diesem Kapitel visualisieren wir nur einen\n",
    "Datensatz. Die große Stärke der Boxplots ist normalerweise, die statistischen\n",
    "Kennzahlen von verschiedenen Datensätzen nebeneinander zu visualisieren, um so\n",
    "leicht einen Vergleich der Datensätze zu ermöglichen.\n",
    "\n",
    "## Lernziele 3.3\n",
    "\n",
    "* Sie können **Plotly Express** mit der typischen Abkürzung **px** importieren.\n",
    "* Sie können mit **px.box()** einen Boxplot eines Pandas-Series-Objektes\n",
    "  visualisieren.\n",
    "* Sie können die Beschriftung eines Boxplots verändern. Dazu gehört die die\n",
    "  Beschriftung der Achsen und der Titel.\n",
    "* Sie können die Datenpunkte neben einem Boxplot anzeigen lassen.\n",
    "* Sie wissen, was ein **Ausreißer** ist und können Ausreißer im Boxplot anzeigen\n",
    "  lassen.\n",
    "\n",
    "### Plotly\n",
    "\n",
    "Es gibt zahlreiche Python-Module, die zur Visualisierung von Daten geeignet\n",
    "sind. In dieser Vorlesung verwenden wir **Plotly**. Plotly unterstützt sehr\n",
    "viele verschiedene Diagrammtypen, wie auch das bekannteste Modul zur Erstellung\n",
    "von Diagrammen, die sehr bekannte Python-Bibliothek **Matplotlib**. Im Gegensatz\n",
    "zu Matplotlib ist Plotly jedoch interaktiv. Zusätzlich bietet Plotly das Module\n",
    "**Plotly Express** an, das eine einfach zu bedienende Schnittstelle zur\n",
    "Erstellung von Diagrammen zur Verfügung stellt.\n",
    "\n",
    "Üblicherweise wird Plotly Express als `px` abgekürzt. Wir importieren das Modul\n",
    "und schauen uns mit der `dir()`-Funktion an, welche Funktionalitäten Plotly\n",
    "Express bietet."
   ]
  },
  {
   "cell_type": "code",
   "execution_count": null,
   "id": "290b2ef9",
   "metadata": {},
   "outputs": [],
   "source": [
    "import plotly.express as px\n",
    "\n",
    "dir(px)"
   ]
  },
  {
   "cell_type": "markdown",
   "id": "51d16d69",
   "metadata": {},
   "source": [
    "### Boxplots mit Plotly Express\n",
    "\n",
    "Wir greifen erneut unser Autoscout24-Beispiel mit den 10 Autos auf."
   ]
  },
  {
   "cell_type": "code",
   "execution_count": null,
   "id": "95fb1185",
   "metadata": {},
   "outputs": [],
   "source": [
    "import pandas as pd\n",
    "\n",
    "preisliste = [1999, 35990, 17850, 46830, 27443, 14240, 19950, 15950, 21990, 12450]\n",
    "preise = pd.Series(preisliste, index = ['Audi Nr. 1', 'Audi Nr. 2', 'Audi Nr. 3', 'BMW Nr. 1', 'BMW Nr. 2', \n",
    "    'Citroen Nr. 1', 'Citroen Nr. 2', 'Citroen Nr. 3', 'Citroen Nr. 4', 'Citroen Nr. 5'])\n",
    "\n",
    "print(preise)"
   ]
  },
  {
   "cell_type": "markdown",
   "id": "eb241a44",
   "metadata": {},
   "source": [
    "Um einen Boxplot zu erstellen, nutzen wir die Funktion `box()` von Plotly\n",
    "Express. Wir speichern das Diagramm, das durch diese Funktion erstellt wird, in\n",
    "der Variablen `diagramm`. Um es dann auch nach seiner Erzeugung tatsächlich\n",
    "anzeigen zu lassen, verwenden wir die Methode `.show()`. Zusammen sieht der\n",
    "Python-Code zur Erzeugung eines Boxplots folgendermaßen aus:"
   ]
  },
  {
   "cell_type": "code",
   "execution_count": null,
   "id": "b2617f12",
   "metadata": {},
   "outputs": [],
   "source": [
    "diagramm = px.box(preise)\n",
    "diagramm.show()"
   ]
  },
  {
   "cell_type": "markdown",
   "id": "bf0bf3fe",
   "metadata": {},
   "source": [
    "Bewegen wir die Maus über dem Diagramm, so sehen wir die interaktiven\n",
    "Möglichkeiten. Damit die Zahlen besser ablesbar sind, werden sie eingeblendet,\n",
    "sobald wir mit dem Mauszeiger über der Box sind. Auch erscheinen rechts oben\n",
    "weitere Einstellmöglichkeiten.\n",
    "\n",
    "Die untere Antenne zeigt das Minimum an, die obere Antenne das Maximum der\n",
    "Daten. Der Kasten, also die Box, wird durch das untere unteren Q1 und das obere\n",
    "Quartil Q3 begrenzt. Oder anders formuliert liegen 50 % aller auftretenden\n",
    "Elemente in der Box. Der Median wird durch die Linie in der Box dargestellt.\n",
    "\n",
    "Das folgende Video erklärt, wie der Boxplot zu interpretieren ist:\n",
    "<https://youtu.be/1I_ma7nvKQw>.\n",
    "\n",
    "### Beschriftung des Boxplots verändern\n",
    "\n",
    "Die Achsenbeschriftungen wurden automatisch gesetzt. Die x-Achse ist mit\n",
    "'variable' und die y-Achse mit 'value' beschriftet. Darüber hinaus ist der Titel\n",
    "der Box '0'. Das wird auch angezeigt, wenn die Maus sich über die Box bewegt.\n",
    "\n",
    "Die 0 wird angezeigt, weil das Pandas-Series-Objekt 'preise' für den Boxplot als\n",
    "Tabelle interpretiert wird und die erste Spalte den Index 0 hat. Wir können der\n",
    "Spalte aber auch einen eigenen Namen geben. Am einfachsten klappt das direkt bei\n",
    "der Erzeugung, indem der Parameter `name=` gesetzt wird."
   ]
  },
  {
   "cell_type": "code",
   "execution_count": null,
   "id": "b02623d8",
   "metadata": {},
   "outputs": [],
   "source": [
    "preisliste = [1999, 35990, 17850, 46830, 27443, 14240, 19950, 15950, 21990, 12450]\n",
    "preise_mit_name = pd.Series(preisliste, index = ['Audi Nr. 1', 'Audi Nr. 2', 'Audi Nr. 3', 'BMW Nr. 1', 'BMW Nr. 2', \n",
    "    'Citroen Nr. 1', 'Citroen Nr. 2', 'Citroen Nr. 3', 'Citroen Nr. 4', 'Citroen Nr. 5'],\n",
    "    name='XXS-Liste von Autoscout24')\n",
    "\n",
    "print(preise_mit_name)"
   ]
  },
  {
   "cell_type": "markdown",
   "id": "fbbd0ce3",
   "metadata": {},
   "source": [
    "Der neue Name 'XXS-Liste von Autoscout24' wird zusätzlich zur Information 'dtype' angezeigt.\n",
    "Damit sieht der Boxplot folgendermaßen aus:"
   ]
  },
  {
   "cell_type": "code",
   "execution_count": null,
   "id": "c9cf4436",
   "metadata": {},
   "outputs": [],
   "source": [
    "diagramm = px.box(preise_mit_name)\n",
    "diagramm.show()"
   ]
  },
  {
   "cell_type": "markdown",
   "id": "93df43f6",
   "metadata": {},
   "source": [
    "Sollen nun auch noch die Achsenbeschriftungen geändert werden, müssen wir die\n",
    "automatisch gesetzten Beschriftungen durch neue Namen ersetzt werden.\n",
    "Eingeleitet wird die Ersetzung durch das Schlüsselwort `labels=`. Danach steht\n",
    "in geschweiften Klammern `{` und `}` der alten Name, dann folgt ein Doppelpunkt\n",
    "und dann der neue Name."
   ]
  },
  {
   "cell_type": "code",
   "execution_count": null,
   "id": "c4821783",
   "metadata": {},
   "outputs": [],
   "source": [
    "diagramm = px.box(preise_mit_name, labels={'variable': 'Name des Datensatzes'})\n",
    "diagramm.show()"
   ]
  },
  {
   "cell_type": "markdown",
   "id": "deec67bc",
   "metadata": {},
   "source": [
    "Sollen gleich mehrere Beschriftungen ersetzt werden, werden alle Paare mit einem\n",
    "Komma getrennt aufgelistet."
   ]
  },
  {
   "cell_type": "code",
   "execution_count": null,
   "id": "c2326810",
   "metadata": {},
   "outputs": [],
   "source": [
    "diagramm = px.box(preise_mit_name, labels={'variable': 'Name des Datensatzes', 'value': 'Verkaufspreis [EUR]'})\n",
    "diagramm.show()"
   ]
  },
  {
   "cell_type": "markdown",
   "id": "e7b72357",
   "metadata": {},
   "source": [
    "Fehlt noch eine Überschrift, ein Titel. Wie das englische Wort 'title' heißt\n",
    "auch das entsprechende Schlüsselwort zum Erzeugen eines Titels, nämlich\n",
    "`title=`."
   ]
  },
  {
   "cell_type": "code",
   "execution_count": null,
   "id": "d03bec72",
   "metadata": {},
   "outputs": [],
   "source": [
    "diagramm = px.box(preise_mit_name, \n",
    "              labels={'variable': 'Name des Datensatzes', 'value': 'Verkaufspreis [EUR]'},\n",
    "              title='Statistische Kennzahlen als Boxplot')\n",
    "diagramm.show()"
   ]
  },
  {
   "cell_type": "markdown",
   "id": "3084e7cd",
   "metadata": {},
   "source": [
    "### Datenpunkte im Boxplot anzeigen\n",
    "\n",
    "Oft ist es wünschenswert die Rohdaten zusammen mit dem Boxplot zu visualisieren.\n",
    "Das ist mit dem `points=`-Parameter recht einfach, jedoch haben wir zwei mögliche\n",
    "Optionen. Wir können mit `'all'` alle Punkte anzeigen lassen oder nur die\n",
    "Ausreißer (`'outliers'`).\n",
    "\n",
    "Lassen wir zuerst alle Punkte anzeigen und setzen also `points='all'`."
   ]
  },
  {
   "cell_type": "code",
   "execution_count": null,
   "id": "9beaa337",
   "metadata": {},
   "outputs": [],
   "source": [
    "diagramm = px.box(preise_mit_name, \n",
    "              labels={'variable': 'Name des Datensatzes', 'value': 'Verkaufspreis [EUR]'},\n",
    "              points='all')\n",
    "diagramm.show()"
   ]
  },
  {
   "cell_type": "markdown",
   "id": "6eecfe9e",
   "metadata": {},
   "source": [
    "Die Punkte werden links vom Boxplot platziert. Als nächstes lassen wir uns die\n",
    "Ausreißer anzeigen."
   ]
  },
  {
   "cell_type": "code",
   "execution_count": null,
   "id": "542cc84c",
   "metadata": {},
   "outputs": [],
   "source": [
    "diagramm = px.box(preise_mit_name, \n",
    "              labels={'variable': 'Name des Datensatzes', 'value': 'Verkaufspreis [EUR]'},\n",
    "              points='outliers')\n",
    "diagramm.show()"
   ]
  },
  {
   "cell_type": "markdown",
   "id": "f9d47815",
   "metadata": {},
   "source": [
    "Es sind keine Punkte zu sehen, was ist falsch? Nun, um das zu klären, müssen wir\n",
    "erst einmal definieren, was ein Ausreißer ist.\n",
    "\n",
    "### Ausreißer berechnen und visualisieren\n",
    "\n",
    "Die Box im Boxplot enthält 50 % aller Datenpunkte, denn sie ist durch das untere\n",
    "Quartil Q1 und das obere Quartil Q3 begrenzt. Die Differenz zwischen Q1 und Q3\n",
    "wird **Interquartilsabstand** (manchmal auch kurz Quartilsabstand) genannt und\n",
    "mit **IQR** (englisch für Interquartile Range) abgekürzt. In der Statistik\n",
    "werden Punkte, die kleiner als Q1 - 1.5 IQR oder Punkte, die größer als Q3 + 1.5\n",
    "IQR sind, als Ausreißer angesehen. Im Beispiel des XXS-Datensatzes der\n",
    "Autopreise kommen keine Ausreißer vor, weil Minimum und Maximum noch innerhalb\n",
    "dieses Bereichs liegen. Wir fügen daher noch ein neues, teureres Auto ein. Jetzt\n",
    "sehen wir einen Ausreißer."
   ]
  },
  {
   "cell_type": "code",
   "execution_count": null,
   "id": "1e90ed72",
   "metadata": {},
   "outputs": [],
   "source": [
    "preise_mit_name['BMW Nr. 3'] = 62999\n",
    "diagramm = px.box(preise_mit_name, \n",
    "              labels={'variable': 'Name des Datensatzes', 'value': 'Verkaufspreis [EUR]'},\n",
    "              points='outliers')\n",
    "diagramm.show()"
   ]
  },
  {
   "cell_type": "markdown",
   "id": "68e621b6",
   "metadata": {},
   "source": [
    "### Zusammenfassung und Ausblick Kapitel 3.3\n",
    "\n",
    "Der Boxplot ermöglicht eine einfache Visualisierung der wichtigsten\n",
    "statistischen Kennzahlen eines Datensatzes. Seine Stärke spielt er aus, sobald\n",
    "mehrere Datensätze miteinander verglichen werden sollen. Daher werden wir im\n",
    "nächsten Kapitel uns mit Tabellen beschäftigen.\n",
    "\n",
    "## Übungen\n",
    "\n",
    "Gegeben sind folgende Daten zu der Verteilung von Studierenden (männlich/weiblich) auf die Hochschularten Universität und Fachhochschulen (Hochschulen für angewandte Wissenschaften), Quelle: [https://www.statistischebibliothek.de/mir/receive/DESerie_mods_00007716]\n",
    "\n",
    "```python\n",
    "bundeslaender = ['Baden-Württemberg', 'Bayern', 'Berlin', 'Brandenburg', \n",
    "                 'Bremen', 'Hamburg', 'Hessen', 'Mecklenburg-Vorpommern', \n",
    "                 'Niedersachsen', 'Nordrhein-Westfalen', 'Rheinland-Pfalz', 'Saarland',\n",
    "                 'Sachsen', 'Sachsen-Anhalt', 'Schleswig-Holstein', 'Thüringen']\n",
    "studierende_universitaeten_maennlich = [85183, 118703, 58682, 15845,\n",
    "                                        9291, 27444, 68753, 10349, \n",
    "                                        62192, 235564, 31487, 7806, \n",
    "                                        35826, 15847, 16548, 14350]\n",
    "studierende_universitaeten_weiblich = [82635, 131158, 65587, 18742,\n",
    "                                       10181, 28438, 75292, 12821,\n",
    "                                       69866, 246467, 41755, 8391,\n",
    "                                       37669, 17061, 22760, 17245]\n",
    "studierende_fachhochschulen_maennlich = [83058, 81163, 34727, 7778,\n",
    "                                         8299, 26818, 53998, 7120,\n",
    "                                         33147, 132976, 21759, 7407,\n",
    "                                         15497, 12023, 14167, 39330]\n",
    "studierende_fachhochschulen_weiblich = [65332, 63198, 33333, 6323,\n",
    "                                        8235, 33558, 47600, 6886,\n",
    "                                        27157, 106755, 18042, 5767,\n",
    "                                        11087, 11273, 7943, 63669]\n",
    "```\n",
    "\n",
    "### Übung 3.1\n",
    "\n",
    "Laden Sie die Daten zu den Studentinnen an Fachhochschulen. Verschaffen Sie sich einen Überblick über die statistischen Kennzahlen. Lesen Sie dann ab: In welchem Bundesland studieren am wenigsten Studentinnen und im welchem Bundesland am meisten?\n",
    "\n",
    "### Übung 3.2\n",
    "\n",
    "Überprüfen Sie für die anderen drei Datensätze, ob auch dort die beiden gleichen Bundesländer herauskommen. Lassen Sie dazu zuerst das Minimum und das Maximum eines jeden Datensatzes direkt mit einer f-print-Anweisung ausgeben und kontrollieren Sie mit der Anzeige des kompletten Datensatzes, welches Bundesland zum Minimum oder Maximum gehört. Fügen Sie Ihre Antwort als Markdown-Zelle ein.\n",
    "\n",
    "### Übung 3.3\n",
    "\n",
    "Lassen Sie jeden der vier Datensätze durch einen Boxplot darstellen. Verwenden Sie dabei unterschiedliche Variablen zum Speichern des Boxplots (also beispielsweise fig1, fig2, fig3 und fig4). Gibt es Ausreißer?\n",
    "\n",
    "### Übung 3.4\n",
    "\n",
    "Es wäre schön, die Boxplots in einer Grafik nebeneinander zu stellen. Dazu benötigen wir das Untermodul `Graph Objects` von `Plotly`. Danach können die Grafiken wie folgt kombiniert werden.\n",
    "\n",
    "```python\n",
    "import plotly.graph_objects as go\n",
    "\n",
    "fig = go.Figure(data = fig1.data + fig2.data + fig3.data + fig4.data)\n",
    "fig.update_layout(title='Verteilung Studierende 2022')\n",
    "\n",
    "fig.show()\n",
    "```\n",
    "\n",
    "Kopieren Sie den oben Code in eine Code-Zelle und führen Sie die Code-Zelle aus. Vergleichen Sie die vier Boxplots miteinander. Wo liegt der Median am ehesten in der Mitte des Interquartilabstandes?\n",
    "\n",
    "### Übung 3.5\n",
    "\n",
    "Recherchieren Sie im Internet (auch Large Language Models wie ChatGPT oder Bard sind erlaubt), wie die y-Achse auf das Intervall [0, 135000] begrenzt wird, damit der Vergleich leichter fällt und die Ausreißer \"abgeschnitten\" werden. Modifizieren Sie den gemeinsamen Plot der vier Boxplots entsprechend und beurteilen Sie erneut, wo der Median am ehesten in der Mitte des Interquartilabstandes liegt."
   ]
  }
 ],
 "metadata": {
  "jupytext": {
   "formats": "ipynb,md:myst"
  },
  "kernelspec": {
   "display_name": "Python 3",
   "language": "python",
   "name": "python3"
  }
 },
 "nbformat": 4,
 "nbformat_minor": 5
}
