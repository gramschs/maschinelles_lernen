{
 "cells": [
  {
   "cell_type": "markdown",
   "id": "8dd8a564",
   "metadata": {},
   "source": [
    "# 7. Lineare Regression\n",
    "\n",
    "In diesem Kapitel beschäftigen wir uns mit der linearen Regression. Wie lernen,\n",
    "wie mit Scikit-Learn ein Regressionsmodell trainiert wird und betrachten auch\n",
    "die multiple Regression.\n",
    "\n",
    "## 7.1 Einfache lineare Regression\n",
    "\n",
    "Die lineare Regression gehört zu den überwachten maschinellen Lernverfahren\n",
    "(Supervised Learning). Meist ist sie das erste ML-Modell, das eingesetzt wird,\n",
    "um Regressionsprobleme zu lösen. In diesem Kapitel stellen wir in das Konzept\n",
    "und die Umsetzung der einfachen linearen Regression mit Scikit-Learn ein.\n",
    "\n",
    "### Lernziele Kapitel 7.1\n",
    "\n",
    "* Sie kennen das **lineare Regressionsmodell**.\n",
    "* Sie können erklären, was die **Fehlerquadratsumme** ist.\n",
    "* Sie wissen, dass das Training des lineare Regressionsmodells durch die\n",
    "  **Minimierung** der Fehlerquadratsumme (Kleinste-Quadrate-Schätzer) erfolgt.\n",
    "* Sie können mit Scikit-Learn ein lineares Regressionsmodell trainieren.\n",
    "* Sie können mit einem trainierten linearen Regressionsmodell Prognosen treffen.\n",
    "* Sie können mit dem **Bestimmtheitsmaß** bzw. **R²-Score** beurteilen, ob das\n",
    "  lineare Regressionsmodell geeignet zur Erklärung der Daten ist.\n",
    "\n",
    "### Regression kommt aus der Statistik\n",
    "\n",
    "In der Statistik beschäftigen sich Mathematikerinnen und Mathematiker bereits\n",
    "seit Jahrhunderten damit, Analyseverfahren zu entwickeln, mit denen\n",
    "experimentelle Daten gut erklärt werden können. Falls wir eine \"erklärende”\n",
    "Variable haben und wir versuchen, die Abhängigkeit einer Messgröße von der\n",
    "erklärenden Variable zu beschreiben, nennen wir das Regressionsanalyse oder kurz\n",
    "**Regression**. Bei vielen Problemen suchen wir nach einem linearen Zusammenhang\n",
    "und sprechen daher von **linearer Regression**. Mehr Details finden Sie auch bei\n",
    "[Wikipedia → Regressionsanalyse](https://de.wikipedia.org/wiki/Regressionsanalyse).\n",
    "\n",
    "Etwas präziser formuliert ist lineare Regression ein Verfahren, bei dem es eine\n",
    "Einflussgröße $x$ und eine Zielgröße $y$ gibt. In der ML-Sprechweise wird die\n",
    "Einflussgröße $x$ typischerweise als **Merkmal** (oder englisch **Input** oder\n",
    "**Feature**) bezeichnet. Die **Zielgröße** (manchmal auch **Output** oder\n",
    "**Target** genannt), soll stetig sein (manchmal auch kontinuierlich, metrisch\n",
    "oder quantitativ genannt). Zu dem Merkmal oder den Merkmalen liegen $M$\n",
    "Datenpunkte mit den dazugehörigen Werte der Zielgröße vor. Diese werden\n",
    "üblicherweise als Paare (wenn nur ein Merkmal vorliegt) zusammengefasst:\n",
    "\n",
    "$$(x^{(1)},y^{(1)}), \\, (x^{(2)},y^{(2)}), \\, \\ldots, \\, (x^{(M)},y^{(M)}).$$\n",
    "\n",
    "Ziel der linearen Regression ist es, zwei Parameter $w_0$ und $w_1$ so zu\n",
    "bestimmen, dass möglichst für alle Datenpunkte $(x^{(i)}, y^{(i)})$ die lineare\n",
    "Gleichung\n",
    "\n",
    "$$y^{(i)} \\approx w_0 + w_1 x^{(i)}$$\n",
    "\n",
    "gilt. Geometrisch ausgedrückt: durch die Daten soll eine Gerade gelegt werden,\n",
    "wie die folgende Abbildung zeigt. Die Datenpunkte sind blau, die\n",
    "Regressionsgerade ist in rot visualisiert.\n",
    "\n",
    "![Lineare Regression](https://gramschs.github.io/book_ml4ing/_images/Linear_regression.svg)\n",
    "\n",
    "In der Praxis werden die Daten nicht perfekt auf der Geraden liegen. Die Fehler\n",
    "zwischen dem echten $y^{(i)}$ und dem Funktionswert der Gerade $f(x^{(i)}) = w_0 +\n",
    "w_1 x^{(i)}$ werden unterschiedlich groß sein, je nachdem, welche Parameter\n",
    "$w_0$ und $w_1$ gewählt werden. Wie finden wir jetzt die beste Kombination $w_0$\n",
    "und $w_1$, so dass diese Fehler möglichst klein sind?\n",
    "\n",
    "### Wie groß ist der Fehler?\n",
    "\n",
    "Das Prinzip für das lineare Regressionsmodell und auch die folgenden ML-Modelle\n",
    "ist jedesmal gleich. Das Modell ist eine mathematische Funktion, die aber noch\n",
    "Parameter (hier beispielsweise die Koeffizienten der Gerade) enthält. Dann wird\n",
    "festgelegt, was eine gute Prognose ist, also wie Fehler berechnet und beurteilt\n",
    "werden sollen. Das hängt jeweils von dem betrachteten Problem ab. Sobald das\n",
    "sogenannte Fehlermaß feststeht, werden die Parameter der Modellfunktion so\n",
    "berechnet, dass das Fehlermaß (z.B. Summe der Fehler oder Mittelwert der Fehler)\n",
    "möglichst klein wird. In der Mathematik sagt man dazu **Minimierungsproblem**.\n",
    "\n",
    "Für die lineare Regression wird als Fehlermaß die Kleinste-Quadrate-Schätzung\n",
    "verwendet (siehe [Wikipedia  → Methode der kleinsten\n",
    "Quadrate](https://de.wikipedia.org/wiki/Methode_der_kleinsten_Quadrate)). Dazu\n",
    "berechnen wir, wie weit weg die Gerade von den Messpunkten ist. Wie das geht,\n",
    "veranschaulichen wir uns mit der folgenden Grafik.\n",
    "\n",
    "![R2-Score](https://gramschs.github.io/book_ml4ing/_images/kq_regression.png)\n",
    "\n",
    "Unsere rote Modellfunktion trifft die Messpunkte mal mehr und mal weniger gut.\n",
    "Wir können jetzt für jeden Messpunkt berechnen, wie weit die rote Kurve von ihm\n",
    "weg ist (= grüne Strecke), indem wir die Differenz der y-Koordinaten errechnen:\n",
    "$r = y_{\\text{blau}}-y_{\\text{rot}}$. Diese Differenz nennt man **Residuum**.\n",
    "Danach summieren wir die Fehler (also die Residuen) auf und erhalten den\n",
    "Gesamtfehler. Leider kann es dabei passieren, dass am Ende als Gesamtfehler 0\n",
    "herauskommt, weil beispielsweise für den 1. Messpunkt die blaue y-Koordinate\n",
    "unter der roten y-Koordinate liegt und damit ein negatives Residuum herauskommt,\n",
    "aber für den 5. Messpunkt ein positives Residuum. Daher quadrieren wir die\n",
    "Residuen. Dann wird diese **Fehlerquadratsumme** minimiert, um die Koeffizienten\n",
    "des Regressionsmodells zu berechnen.\n",
    "\n",
    "### Einfache lineare Regression mit Scikit-Learn\n",
    "\n",
    "Nach diesem theoretischen Exkurs möchten wir Scikit-Learn nutzen, um eine\n",
    "einfache lineare Regression durchzuführen. Aus didaktischen Gründen erzeugen wir\n",
    "uns dazu künstliche Daten mit der Funktion `make_regression` des Moduls\n",
    "`sklearn.datasets`. Wir transformieren die zufällig erzeugten Zahlen und packen\n",
    "sie in einen Pandas-DataFrame mit den Merkmalen »Leistung \\[PS\\]« eines Autos\n",
    "und dem »Preis \\[EUR\\]« eines Autos."
   ]
  },
  {
   "cell_type": "code",
   "execution_count": null,
   "id": "e294024f",
   "metadata": {},
   "outputs": [],
   "source": [
    "import numpy as np \n",
    "import pandas as pd \n",
    "from sklearn.datasets import make_regression\n",
    "\n",
    "X_array, y_array = make_regression(n_samples=100, n_features=1, noise=10, random_state=0)\n",
    "\n",
    "daten = pd.DataFrame({\n",
    "    'Leistung [PS]': np.floor(50*(X_array[:,0] + 3)),\n",
    "    'Preis [EUR]': 100*(y_array+150)\n",
    "    })"
   ]
  },
  {
   "cell_type": "markdown",
   "id": "5a9a8eaa",
   "metadata": {},
   "source": [
    "Mehr Details zu der Funktion `make_regression` finden Sie in der [Dokumentation\n",
    "Scikit-Learn →\n",
    "make_regression](https://scikit-learn.org/stable/modules/generated/sklearn.datasets.make_regression.html#sklearn.datasets.make_regression).\n",
    "Wir visualisieren nun den Preis in Abhängigkeit von der Leistung des Autos."
   ]
  },
  {
   "cell_type": "code",
   "execution_count": null,
   "id": "26708ee1",
   "metadata": {},
   "outputs": [],
   "source": [
    "import plotly.express as px \n",
    "\n",
    "fig = px.scatter(daten, x = 'Leistung [PS]', y = 'Preis [EUR]',\n",
    "    title='Künstliche Daten: Verkaufspreise Autos')\n",
    "fig.show()"
   ]
  },
  {
   "cell_type": "markdown",
   "id": "8c7b5944",
   "metadata": {},
   "source": [
    "Es drängt sich die Vermutung auf, dass der Preis eines Autos linear von der\n",
    "Leistung abhängt. Je mehr PS, desto teurer das Auto.\n",
    "\n",
    "Als nächstes trainieren wir ein lineares Regressionsmodell auf den Daten.\n",
    "Lineare ML-Modelle fasst Scikit-Learn in einem Untermodul namens `linear_model`\n",
    "zusammen. Um also das lineare Regressionsmodell `LinearRegression` verwenden zu\n",
    "können, müssen wir es folgendermaßen importieren und initialisieren:"
   ]
  },
  {
   "cell_type": "code",
   "execution_count": null,
   "id": "8fe0d5cc",
   "metadata": {},
   "outputs": [],
   "source": [
    "from sklearn.linear_model import LinearRegression\n",
    "\n",
    "modell = LinearRegression()"
   ]
  },
  {
   "cell_type": "markdown",
   "id": "5fb1d24c",
   "metadata": {},
   "source": [
    "Mit der Methode `.fit()` werden die Parameter des linearen Regressionsmodells an\n",
    "die Daten angepasst. Dazu müssen die Daten in einem bestimmten Format vorliegen.\n",
    "Bei den Inputs wird davon ausgegangen, dass mehrere Merkmale in das Modell\n",
    "eingehen sollen. Die Eigenschaften stehen normalerweise in den Spalten des\n",
    "Datensatzes. Beim Output erwarten wir zunächst nur eine Eigenschaft, die durch\n",
    "das Modell erklärt werden soll. Daher geht Scikit-Learn davon aus, dass der\n",
    "Input eine Tabelle (Matrix) $X$ ist, die M Zeilen und N Spalten hat. M ist die\n",
    "Anzahl an Datenpunkten, hier also die Anzahl der Autos, und N ist die Anzahl der\n",
    "Merkmale, die betrachtet werden sollen. Da wir momentan nur die Abhängigkeit des\n",
    "Preises von der PS-Zahl analysieren wollen, ist $N=1$. Beim Output geht\n",
    "Scikit-Learn davon aus, dass eine Datenreihe (eindimensionaler Spaltenvektor)\n",
    "vorliegt, die natürlich ebenfalls M Zeilen hat. Wir müssen daher unsere\n",
    "PS-Zahlen noch in das Matrix-Format bringen. Dazu verwenden wir den Trick, dass\n",
    "mit `[ [list] ]` eine Tabelle extrahiert wird."
   ]
  },
  {
   "cell_type": "code",
   "execution_count": null,
   "id": "c5d93dad",
   "metadata": {},
   "outputs": [],
   "source": [
    "# Adaption der Daten\n",
    "X = daten[['Leistung [PS]']]\n",
    "y = daten['Preis [EUR]']"
   ]
  },
  {
   "cell_type": "markdown",
   "id": "64a535aa",
   "metadata": {},
   "source": [
    "Danach können wir das lineare Regressionsmodell trainieren."
   ]
  },
  {
   "cell_type": "code",
   "execution_count": null,
   "id": "f2d15687",
   "metadata": {},
   "outputs": [],
   "source": [
    "modell.fit(X,y)"
   ]
  },
  {
   "cell_type": "markdown",
   "id": "1c16f9a6",
   "metadata": {},
   "source": [
    "Es erfolgt keine Ausgabe, aber jetzt ist das lineare Regressionsmodell\n",
    "trainiert. Die durch das Training bestimmten Parameter des Modells sind im\n",
    "Modell selbst abgespeichert. Bei dem linearen Regressionsmodell sind das die\n",
    "beiden Parameter $w_0$ und $w_1$, also Steigung `.coef_` und den\n",
    "y-Achsenabschnitt `.intercept_`."
   ]
  },
  {
   "cell_type": "code",
   "execution_count": null,
   "id": "ffcb32ba",
   "metadata": {},
   "outputs": [],
   "source": [
    "print(f'Steigung: {modell.coef_}')\n",
    "print(f'y-Achsenabschnitt: {modell.intercept_}')"
   ]
  },
  {
   "cell_type": "markdown",
   "id": "38b30707",
   "metadata": {},
   "source": [
    "Damit lautet das lineare Regressionsmodell, um aus der PS-Zahl eines Autos $x$\n",
    "den Verkaufspreis $y$ zu berechnen, folgendermaßen:\n",
    "\n",
    "$$y = 85.2 \\cdot x + 2179.$$\n",
    "\n",
    "### Prognosen treffen\n",
    "\n",
    "Wenn wir die Parameter des trainierten Modells ausgeben lassen bzw. die lineare\n",
    "Funktion $y = 85.2 \\cdot x + 2179$ verwenden, können wir mit dem linearen Modell\n",
    "Prognosen treffen. Den Umweg über das Ausgeben der trainierten Parameter und dem\n",
    "Basteln einer linearen Funktion können wir uns aber sparen, denn Scikit-Learn\n",
    "stellt für Prognosen mit dem trainierten Modell direkt eine Methode zur\n",
    "Verfügung. Mit Hilfe der `predict()`-Methode können für jedes Scikit-ML-Modell\n",
    "Prognosen getroffen werden.\n",
    "\n",
    "Wir möchten uns den kompletten Bereich zwischen 20 PS und 270 PS ansehen und\n",
    "erzeugen daher 100 Punkte in diesem Bereich. Diese packen wir in einen\n",
    "Pandas-DataFrame und verwenden dann die `predict()`-Methode."
   ]
  },
  {
   "cell_type": "code",
   "execution_count": null,
   "id": "d54d89b4",
   "metadata": {},
   "outputs": [],
   "source": [
    "testdaten = pd.DataFrame({\n",
    "    'Leistung [PS]': np.linspace(20, 270)\n",
    "    })\n",
    "prognose = modell.predict(testdaten[['Leistung [PS]']])   "
   ]
  },
  {
   "cell_type": "markdown",
   "id": "e7c83596",
   "metadata": {},
   "source": [
    "Diese Prognose wird dann zusammen mit den Verkaufsdaten in einem Diagramm\n",
    "visualisiert. Dazu generieren wir zuerst den Scatter-Plot mit den Verkaufsdaten\n",
    "und fügen dann mit der Funktion `add_scatter()` einen zweiten Scatter-Plot zu\n",
    "dem ersten hinzu. In diesem Scatter-Plot sollen die Punkte jedoch durch eine\n",
    "Linie verbunden werden, weshalb wir die Option `mode='lines'` nutzen. Zusätzlich\n",
    "kennzeichnen wir die Regressionsgerade noch mit dem Namen `name='Prognose'`."
   ]
  },
  {
   "cell_type": "code",
   "execution_count": null,
   "id": "43f42485",
   "metadata": {},
   "outputs": [],
   "source": [
    "fig = px.scatter(daten, x = 'Leistung [PS]', y = 'Preis [EUR]',\n",
    "    title='Verkaufspreise von Autos')\n",
    "fig.add_scatter(x = testdaten['Leistung [PS]'], y = prognose, mode='lines', name='Prognose')\n",
    "fig.show()"
   ]
  },
  {
   "cell_type": "markdown",
   "id": "27c95659",
   "metadata": {},
   "source": [
    "Der visuelle Eindruck ist gut, aber ist diese Regressionsgerade wirklich das\n",
    "beste Modell? Im nächsten Abschnitt sehen wir uns ein statistisches Bewertungsmaß\n",
    "an, um die Güte des Modells zu beurteilen.\n",
    "\n",
    "### Ist das beste Modell gut genug? Der R²-Score\n",
    "\n",
    "Auch wenn wir mit der Minimierung der Fehlerquadratsumme bzw. der\n",
    "Kleinsten-Quadrate-Methode die besten Parameter für unsere Modellfunktion\n",
    "gefunden haben, heißt das noch lange nicht, dass unser Modell gut ist. Bereits\n",
    "die Modellfunktion kann ja völlig falsch gewählt sein. Beispielsweise könnten\n",
    "wir Messungen rund um eine sinus-förmige Wechselspannung vornehmen und dann wäre\n",
    "ein lineares Regressionsmodell völlig ungeeignet, auch wenn die\n",
    "Fehlerquadratsumme minimal wäre.\n",
    "\n",
    "Wir brauchen daher noch ein Kriterium dafür, ob das trainierte Modell auch\n",
    "valide ist. Für die lineare Regression nehmen wir das **Bestimmtheitsmaß**, das\n",
    "in der ML-Community auch **R²-Score** genannt wird. Der R²-Score wird dabei\n",
    "folgendermaßen interpretiert:\n",
    "\n",
    "* Wenn $R^2 = 1$  ist, dann gibt es den perfekten linearen Zusammenhang und die\n",
    "  Modellfunktion ist eine sehr gute Anpassung an die Messdaten.\n",
    "* Wenn $R^2 = 0$ oder gar negativ ist, dann funktioniert die lineare\n",
    "  Modellfunktion überhaupt nicht.\n",
    "\n",
    "Auf der Seite [https://mathweb.de](https://mathweb.de) finden Sie eine Reihe von\n",
    "Aufgaben und interaktiven Demonstrationen rund um die Mathematik. Insbesondere\n",
    "gibt es dort auch eine interaktive Demonstration des R²-Scores.\n",
    "\n",
    "Drücken Sie auf den zwei kreisförmigen Pfeile rechts oben. Dadurch wird ein\n",
    "neuer Datensatz erzeugt. Die Messdaten sind durch grüne Punkte dargestellt, das\n",
    "lineare Regressionsmodell durch eine blaue Gerade. Im Titel wird der aktuelle\n",
    "und der optimale R²-Wert angezeigt. Ziehen Sie an den weißen Punkten, um die\n",
    "Gerade zu verändern. Schaffen Sie es, den optimalen R²-Score zu treffen?\n",
    "Beobachten Sie dabei, wie die Fehler (rot) kleiner werden.\n",
    "\n",
    "> <https://lti.mint-web.de/examples/index.php?id=01010320>\n",
    "\n",
    "Wie ist nun der R²-Score für das trainierte lineare Regressionsmodell? Dazu\n",
    "verwenden wir die `score()`-Methode."
   ]
  },
  {
   "cell_type": "code",
   "execution_count": null,
   "id": "f1c7b72b",
   "metadata": {},
   "outputs": [],
   "source": [
    "r2_score = modell.score(X,y)\n",
    "print(f'Der R2-Score für das lineare Regressionsmodell ist: {r2_score:.2f}.')"
   ]
  },
  {
   "cell_type": "markdown",
   "id": "93c4d0ff",
   "metadata": {},
   "source": [
    "Das lineare Regressionsmodell kann für die Trainingsdaten sehr gut die\n",
    "Verkaufspreise prognostizieren. Wie gut es allerdings noch unbekannte Daten\n",
    "prognostizieren könnte, ist ungewiss.\n",
    "\n",
    "### Zusammenfassung und Ausblick Kaptel 7.1\n",
    "\n",
    "In diesem Abschnitt haben Sie das theoretische Modell der linearen Regression\n",
    "kennengelernt. Das Training eines linearen Regressionsmodells mit Scikit-Learn\n",
    "erfolgt wie üblich mit der `fit()`-Methode, die Prognose mit der\n",
    "`predict()`-Methode. Bewerten können Sie Prognosequalität mit der\n",
    "`score()`-Methode. Im nächsten Kapitel betrachten wir die lineare Regression,\n",
    "bei der die Zielgröße von mehreren Merkmalen abhängt\n",
    "\n",
    "## 7.2 Multiple lineare Regression\n",
    "\n",
    "Bisher haben wir nur ein einzelnes Merkmal aus den gesammelten Daten\n",
    "herausgegriffen und untersucht, ob es zwischen diesem Merkmal und der Zielgröße\n",
    "einen linearen Zusammenhang gibt. So simpel ist die Welt normalerweise nicht,\n",
    "oft wirken mehrere Einflussfaktoren gleichzeitig. Daher steht die **multiple\n",
    "lineare Regression** in diesem Kapitel im Fokus.\n",
    "\n",
    "### Lernziele Kapitel 7.2\n",
    "\n",
    "* Sie wissen, was eine **multiple lineare Regression** ist und können sie mit\n",
    "  Scikit-Learn durchführen.\n",
    "* Sie wissen, was **positive lineare Korrelation** und **negative lineare\n",
    "  Korrelation** bedeuten.\n",
    "* Sie können die lineare Korrelation der Merkmale miteinander mit Hilfe der\n",
    "  **Korrelationsmatrix** beurteilen.\n",
    "* Sie können die Korrelationsmatrix als **Heatmap** visualisieren.\n",
    "\n",
    "### Zwei Merkmale: PS und Alter beinflussen Preis\n",
    "\n",
    "Im vorherigen Kapitel haben wir den Einfluss des Merkmals `Leistung [PS]` auf\n",
    "die Zielgröße `Preis [EUR]` betrachtet. Nun wollen wir noch das Merkmal `Alter`\n",
    "gemessen in Jahren hinzunehmen. 0 Jahre meint dabei einen Neuwagen. Aus\n",
    "didaktischen Gründen werden wir auch hier künstlich erzeugte Daten nutzen, um\n",
    "die multiple lineare Regression zu erklären. Als erstes erzeugen wir die Daten,\n",
    "diesmal direkt mit Hilfsmitteln des Moduls NumPy."
   ]
  },
  {
   "cell_type": "code",
   "execution_count": null,
   "id": "6bbff7b7",
   "metadata": {},
   "outputs": [],
   "source": [
    "import numpy as np \n",
    "import pandas as pd \n",
    "\n",
    "np.random.seed(0)\n",
    "anzahl_autos = 100\n",
    "\n",
    "x = np.floor( np.random.uniform(0, 11, anzahl_autos) )\n",
    "y = np.floor( np.random.uniform(50, 301, anzahl_autos) )\n",
    "z = np.floor( -2000 * x + 200 * y + 500 * np.random.normal(0, 1, anzahl_autos) + 10000 )\n",
    "\n",
    "daten = pd.DataFrame({\n",
    "    'Alter': x,\n",
    "    'Leistung [PS]': y,\n",
    "    'Preis [EUR]': z\n",
    "    })"
   ]
  },
  {
   "cell_type": "markdown",
   "id": "e7d2c382",
   "metadata": {},
   "source": [
    "Dann visualisieren wir die Daten."
   ]
  },
  {
   "cell_type": "code",
   "execution_count": null,
   "id": "d87933f1",
   "metadata": {},
   "outputs": [],
   "source": [
    "import plotly.express as px\n",
    "\n",
    "fig = px.scatter_3d(daten, x = 'Alter', y = 'Leistung [PS]', z = 'Preis [EUR]',\n",
    "  title='Künstliche Verkaufspreise für Autos')\n",
    "fig.show()"
   ]
  },
  {
   "cell_type": "markdown",
   "id": "5924ff6e",
   "metadata": {},
   "source": [
    "Mehr als zwei Merkmale und eine Zielgröße können wir nicht sinnvoll\n",
    "visualisieren. Um insbesondere zu visualisieren, wie die Zielgröße von jedem\n",
    "einzelnen Merkmal abhängt, verwenden wir die Scattermatrix. Das hilft uns auch\n",
    "zu erkennen, ob vielleicht ein Merkmal von einem anderen Merkmal abhängt."
   ]
  },
  {
   "cell_type": "code",
   "execution_count": null,
   "id": "acc17058",
   "metadata": {},
   "outputs": [],
   "source": [
    "fig = px.scatter_matrix(daten,\n",
    "    title='Künstliche Daten: Verkaufspreise Autos')\n",
    "fig.show()"
   ]
  },
  {
   "cell_type": "markdown",
   "id": "0103afbc",
   "metadata": {},
   "source": [
    "Wir betrachten die letzte Zeile, in der die Zielgröße auf der y-Achse\n",
    "aufgetragen ist. In der ersten Spalte wird der Preis abhängig vom Alter\n",
    "dargestellt. Je älter das Auto, desto geringer der Preis. In der zweiten Spalte\n",
    "wird der Preis abhängig von der Leistung gezeigt. Je leistungsstärker ein Auto,\n",
    "desto höher der Preis. Insbesondere vermittelt das Diagramm den Eindruck, dass\n",
    "durch die Punktewolke sehr gut eine Regressionsgerade gelegt werden könnte, was\n",
    "bei der Abhängigkeit Alter -- Preis eher fraglich ist.\n",
    "\n",
    "Wir trainieren jetzt ein lineares Regressionsmodell\n",
    "\n",
    "$$y = w_0 + w_1 \\cdot x_1 + w_2 \\cdot x_2.$$\n",
    "\n",
    "Damit ist gemeint, dass wir die Gewichte $w_0, w_1$ und $w_2$ des Modells so\n",
    "bestimmen wollen, dass der Preis $y$ möglichst gut durch die beiden Merkmale\n",
    "Alter $x_1$ und Leistung $x_2$ prognostiziert wird.\n",
    "\n",
    "In einem ersten Schritt laden wir das lineare Regressionsmodul."
   ]
  },
  {
   "cell_type": "code",
   "execution_count": null,
   "id": "0769af6a",
   "metadata": {},
   "outputs": [],
   "source": [
    "from sklearn.linear_model import LinearRegression\n",
    "\n",
    "modell = LinearRegression()"
   ]
  },
  {
   "cell_type": "markdown",
   "id": "5b6e18bc",
   "metadata": {},
   "source": [
    "Dann adaptieren wir die Daten."
   ]
  },
  {
   "cell_type": "code",
   "execution_count": null,
   "id": "01c9ca7b",
   "metadata": {},
   "outputs": [],
   "source": [
    "# Adaption der Daten\n",
    "X = daten[['Alter', 'Leistung [PS]']]\n",
    "y = daten['Preis [EUR]']"
   ]
  },
  {
   "cell_type": "markdown",
   "id": "a2e6fddb",
   "metadata": {},
   "source": [
    "Jetzt können wir das lineare Regressionsmodell von Scikit-Learn mit der\n",
    "`.fit()`-Methode trainieren. Wir lassen auch gleich den R²-Score mit ausgeben."
   ]
  },
  {
   "cell_type": "code",
   "execution_count": null,
   "id": "1dad5e11",
   "metadata": {},
   "outputs": [],
   "source": [
    "# Training\n",
    "modell.fit(X, y)\n",
    "\n",
    "# Validierung\n",
    "r2_score = modell.score(X, y)\n",
    "print(f'Der R2-Score ist: {r2_score:.4f}')"
   ]
  },
  {
   "cell_type": "markdown",
   "id": "2700d974",
   "metadata": {},
   "source": [
    "Schauen wir uns doch einmal an, welche Koeffizienten von Scikit-Learn für unsere\n",
    "mehrdimensionale lineare Modellfunktion gefunden wurden."
   ]
  },
  {
   "cell_type": "code",
   "execution_count": null,
   "id": "b393e817",
   "metadata": {},
   "outputs": [],
   "source": [
    "print(f'Achsenabschnitt w0: {modell.intercept_:.2f}')\n",
    "print(f'Koeffizienten (Steigungen): {modell.coef_}')"
   ]
  },
  {
   "cell_type": "markdown",
   "id": "8498ff3e",
   "metadata": {},
   "source": [
    "Damit lautet unsere Modellfunktion abhängig von Alter und Leistung also\n",
    "\n",
    "$$y = f(x_1, x_2) = 10168 -2025\\cdot x_1 + 199\\cdot x_2.$$\n",
    "\n",
    "### Korrelationsmatrix\n",
    "\n",
    "Das Prognoseergebnis des multiplen linearen Regressionsmodell ist für die\n",
    "Trainingsdaten sehr gut. Beim Betrachten der Scattermatrix wirkt das Merkmal\n",
    "Leistung mehr einen linearen Einfluss zu haben als das Alter. Als nächstes\n",
    "wollen wir bewerten, wie viel mehr der lineare Einfluss jedes einzelnen Merkmals\n",
    "auf die Zielgröße ist. Dazu betrachten wir die sogenannte\n",
    "**Korrelationsmatrix**. Mit der Methode `corr()` können wir sie einfach\n",
    "berechnen lassen:"
   ]
  },
  {
   "cell_type": "code",
   "execution_count": null,
   "id": "dcae55f0",
   "metadata": {},
   "outputs": [],
   "source": [
    "daten.corr()"
   ]
  },
  {
   "cell_type": "markdown",
   "id": "02c2066f",
   "metadata": {},
   "source": [
    "In der ersten Zeile 'Alter' wird die Stärke der Korrelation von der Ursache\n",
    "Alter auf die Zielgrößen Alter, Leistung und Preis bewertet. Wenn eine Erhöhung\n",
    "der Ursache zu einer Erhöhung der Wirkung führt, nennt man das **positiv\n",
    "korreliert**. Der umgekehrte Fall ist, wenn eine Verminderung der Ursache zu\n",
    "einer Erhöhung der Wirkung führt. Dann spricht man von **negativ korreliert**.\n",
    "Die Zahl 1 drückt dabei aus, dass die beiden Merkmale perfekt linear positiv\n",
    "korreliert sind. In der ersten Zeile und der ersten Zeile wird der Einfluss des\n",
    "Alters auf die Zielgröße Alter bewertet. Dort muss eine 1 stehen, denn hier sind\n",
    "ja Ursache und Wirkung identisch. In der ersten Zeile und der zweiten Spalte\n",
    "wird die lineare Korrelation zwischen Alter und Leistung bewertet. Die Zahl\n",
    "-0.074244 ist nahe bei 0 und bedeutet daher, dass es nur einen sehr, sehr\n",
    "schwachen Zusammenhang zwischen Alter und Leistung gibt, wenn überhaupt. Unser\n",
    "technisches Verständnis eines Autos bestätigt, dass Alter und PS nicht\n",
    "zusammenhängen (zumidnest, wenn man die Leistung des Autos nimmt, wie sie im\n",
    "Fahrzeugschien eingetragen ist). Dahingegen scheint es eine schwache negative\n",
    "Korrelation zwischen Alter und Preis zu geben. Je älter ein Auto ist, desto\n",
    "geringer ist sein Preis. -1 würde bedeuten, dass die negative Korrelation\n",
    "perfekt ist.\n",
    "\n",
    "Am stärksten linear scheint sich die Leistung auf den Preis auszuwirken. In der\n",
    "zweiten Zeile und der dritten Spalte findet sich der Eintrag 0.914003. Je größer\n",
    "die Leistung des Autos, desto höher sein Preis.\n",
    "\n",
    "### Heatmaps\n",
    "\n",
    "Es ist üblich, die Korrelationsmatrix als sogenanntes Heatmap-Diagramm zu\n",
    "visualisieren. Bei einer Heatmap wird die Zahlenwerte der Matrix durch Farben\n",
    "visualisiert. Ploty Express bietet dazu die Funktion `imshow()` an."
   ]
  },
  {
   "cell_type": "code",
   "execution_count": null,
   "id": "fbb9e7bf",
   "metadata": {},
   "outputs": [],
   "source": [
    "korrelationsmatrix = daten.corr()\n",
    "\n",
    "fig = px.imshow(korrelationsmatrix)\n",
    "fig.show()"
   ]
  },
  {
   "cell_type": "markdown",
   "id": "46ecef41",
   "metadata": {},
   "source": [
    "Es ist hilfreich, die Werte der Korrelationsmatrix direkt in der Heatmap\n",
    "anzeigen zu lassen. Daher verwenden wir die zusätzliche Option `text_auto=True`."
   ]
  },
  {
   "cell_type": "code",
   "execution_count": null,
   "id": "a07af8c0",
   "metadata": {},
   "outputs": [],
   "source": [
    "fig = px.imshow(korrelationsmatrix, text_auto=True)\n",
    "fig.show()"
   ]
  },
  {
   "cell_type": "markdown",
   "id": "bb99077b",
   "metadata": {},
   "source": [
    "Weitere Optionen zum Stylen der Heatmaps finden Sie in der [Plotly Dokumentation\n",
    "→ Heatmaps in Plotly](https://plotly.com/python/heatmaps/).\n",
    "\n",
    "### Zusammenfassung Kapitel 7.2\n",
    "\n",
    "In diesem Kapitel haben wir uns mit der linearen multiplen Regression\n",
    "beschäftigt. Es wird eine lineare Modellfunktion für einen oder mehrere\n",
    "Einflussfaktoren gesucht. Die Parameter der Modellfunktion, also die\n",
    "Koeffizienten der mehrdimensionalen linearen Funktion werden so an die Daten\n",
    "angepasst, dass die Fehlerquadratsumme möglichst klein wird. Um beurteilen zu\n",
    "können, ob die beste gefundene Modellfunktion eine gute Prognose liefert, werten\n",
    "wir den R²-Score aus.\n",
    "\n",
    "Um zu analysieren, ob einzelne Merkmale miteinander linear korreliert sind,\n",
    "werden die Korrelationsmatrix und die Heatmap eingesetzt\n",
    "\n",
    "## 7.3 Polynomiale Regression\n",
    "\n",
    "In den letzten beiden Kapiteln haben wir uns mit der linearen Regression\n",
    "befasst. Dabei haben wir die einfache lineare Regression betrachtet, bei der die\n",
    "Zielgröße von einem einzelnen Merkmal abhängt, sowie die multiple lineare\n",
    "Regression, bei der die Zielgröße von mehreren Merkmalen beeinflusst wird. In\n",
    "diesem Kapitel werden wir uns damit beschäftigen, wie eine Regression für\n",
    "quadratische, kubische oder allgemein für polynomiale Modelle durchgeführt wird.\n",
    "\n",
    "### Lernziele Kapitel 7.3\n",
    "\n",
    "* Sie können eine **polynomiale Regression** durchführen.\n",
    "* Sie wissen, dass die Wahl des Polynomgrades entscheidend dafür ist, ob\n",
    "  **Underfitting (Unteranpassung)**, **Overfitting (Überanpassung)** oder ein\n",
    "  geeignetes Modell vorliegt.\n",
    "* Sie wissen, dass der Polynomgrad ein **Hyperparameter** ist.\n",
    "\n",
    "### Künstliches Experiment zu Bremswegen eines Autos\n",
    "\n",
    "Ausnahmsweise werden wir uns in diesem Kapitel nicht mit dem Verkauf von Autos\n",
    "beschäftigen, sondern mit dem Bremsweg von Autos. Die Faustformel zur Berechnung\n",
    "des Bremsweges $s$ in Metern lautet\n",
    "\n",
    "$$s = \\frac{1}{100} \\cdot v^2,$$\n",
    "\n",
    "wobei die Geschwindigkeit $v$ des Autos in km/h angegeben wird. Natürlich\n",
    "variiert der tatsächliche Bremsweg abhängig von der Straßenoberfläche (trocken /\n",
    "nass / vereist) oder dem Fahrzeugtyp (inbesondere Leistung der Bremse). Wird die\n",
    "Bremsung aufgrund eines plötzlich auftauchenden Hindernisses eingeleitet, kommt\n",
    "zum Bremwsweg noch der Reaktionsweg hinzu. Mehr Details finden Sie auf den\n",
    "Internetseiten des ADAC unter [Bremsweg berechnen: Mit dieser Formel\n",
    "geht's](https://www.adac.de/verkehr/rund-um-den-fuehrerschein/erwerb/bremsweg-berechnen/).\n",
    "\n",
    "Wir simulieren nun ein Experiment, bei dem der Bremsweg von Autos abhängig von\n",
    "der Geschwindigkeit gemessen wird. In einem ersten schritt erzeugen wir zufällig\n",
    "50 Geschwindigkeiten zwischen 30 km/h und 150 km/h. Gemäß der obigen Faustformel\n",
    "lassen wir zunächst die dazugehörigen Bremswege berechnen, addieren dann aber\n",
    "noch zufällige Schwankungen."
   ]
  },
  {
   "cell_type": "code",
   "execution_count": null,
   "id": "8ddeca7f",
   "metadata": {},
   "outputs": [],
   "source": [
    "import numpy as np \n",
    "import pandas as pd \n",
    "\n",
    "np.random.seed(0)\n",
    "anzahl_experimente = 50\n",
    "v_min = 30\n",
    "v_max = 151\n",
    "\n",
    "v = np.floor( np.random.uniform(v_min, v_max, anzahl_experimente) )\n",
    "zufaellige_schwankungen = 3 * np.random.normal(0, 1, anzahl_experimente)\n",
    "bremsweg = 1/100 * v**2 \n",
    "\n",
    "daten = pd.DataFrame({\n",
    "    'Geschwindigkeit [km/h]': v,\n",
    "    'Bremsweg [m]': bremsweg + zufaellige_schwankungen,\n",
    "    })"
   ]
  },
  {
   "cell_type": "markdown",
   "id": "3a70008f",
   "metadata": {},
   "source": [
    "Als nächstes lassen wir die künstlich erzeugten Bremsweg-Experimente visualisieren."
   ]
  },
  {
   "cell_type": "code",
   "execution_count": null,
   "id": "b4e177f5",
   "metadata": {},
   "outputs": [],
   "source": [
    "import plotly.express as px \n",
    "\n",
    "fig = px.scatter(daten, x = 'Geschwindigkeit [km/h]', y = 'Bremsweg [m]',\n",
    "    title='Künstliche Daten: Bremsweg eines Autos')\n",
    "fig.show()"
   ]
  },
  {
   "cell_type": "markdown",
   "id": "6ac3f88a",
   "metadata": {},
   "source": [
    "### Erster Versuch: lineare Regression\n",
    "\n",
    "Als erstes verwenden wir die lineare Regression, um ein Modell für die Messdaten\n",
    "zu finden. Wenn wir die Geschwindigkeit mit $x$ bezeichnen und den Bremsweg mit\n",
    "$y$, dann lautet das lineare Regressionsmodell\n",
    "\n",
    "$$y = \\omega_0 + \\omega_1 \\cdot x.$$"
   ]
  },
  {
   "cell_type": "code",
   "execution_count": null,
   "id": "d95cb856",
   "metadata": {},
   "outputs": [],
   "source": [
    "from sklearn.linear_model import LinearRegression\n",
    "\n",
    "# Adaption der Daten\n",
    "X = daten[['Geschwindigkeit [km/h]']]\n",
    "y = daten['Bremsweg [m]']\n",
    "\n",
    "# Training des Modells\n",
    "model = LinearRegression()\n",
    "model.fit(X, y)\n",
    "\n",
    "# Bewertung\n",
    "r2_score = model.score(X, y)\n",
    "print(f'R2-score Trainingsdaten: {r2_score}')"
   ]
  },
  {
   "cell_type": "markdown",
   "id": "eeba3cf0",
   "metadata": {},
   "source": [
    "Der R2-Score sieht sehr gut aus. Um uns einen Eindruck zu verschaffen, wie gut\n",
    "das lineare Modell tatsächlich ist (wir wissen ja, dass es eigentlich\n",
    "quadratisch ist!), erzeugen wir nun systematisch Geschwindigkeiten in dem\n",
    "Bereich von 30 km/h und 150 km/h und verwenden die Faustformel für die\n",
    "Berechnung der Bremswege."
   ]
  },
  {
   "cell_type": "code",
   "execution_count": null,
   "id": "d527bac9",
   "metadata": {},
   "outputs": [],
   "source": [
    "v_test = np.linspace(v_min, v_max, 200)\n",
    "s_test = 1/100 * v_test**2\n",
    "testdaten = pd.DataFrame({\n",
    "    'Geschwindigkeit [km/h]': v_test,\n",
    "    'Bremsweg [m]': s_test\n",
    "    })"
   ]
  },
  {
   "cell_type": "markdown",
   "id": "60475291",
   "metadata": {},
   "source": [
    "Mit Hilfe des linearen Regressionsmodells prognostizieren wir die Bremswege für\n",
    "diese Geschwindigkeiten und lassen den R2-Score berechnen."
   ]
  },
  {
   "cell_type": "code",
   "execution_count": null,
   "id": "7d2e1111",
   "metadata": {},
   "outputs": [],
   "source": [
    "# Prognose \n",
    "X_test = testdaten[['Geschwindigkeit [km/h]']]\n",
    "y_test = testdaten['Bremsweg [m]']\n",
    "y_prognose = model.predict(X_test)\n",
    "\n",
    "# Bewertung\n",
    "r2_score = model.score(X_test, y_test)\n",
    "print(f'R2-score Testdaten: {r2_score}')"
   ]
  },
  {
   "cell_type": "markdown",
   "id": "022f23a8",
   "metadata": {},
   "source": [
    "Zuletzt visualisieren wir die Prognose."
   ]
  },
  {
   "cell_type": "code",
   "execution_count": null,
   "id": "877bb208",
   "metadata": {},
   "outputs": [],
   "source": [
    "fig = px.scatter(daten, x = 'Geschwindigkeit [km/h]', y = 'Bremsweg [m]',\n",
    "    title='Bremsweg eines Autos: lineares Modell')\n",
    "fig.add_scatter(x = testdaten['Geschwindigkeit [km/h]'], y = y_prognose, mode='lines', name='Prognose')\n",
    "fig.add_scatter(x = testdaten['Geschwindigkeit [km/h]'], y = y_test, mode='lines', name='Faustformel')\n",
    "fig.show()"
   ]
  },
  {
   "cell_type": "markdown",
   "id": "602c2a2f",
   "metadata": {},
   "source": [
    "Vor allem die Visualisierung zeigt die Schwächen des linearen Modells. Bei\n",
    "niedrigen Geschwindigkeiten wie in der Stadt unterschätzt das lineare Modell den\n",
    "Bremsweg. Unterhalb von 40 km/h prognostiziert das Modell sogar einen negativen\n",
    "Bremsweg. Zwischen 60 km/h und 120 km/h überschätzt das Modell den Bremsweg und\n",
    "oberhalb von 120 km/h unterschätzt es den Bremsweg wieder. Das Modell ist zu\n",
    "einfach für die Prognose, es liegt **Underfitting** vor. Daher probieren wir\n",
    "als nächstes ein quadratisches Regressionsmodell aus.\n",
    "\n",
    "### Quadratische Regression\n",
    "\n",
    "Wenn Sie in der Dokumentation von Scikit-Learn nun nach einer Funktion zur\n",
    "quadratischen Regression suchen, werden Sie nicht fündig werden. Tatsächlich\n",
    "brauchen wir auch keine eigenständige Funktion, sondern können uns mit einem\n",
    "Trick weiterhelfen.\n",
    "\n",
    "Das lineare Regressionsmodell, das wir eben ausprobiert haben, lautet\n",
    "mathematisch formuliert folgendermaßen:\n",
    "\n",
    "$$y = \\omega_0 + \\omega_1 \\cdot x$$\n",
    "\n",
    "mit nur einem Merkmal $x$, nämlich der Geschwindigkeit.\n",
    "\n",
    "Wenn wir eine quadratische Funktion als Modellfunktion wählen möchten, erzeugen\n",
    "wir einfach ein zweites Merkmal. Wir nennen die bisherigen x-Werte $x$\n",
    "jetzt $x_1$ und fügen als zweites Merkmal die neue Eigenschaft\n",
    "\n",
    "$$x_2 = \\left( x_1 \\right)^2$$\n",
    "\n",
    "hinzu. Damit wird aus dem quadratischen Regressionsmodell\n",
    "\n",
    "$$y = w_0 + w_1 \\cdot x + w_2 \\cdot x^2$$\n",
    "\n",
    "das *multiple* lineare Regressionsmodell\n",
    "\n",
    "$$y = w_0 + w_1 \\cdot x_1 + w_2 \\cdot x_2.$$\n",
    "\n",
    "Scikit-Learn stellt auch hier passende Methoden bereit. Aus dem\n",
    "Vorbereitungsmodul `sklearn.preprocessing` importieren wir `PolynomialFeatures`.\n",
    "Mehr Details dazu finden Sie in der [Dokumentation Scikit-Learn →\n",
    "PolynomialFeature](https://scikit-learn.org/stable/modules/generated/sklearn.preprocessing.PolynomialFeatures.html).\n",
    "Wir erzeugen das PolynomialFeature-Objekt mit der Option `degree=2`, um die\n",
    "Quadrate hinzuzufügen. Dann transformieren wir die Input-Daten, indem wir die\n",
    "`fit_transform()`-Methode auf den Input anwenden."
   ]
  },
  {
   "cell_type": "code",
   "execution_count": null,
   "id": "36ea23a2",
   "metadata": {},
   "outputs": [],
   "source": [
    "from sklearn.preprocessing import PolynomialFeatures\n",
    "\n",
    "# Adaption der Daten\n",
    "polynom_transformator = PolynomialFeatures(degree = 2)\n",
    "X = polynom_transformator.fit_transform(daten[['Geschwindigkeit [km/h]']])\n",
    "y = daten['Bremsweg [m]']"
   ]
  },
  {
   "cell_type": "markdown",
   "id": "5addc53c",
   "metadata": {},
   "source": [
    "Danach können wir das multiple lineare Regressionsmodell trainieren und bewerten\n",
    "lassen."
   ]
  },
  {
   "cell_type": "code",
   "execution_count": null,
   "id": "02071198",
   "metadata": {},
   "outputs": [],
   "source": [
    "# Training des Modells\n",
    "model = LinearRegression()\n",
    "model.fit(X, y)\n",
    "\n",
    "# Bewertung\n",
    "r2_score = model.score(X, y)\n",
    "print(f'R2-score Trainingsdaten: {r2_score}')"
   ]
  },
  {
   "cell_type": "markdown",
   "id": "bedd8595",
   "metadata": {},
   "source": [
    "Zuletzt lassen wir das quadratische Regressionsmodell noch visualiseren. Wichtig\n",
    "ist, dass nun auch die Testdaten quadriert werden müssen, da das ML-Modell für\n",
    "Prognosen voraussetzt, dass die Daten in der gleichen Art und Weise vorliegen\n",
    "wie die Trainingsdaten. Wir müssen denselben  Transformator nehmen wie zum\n",
    "Training der Daten und neutzen daher nur die `transform()`-Methode."
   ]
  },
  {
   "cell_type": "code",
   "execution_count": null,
   "id": "c0e7b621",
   "metadata": {},
   "outputs": [],
   "source": [
    "# Prognose \n",
    "X_test = polynom_transformator.transform(testdaten[['Geschwindigkeit [km/h]']])\n",
    "y_prognose = model.predict(X_test)\n",
    "   \n",
    "fig = px.scatter(daten, x = 'Geschwindigkeit [km/h]', y = 'Bremsweg [m]',\n",
    "    title='Bremsweg eines Autos: quadratisches Modell')\n",
    "fig.add_scatter(x = testdaten['Geschwindigkeit [km/h]'], y = y_prognose, mode='lines', name='Prognose')\n",
    "fig.add_scatter(x = testdaten['Geschwindigkeit [km/h]'], y = y_test, mode='lines', name='Faustformel')\n",
    "fig.show()"
   ]
  },
  {
   "cell_type": "markdown",
   "id": "bec8ed2e",
   "metadata": {},
   "source": [
    "Die Prognose ist so gut, dass wir die Prognose (rot) und die Faustformel (grün)\n",
    "kaum unterscheiden können. Kleinere Abweichungen gibt es bei den Bremswegen für\n",
    "Geschwindigkeiten oberhalb von 130 km/h. Zoomen Sie in den Plot hinein, um sich\n",
    "die Unterschiede anzusehen.\n",
    "\n",
    "**Bemerkung:** Dieser Trick wird auch bei anderen ML-Verfahren angewandt. Aus\n",
    "einem Merkmal, aus einer Eigenschaft werden jetzt eine neue Eigenschaften\n",
    "erzeugt. Aus einem eindimensionalen Input wird ein zweidimensionaler Input.\n",
    "Mathematisch gesehen haben wir die Input-Daten in einen höherdimensionalen\n",
    "Bereich projiziert. Diese Methode nennt man **Kernel-Trick**. Es ist auch\n",
    "möglich, andere Funktionen zu benutzen, um die Daten in einen höherdimensionalen\n",
    "Raum zu projizieren, z.B. radiale Gaußsche Basisfunktionen. Das nennt man dann\n",
    "**Kernel-Methoden**. In dieser Vorlesung bleiben wir aber bei den Polynomen als\n",
    "Basisfunktion.\n",
    "\n",
    "### Polynomiale Regression\n",
    "\n",
    "Mit diesem Trick, die Merkmale zu quadrieren, können wir weitermachen, z.B. die\n",
    "Merkmale mit 3 potenzieren. Letztendlich können wir so jedes gewünschte Polynom\n",
    "als Regressionspolynom trainieren lassen. Das ein höheres Polynom nicht\n",
    "unbedingt besser sein muss, zeigt das folgende Beispiel. Wir wählen als\n",
    "Polynomgrad 14."
   ]
  },
  {
   "cell_type": "code",
   "execution_count": null,
   "id": "18897b5d",
   "metadata": {},
   "outputs": [],
   "source": [
    "# Adaption der Daten\n",
    "polynom_transformator = PolynomialFeatures(degree = 14)\n",
    "X = polynom_transformator.fit_transform(daten[['Geschwindigkeit [km/h]']])\n",
    "y = daten['Bremsweg [m]']\n",
    "\n",
    "# Training des Modells\n",
    "model = LinearRegression()\n",
    "model.fit(X, y)\n",
    "\n",
    "# Bewertung\n",
    "r2_score = model.score(X, y)\n",
    "print(f'R2-score Trainingsdaten: {r2_score}')\n",
    "\n",
    "# Prognose\n",
    "X_test = polynom_transformator.transform(testdaten[['Geschwindigkeit [km/h]']])\n",
    "y_prognose = model.predict(X_test)\n",
    "\n",
    "fig = px.scatter(daten, x = 'Geschwindigkeit [km/h]', y = 'Bremsweg [m]',\n",
    "    title='Bremsweg eines Autos: Polynom 14. Grades')\n",
    "fig.add_scatter(x = testdaten['Geschwindigkeit [km/h]'], y = y_prognose, mode='lines', name='Prognose')\n",
    "fig.add_scatter(x = testdaten['Geschwindigkeit [km/h]'], y = y_test, mode='lines', name='Faustformel')\n",
    "fig.show()"
   ]
  },
  {
   "cell_type": "markdown",
   "id": "23b84f3f",
   "metadata": {},
   "source": [
    "Nach 150 km/h wird der Brewmsweg wieder weniger, was natürlich nicht mit der\n",
    "Praxis übereinstimmt. Die Visualisierung der Prognose zeigt, dass das ein\n",
    "polynomiales Regressionsmodell mit Grad 14 zu sehr an die Trainingsdaten\n",
    "angepasst ist und für neue Daten (siehe Geschwindigkeiten größer 150 km/h) nicht\n",
    "gut geeignet ist. Es liegt **Overfitting** vor.\n",
    "\n",
    "Bei der polynomialen Regression wird der Polynomgrad zu einem\n",
    "**Hyperparameter**. Hyperparameter haben wir auch schon bei den\n",
    "Entscheidungsbäumen (Decision Trees) kennengelernt. Zur Wiederholung geben wir\n",
    "hier erneut die Definition an.\n",
    "\n",
    "### Was ist ... ein Hyperparameter?\n",
    "\n",
    "Ein Hyperparameter ist ein Parameter, der vor dem Training eines Modells\n",
    "festgelegt wird und nicht aus den Daten während des Trainings gelernt wird. Die\n",
    "Hyperparameter steuern den gesamten Lernprozess und haben einen wesentlichen\n",
    "Einfluss auf die Leistung des Modells.\n",
    "\n",
    "### Zusammenfassung und Ausblick\n",
    "\n",
    "In diesem Kapitel haben wir die polynomiale Regression mit Scikit-Learn\n",
    "kennengelernt. Auch bei der polynomialen Regression ist die Wahl des\n",
    "Hyperparameters Polynomgrad wichtig. Im nächsten Kapitel werden wir uns ansehen.\n",
    "wie Hyperparameter getunt werden können.\n",
    "\n",
    "## Übungen\n",
    "\n",
    "### Aufgabe 7.1 Bevölkerungszahlen in Deutschland\n",
    "\n",
    "In dieser Aufgabe betrachten wir den Datensatz `population_germany.csv`. Führen\n",
    "Sie zuerst eine explorative Datenanalyse durch. Geben Sie dann mit Hilfe eines\n",
    "Entscheidungsbaumes (Decision Tree) und eines linearen Regressionsmodells\n",
    "jeweils eine Prognose ab, wie viele Menschen in Deutschland im Jahr 2100 leben\n",
    "werden. Unterscheiden sich die beiden Prognosen?\n",
    "\n",
    "#### Überblick über die Daten\n",
    "\n",
    "Laden Sie die csv-Datei `population_germany.csv`. Welche Daten enthält die\n",
    "Datei? Wie viele Datenpunkte sind vorhanden? Wie viele und welche Merkmale gibt\n",
    "es? Sind die Daten vollständig? Welche Datentypen haben die Merkmale?"
   ]
  },
  {
   "cell_type": "code",
   "execution_count": null,
   "id": "af518bcb",
   "metadata": {},
   "outputs": [],
   "source": [
    "#"
   ]
  },
  {
   "cell_type": "markdown",
   "id": "988ac50d",
   "metadata": {},
   "source": [
    "#### Statistik der numerischen Daten\n",
    "\n",
    "Erstellen Sie eine Übersicht der statistischen Kennzahlen für die numerischen\n",
    "Daten. Visualisieren Sie anschließend die statistischen Kennzahlen mit Boxplots.\n",
    "Interpretieren Sie die statistischen Kennzahlen. Gibt es Ausreißer? Sind die\n",
    "Werte plausibel?"
   ]
  },
  {
   "cell_type": "code",
   "execution_count": null,
   "id": "1249859b",
   "metadata": {},
   "outputs": [],
   "source": [
    "#"
   ]
  },
  {
   "cell_type": "markdown",
   "id": "b183a514",
   "metadata": {},
   "source": [
    "#### Statistik der kategorialen Daten\n",
    "\n",
    "Erstellen Sie eine Übersicht der Häufigkeiten für die kategorialen Daten.\n",
    "Visualisieren Sie anschließend die Häufigkeiten mit Barplots. Interpretieren Sie\n",
    "die Häufigkeiten. Sind die Werte plausibel?"
   ]
  },
  {
   "cell_type": "code",
   "execution_count": null,
   "id": "280646f6",
   "metadata": {},
   "outputs": [],
   "source": [
    "#"
   ]
  },
  {
   "cell_type": "markdown",
   "id": "a784eb77",
   "metadata": {},
   "source": [
    "#### Ursache - Wirkung\n",
    "\n",
    "Erstellen Sie einen Scatterplot mit dem Jahr auf der x-Achse und der Population\n",
    "auf der y-Achse. Beschriften Sie den Scatterplot sinnvoll. Vermuten Sie einen\n",
    "Zusammenhang zwischen Jahr und Bevölkerung? Was fällt Ihnen generell auf? Können Sie die Besonderheiten mit Geschichtswissen erklären?"
   ]
  },
  {
   "cell_type": "code",
   "execution_count": null,
   "id": "00031045",
   "metadata": {},
   "outputs": [],
   "source": [
    "#"
   ]
  },
  {
   "cell_type": "markdown",
   "id": "5a4f388c",
   "metadata": {},
   "source": [
    "#### Lineares Regressionsmodell\n",
    "\n",
    "Adaptieren Sie die Daten. Wählen Sie als Input das Jahr und als Output die\n",
    "Population. Trainieren Sie ein lineares Regressionsmodell und lassen Sie den\n",
    "Score berechnen und ausgeben."
   ]
  },
  {
   "cell_type": "code",
   "execution_count": null,
   "id": "890b4252",
   "metadata": {},
   "outputs": [],
   "source": [
    "#"
   ]
  },
  {
   "cell_type": "markdown",
   "id": "b2b68e2c",
   "metadata": {},
   "source": [
    "#### Entscheidungsbaum/Decision Tree\n",
    "\n",
    "Lassen Sie nun einen Entscheidungsbaum/Decision Tree trainieren und den Score\n",
    "ausgeben.\n",
    "\n",
    "Tipp: Das Scikit-Learn-Modell heißt DecisionTreeRegressor."
   ]
  },
  {
   "cell_type": "code",
   "execution_count": null,
   "id": "bc233f9c",
   "metadata": {},
   "outputs": [],
   "source": [
    "#"
   ]
  },
  {
   "cell_type": "markdown",
   "id": "16721dbb",
   "metadata": {},
   "source": [
    "#### Bewertung und Prognose\n",
    "\n",
    "Für welches Modell würden Sie sich entscheiden? Begründen Sie Ihre Wahl.\n",
    "\n",
    "Lassen Sie dann sowohl das lineare Regressionsmodell als auch den\n",
    "Entscheidungsbaum die Populationen von 1800 bis 2100 prognostizieren. Verwenden\n",
    "Sie dazu den folgenden Datensatz:\n",
    "\n",
    "```python\n",
    "prognosedaten = pd.DataFrame({\n",
    "    'Jahr': range(1800, 2101)\n",
    "})\n",
    "```\n",
    "\n",
    "Visualisieren Sie die Prognosen zusammen mit den gemessenen Populationen in\n",
    "einem gemeinsamen Scatterplot.\n",
    "\n",
    "Tipp: Mit\n",
    "\n",
    "`fig.add_scatter(x = prognosedaten['Jahr'],y = prognose_linear, name='lineare Regression')``\n",
    "\n",
    "können Sie einen weiteren Scatterplot zu einem schon existierenden (hier in der Variable `fig` gespeichert) hinzufügen.\n",
    "\n",
    "Welches Modell würden Sie nach der Visualisierung bevorzugen?"
   ]
  },
  {
   "cell_type": "code",
   "execution_count": null,
   "id": "6be71c7c",
   "metadata": {},
   "outputs": [],
   "source": [
    "#"
   ]
  },
  {
   "cell_type": "markdown",
   "id": "bd2e11f4",
   "metadata": {},
   "source": [
    "## Aufgabe 7.2\n",
    "\n",
    "Eine Firma erhebt statistische Daten zu ihren Verkaufszahlen (angegeben in\n",
    "Tausend US-Dollar) abhängig von dem eingesetzten Marketing-Budget in den\n",
    "jeweiligen Sozialen Medien (Quelle siehe\n",
    "<https://www.kaggle.com/datasets/fayejavad/marketing-linear-multiple-regression>).\n",
    "\n",
    "Erstellen Sie eine explorative Datenanalyse (EDA). Trainieren Sie dann\n",
    "ML-Modelle und bewerten Sie, bei welchem sozialen Medium sich am ehesten lohnt zu investieren.\n",
    "\n",
    "### Überblick über die Daten Marketing\n",
    "\n",
    "Laden Sie die csv-Datei `marketing_data.csv`. Welche Daten enthält die\n",
    "Datei? Wie viele Datenpunkte sind vorhanden? Wie viele und welche Merkmale gibt\n",
    "es? Sind die Daten vollständig? Welche Datentypen haben die Merkmale?"
   ]
  },
  {
   "cell_type": "code",
   "execution_count": null,
   "id": "99288072",
   "metadata": {},
   "outputs": [],
   "source": [
    "#"
   ]
  },
  {
   "cell_type": "markdown",
   "id": "d8b2bbde",
   "metadata": {},
   "source": [
    "#### Statistik der numerischen Daten Marketing\n",
    "\n",
    "Erstellen Sie eine Übersicht der statistischen Kennzahlen für die numerischen\n",
    "Daten. Visualisieren Sie anschließend die statistischen Kennzahlen mit Boxplots.\n",
    "Interpretieren Sie die statistischen Kennzahlen. Gibt es Ausreißer? Sind die\n",
    "Werte plausibel?"
   ]
  },
  {
   "cell_type": "code",
   "execution_count": null,
   "id": "e85448ac",
   "metadata": {},
   "outputs": [],
   "source": [
    "#"
   ]
  },
  {
   "cell_type": "markdown",
   "id": "e53f0d3a",
   "metadata": {},
   "source": [
    "#### Ursache - Wirkung Marketing\n",
    "\n",
    "Erstellen Sie zuerst eine Scattermatrix, um Ursache und Wirkung zu analysieren.\n",
    "Lassen Sie dann die Korrelationsmatrix als Heatmap anzeigen und interpretieren\n",
    "Sie das Ergebnis."
   ]
  },
  {
   "cell_type": "code",
   "execution_count": null,
   "id": "e9603759",
   "metadata": {},
   "outputs": [],
   "source": [
    "#"
   ]
  },
  {
   "cell_type": "markdown",
   "id": "8a9a5f16",
   "metadata": {},
   "source": [
    "#### Lineare Regressionsmodelle\n",
    "\n",
    "Trainieren Sie drei lineare Regressinsmodelle, jeweils mit einem anderen Merkmal\n",
    "als Input, d.h. mit jeweils `youtube`, `facebook`, `newspaper`. Adaptieren Sie\n",
    "dazu passend die Daten. Lassen Sie jeweils den Score berechnen und ausgeben."
   ]
  },
  {
   "cell_type": "code",
   "execution_count": null,
   "id": "a13a9852",
   "metadata": {},
   "outputs": [],
   "source": [
    "#"
   ]
  },
  {
   "cell_type": "markdown",
   "id": "c9bf0ee5",
   "metadata": {},
   "source": [
    "#### Finales Modell\n",
    "\n",
    "Trainieren Sie nun als finales Modell ein multiples Regressionsmodell und\n",
    "stellen Sie mit den Koeffizienten (Gewichten) und dem Achsenabschnitt (Bias) die dazugehörige Modellfunktion auf."
   ]
  },
  {
   "cell_type": "code",
   "execution_count": null,
   "id": "a8ded7b9",
   "metadata": {},
   "outputs": [],
   "source": [
    "#"
   ]
  }
 ],
 "metadata": {
  "jupytext": {
   "formats": "ipynb,md:myst"
  },
  "kernelspec": {
   "display_name": "Python 3",
   "language": "python",
   "name": "python3"
  }
 },
 "nbformat": 4,
 "nbformat_minor": 5
}
