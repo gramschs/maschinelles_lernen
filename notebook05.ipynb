{
 "cells": [
  {
   "cell_type": "markdown",
   "id": "fb1e119c",
   "metadata": {},
   "source": [
    "# 5. Kategoriale Daten erkunden\n",
    "\n",
    "## 5.1 Was sind kategoriale Daten?\n",
    "\n",
    "In unserem bisherigen Beispiel zu den Autoverkaufspreisen haben wir bestimmte\n",
    "Eigenschaften der Autos, wie die Marke oder die Farbe, nicht berücksichtigt.\n",
    "Unsere statistischen Analysen und Visualisierungen konzentrierten sich\n",
    "hauptsächlich auf numerische Werte wie den Kilometerstand. Dies liegt daran,\n",
    "dass es für Daten wie Farben oder Automarken keine Rechenoperationen gibt. In\n",
    "diesem Kapitel werden wir uns intensiver mit diesen nicht-numerischen Daten\n",
    "auseinandersetzen.\n",
    "\n",
    "## Lernziele Kapitel 5.1\n",
    "\n",
    "* Sie wissen, was **numerische (metrische oder quantitative) Daten** sind.\n",
    "* Sie wissen, was **kategoriale (qualitative) Daten** sind.\n",
    "* Sie können die Methode **.unique()** benutzen, um die eindeutigen Werte eines\n",
    "  Pandas-Series-Objektes aufzulisten.\n",
    "* Sie kennen den Unterschied zwischen **ungeordneten** und **geordneten**\n",
    "  kategorialen Daten.\n",
    "* Sie können mit der Methode **.value_counts()** die Anzahl der eindeutigen\n",
    "  Werte eines Pandas-Series-Objektes bestimmen lassen.\n",
    "* Sie wissen, was der **Modalwert** oder **Modus** eines Datensatzes ist und\n",
    "  können diesen mit der Methode **.mode()** bestimmen lassen.\n",
    "\n",
    "### Was wir bisher hatten: metrische Daten\n",
    "\n",
    "In den bisherigen Kapiteln lag unser Fokus auf den Verkaufspreisen von Autos.\n",
    "Die Methode `.describe()` in Pandas bietet eine schnelle Möglichkeit, einen\n",
    "Überblick über die statistischen Kennzahlen eines Datensatzes zu erhalten.\n",
    "Interessanterweise berücksichtigt die `describe()`-Methode nur numerische Werte\n",
    "(also Zahlen wie Integers und Floats) für die Auswertung. Dennoch bestimmen auch\n",
    "die nicht-numerischen Eigenschaften eines Autos den Verkaufspreis. Wer würde\n",
    "schon ein Auto in Pink bevorzugen?\n",
    "\n",
    "Bevor wir uns den nicht-numerischen Daten widmen, vertiefen wir unser\n",
    "Verständnis für numerische Daten. Diese werden oft auch als **metrische oder\n",
    "quantitative Daten** bezeichnet.\n",
    "\n",
    "> Metrische Daten sind Informationen, die gemessen werden können. Daher können sie\n",
    "durch Zahlen (ganze Zahlen, rationale oder reelle Zahlen) auf einer Skala\n",
    "dargestellt werden und werden numerische Daten genannt. Ein anderer Name für\n",
    "metrische Daten ist der Begriff quantitative Daten.\n",
    "\n",
    "Betrachten wir erneut den Datensatz der Autoverkaufspreise von Autoscout24.de,\n",
    "diesmal jedoch mit allen Autos, die im Jahr 2020 zugelassen wurden. Ein kurzer\n",
    "Überblick über den Datensatz hilft uns, die Art der Daten besser zu verstehen."
   ]
  },
  {
   "cell_type": "code",
   "execution_count": null,
   "id": "a23996ca",
   "metadata": {},
   "outputs": [],
   "source": [
    "import pandas as pd\n",
    "data = pd.read_csv('autoscout24_DE_2020.csv')\n",
    "data.info()"
   ]
  },
  {
   "cell_type": "markdown",
   "id": "bc16504e",
   "metadata": {},
   "source": [
    "#### Mini-Übung 5.1\n",
    "\n",
    "Welche Eigenschaften der Autos sind numerisch (metrisch/quantitativ)? Würden Sie\n",
    "bei anderen Eigenschaften ebenfalls einen metrischen Datentyp erwarten?\n",
    "\n",
    "Mit numerischen Daten können wir umfangreiche Datenanalysen durchführen. Wir\n",
    "können vergleichen, ob zwei Messwerte gleich oder ungleich sind. Wir können\n",
    "beurteilen, ob ein Messwert kleiner oder größer als ein anderer ist oder sogar\n",
    "das Minimum und das Maximum aller Messwerte bestimmen. Und vor allem können wir\n",
    "mit metrischen Daten rechnen. Erst dadurch ist es möglich, einen Mittelwert zu\n",
    "bilden oder Streuungsmaße wie Spannweite, Standardabweichung und\n",
    "Interquartilsabstand zu berechnen. Solche detaillierten Berechnungen sind nur\n",
    "bei metrischen (quantitativen) Daten möglich.\n",
    "\n",
    "### Das Gegenteil von numerischen Daten: kategoriale Daten\n",
    "\n",
    "Während numerische Daten messbare Informationen darstellen, sind **kategoriale\n",
    "Daten** durch ihre Zugehörigkeit zu bestimmten Kategorien oder Gruppen\n",
    "definiert. Ein weiterer Begriff für kategoriale Daten ist **qualitative Daten**.\n",
    "Ein gutes Beispiel für kategoriale Daten ist die Farbe eines Autos. Oft gibt der\n",
    "Datentyp einer bestimmten Eigenschaft in einem Datensatz bereits Hinweise\n",
    "darauf, ob es sich um kategoriale oder numerische Daten handelt.\n",
    "\n",
    "Der obige Ausführung der Anweisung `data.info()` hat gezeigt, dass einige Daten\n",
    "als `objects` gespeichert sind, was oft auf kategoriale Daten hinweist. Ein\n",
    "Blick in die Spalte »Marke« gibt uns weitere Einblicke."
   ]
  },
  {
   "cell_type": "code",
   "execution_count": null,
   "id": "305c3cbd",
   "metadata": {},
   "outputs": [],
   "source": [
    "data['Marke'].head(10)"
   ]
  },
  {
   "cell_type": "markdown",
   "id": "018cdee0",
   "metadata": {},
   "source": [
    "Die ersten 10 Autos sind offensichtlich Alfa Romeos. Sind vielleicht nur Alfa\n",
    "Romeos in der Tabelle enthalten? Wir schauen uns die letzten 10 Einträge an."
   ]
  },
  {
   "cell_type": "code",
   "execution_count": null,
   "id": "2ea7f65c",
   "metadata": {},
   "outputs": [],
   "source": [
    "data['Marke'].tail(10)"
   ]
  },
  {
   "cell_type": "markdown",
   "id": "2e89d562",
   "metadata": {},
   "source": [
    "Die letzten Einträge sind Volvos. Vielleicht sind die Autos nach Marken\n",
    "alphabetisch geordnet? Es wäre schön zu wissen, welche verschiedenen Marken im\n",
    "Datensatz enthalten sind. Dazu gibt es die Methode `.unique()`. Sie gehört zu\n",
    "der Datenstruktur Pandas-Series. Wenn wir eine einzelne Spalte eines\n",
    "Pandas-DataFrames herausgreifen, liegt automatisch ein Pandas-Series-Objekt vor,\n",
    "so dass wir diese Methode hier benutzen können."
   ]
  },
  {
   "cell_type": "code",
   "execution_count": null,
   "id": "53acab36",
   "metadata": {},
   "outputs": [],
   "source": [
    "data['Marke'].unique()"
   ]
  },
  {
   "cell_type": "markdown",
   "id": "2a41036e",
   "metadata": {},
   "source": [
    "Obwohl der Datensatz insgesamt 18566 Autos umfasst, gibt es nur 41 verschiedene\n",
    "Marken. Allgemein gesagt, gibt es für die Eigenschaft »Marke« 41 Kategorien.\n",
    "Eine nicht-metrische Eigenschaft, die nur eine begrenzte Anzahl von Werten\n",
    "annehmen kann, wird als kategoriale Variable bezeichnet. Ihre konkreten Werte\n",
    "werden als kategoriale Daten oder qualitative Daten bezeichnet.\n",
    "\n",
    "> Was sind ... kategoriale/qualitative Daten?\n",
    "Kategoriale Daten sind Informationen, die nicht gemessen werden können.\n",
    "Stattdessen werden sie durch die Zugehörigkeit zu einer Kategorie dargestellt.\n",
    "Sie bekommen ein Etikett. Kategoriale Daten nehmen nur eine begrenzte Anzahl\n",
    "von verschiedenen Werten an. Oft bezeichnet man kategoriale Daten auch als\n",
    "qualitative Daten.\n",
    "\n",
    "Diese Definition ist nicht präzise. Der Begriff \"begrenzte Anzahl\" von Werten\n",
    "ist etwas schwammig. Sind damit 10 Kategorien gemeint oder 100 oder 1000? Welche\n",
    "Eigenschaften des Auto-Datensatzes sind kategorial?\n",
    "\n",
    "### Mini-Übung 5.2\n",
    "\n",
    "Suchen Sie sich drei nicht-metrische Eigenschaften aus und bestimmen sie\n",
    "die Anzahl der einzigartigen Einträge dieser Eigenschaft.\n",
    "\n",
    "Tipp: Die Methode `.unique()` liefert ein sogenanntes NumPy-Array zurück, das\n",
    "hier wie eine Liste benutzt werden kann. Die Python-Funktion `len()` kann die\n",
    "Länge einer Liste, also die Anzahl der Elemente der Liste, bestimmen."
   ]
  },
  {
   "cell_type": "code",
   "execution_count": null,
   "id": "97fde4f8",
   "metadata": {},
   "outputs": [],
   "source": [
    "# Hier Ihr Code"
   ]
  },
  {
   "cell_type": "markdown",
   "id": "f50a782c",
   "metadata": {},
   "source": [
    "### Kategoriale Daten: ungeordnet oder geordnet?\n",
    "\n",
    "Innerhalb der kategorialen bzw. qualitativen Daten gibt es wiederum zwei Arten\n",
    "von Datentypen:\n",
    "\n",
    "* ungeordnete kategoriale Daten und\n",
    "* geordnete kategoriale Daten.\n",
    "\n",
    "Ein typisches Beispiel für ungeordnete kategoriale Daten sind die Farben der\n",
    "Autos. Es gibt keine natürliche Reihenfolge für Farben. Wir könnten die Farbe\n",
    "alphabetisch anordnen, doch sobald wir eine andere Sprache benutzen, wäre auch\n",
    "die Reihenfolge anders. Farben sind ungeordnete Kategorien. Für statistische\n",
    "Analysen heißt das, dass nur bestimmt werden kann, ob die Farbe eines Autos in\n",
    "eine bestimmte Kategorie fällt oder nicht. Entweder das Auto ist gelb oder es\n",
    "ist nicht gelb. Mathematisch gesehen können wir also nur auf Gleichheit oder\n",
    "Ungleichheit prüfen. Es gibt keine Vergleiche bzgl. der Reihenfolge und auch\n",
    "keine Minimum oder Maximum. Auch sämtliche Rechenoperationen entfallen und daher\n",
    "können auch nicht Mittelwerte oder Streuungsmaße bestimmt werden. Stattdessen\n",
    "wird der **Modus** oder **Modalwert** bestimmt.\n",
    "\n",
    "> Was ist ... der Modus (Modalwert)?\n",
    "Der Modus, auch Modalwert genannt, ist der häufigste auftretende Wert in dem\n",
    "Datensatz. Er gehört zu den Lageparametern in der Statistik. Er existiert sowohl\n",
    "für ungeordnete und geordnete kategoriale Daten als auch für metrische Daten.\n",
    "\n",
    "Pandas bietet eine Methode zur Bestimmung des Modus namens `.mode()`. Diese\n",
    "Methode funktioniert wieder nur für ein Pandas-Series-Objekt, so dass zuerst\n",
    "eine einzelne Spalte aus der Tabelle herausgeschnitten wird. Auf diese Spalte\n",
    "wird dann die Methode angewendet."
   ]
  },
  {
   "cell_type": "code",
   "execution_count": null,
   "id": "618f29a0",
   "metadata": {},
   "outputs": [],
   "source": [
    "modus_farben = data['Farbe'].mode()\n",
    "print(f'Die häufigste Farbe ist {modus_farben}.')"
   ]
  },
  {
   "cell_type": "markdown",
   "id": "845485d9",
   "metadata": {},
   "source": [
    "Und wie häufig kommen die anderen Farben vor? Die Methode `.value_counts()`\n",
    "zählt die Anzahl an Autos mit einer bestimmten Farbe."
   ]
  },
  {
   "cell_type": "code",
   "execution_count": null,
   "id": "a840d6e6",
   "metadata": {},
   "outputs": [],
   "source": [
    "data['Farbe'].value_counts()"
   ]
  },
  {
   "cell_type": "markdown",
   "id": "13b8d8a8",
   "metadata": {},
   "source": [
    "Bleiben noch die geordneten kategorialen Daten. Dazu inspizieren wir die\n",
    "einzigartigen Werte der Erstzulassung."
   ]
  },
  {
   "cell_type": "code",
   "execution_count": null,
   "id": "dca4f2de",
   "metadata": {},
   "outputs": [],
   "source": [
    "data['Erstzulassung'].unique()"
   ]
  },
  {
   "cell_type": "markdown",
   "id": "1f4d371e",
   "metadata": {},
   "source": [
    "Offensichtlich verbergen sich hinter der Erstzulassung die Monate Januar bis\n",
    "Dezember des Jahres 2020. Diese haben eine natürliche Ordnung, Januar ist der\n",
    "erste Monat des Jahres und Dezember ist der letzte Monat des Jahres. Bei\n",
    "geordneten kategorialen Daten lässt sich ebenfalls der Modus (Modalwert)\n",
    "bestimmen."
   ]
  },
  {
   "cell_type": "code",
   "execution_count": null,
   "id": "19a2acdf",
   "metadata": {},
   "outputs": [],
   "source": [
    "data['Erstzulassung'].mode()"
   ]
  },
  {
   "cell_type": "markdown",
   "id": "d08aa5be",
   "metadata": {},
   "source": [
    "Die meisten Autos wurden im Februar zugelassen. Wir können auch mit\n",
    "`.value_counts()` für jeden Monat die Anzahl der Zulassungen auszählen lassen."
   ]
  },
  {
   "cell_type": "code",
   "execution_count": null,
   "id": "e295e0ed",
   "metadata": {},
   "outputs": [],
   "source": [
    "data['Erstzulassung'].value_counts()"
   ]
  },
  {
   "cell_type": "markdown",
   "id": "572e1241",
   "metadata": {},
   "source": [
    "Insgesamt scheinen im ersten Quartal besonders viele Autos zugelassen zu werden.\n",
    "Dadurch, dass aber die Monate geordnet werden können, ist auch möglich den\n",
    "Median oder allgemein Quantile zu bestimmen. Allerdings kennt Pandas nicht die\n",
    "natürliche Reihenfolge der Monatsangaben 01/2020, 02/2020, 03/2020, usw. Wir\n",
    "ersetzen daher die Strings durch Integer, also \"01/2020\" --> 1, \"02/2020\" --> 2,\n",
    "usw. Diesen Vorgang nennt man in der Informatik **Kodierung**. Das Thema, wie\n",
    "kategoriale (qualitative Daten) am geschicktesten kodiert werden, wird uns noch\n",
    "intensiver beschäftigen. Jetzt gehen wir händisch vor und benutzen die\n",
    "`.replace()`-Methode von Pandas."
   ]
  },
  {
   "cell_type": "code",
   "execution_count": null,
   "id": "1594469d",
   "metadata": {},
   "outputs": [],
   "source": [
    "# alte Datenwerte (Monatsangaben als Strings)\n",
    "kodierung_string = [\"01/2020\", \"02/2020\", \"03/2020\", \"04/2020\", \"05/2020\", \"06/2020\",\n",
    "\"07/2020\", \"08/2020\", \"09/2020\", \"10/2020\", \"11/2020\", \"12/2020\"]\n",
    "\n",
    "# neue Datenwerte (nur der Monat als Integer)\n",
    "kodierung_integer = ['1', '2', '3', '4', '5', '6', '7', '8', '9', '10', '11', '12']\n",
    "\n",
    "# Ersetzung der alten Datenwerte durch die neue Kodierung\n",
    "data['Erstzulassung'] = data['Erstzulassung'].replace(kodierung_string, kodierung_integer).astype(int)\n",
    "\n",
    "# Anzeige, ob alles funktioniert hat\n",
    "data['Erstzulassung'].unique()"
   ]
  },
  {
   "cell_type": "markdown",
   "id": "ab7ae823",
   "metadata": {},
   "source": [
    "Jetzt können wir von Pandas den Median berechnen lassen, den die ganzen Zahlen\n",
    "von 1 bis 12 haben eine natürliche Reihenfolge. Der Median ist"
   ]
  },
  {
   "cell_type": "code",
   "execution_count": null,
   "id": "6f6cd98a",
   "metadata": {},
   "outputs": [],
   "source": [
    "data['Erstzulassung'].median()"
   ]
  },
  {
   "cell_type": "markdown",
   "id": "762f2e48",
   "metadata": {},
   "source": [
    "Die Hälfte aller Autos wurde von Januar bis irgendwann im Juni zugelassen. Den\n",
    "genauen Stichtag im Juni können wir aufgrund fehlender Informationen über den\n",
    "Tag der Zulassung nicht ermitteln.\n",
    "\n",
    "### Zusammenfassung und Ausblick Kapitel 5.1\n",
    "\n",
    "In diesem Kapitel haben wir uns mit dem Unterschied zwischen numerischen\n",
    "(metrischen bzw. quantitativen) und kategorialen (qualitativen) Daten\n",
    "beschäftigt. Dabei wird bei kategorialen Daten noch zwischen ungeordneten und\n",
    "geordneten Kategorien unterschieden. Abhängig von der Art der Daten können\n",
    "unterschiedliche statistische Kennzahlen erhoben werden. Bei ungeordneten\n",
    "kategorialen Daten kann nur der Modus (Modalwert) berechnet werden. Bei\n",
    "geordneten kategorialen Daten können zusätzlich noch Quantile (insbesondere der\n",
    "Median) berechnet werden. Nur bei numerischen (metrischen bzw. qualitativen)\n",
    "Daten ist es möglich, den Mittelwert und zusätzlich die Streuungsmaße\n",
    "(Spannbreite, Standardabweichung und Interquartilsabstand) zu bestimmen. Im\n",
    "nächsten Kapitel werden wir uns mit der Visualisierung der kategorialen Daten\n",
    "beschäftigen\n",
    "\n",
    "## 5.2 Barplots und Histogramme\n",
    "\n",
    "Barplots (Balken- oder Säulendiagramme) sind die am häufigsten verwendeten\n",
    "Visualisierungen für kategoriale Daten. In diesem Kapitel lernen wir, wie mit\n",
    "Plotly ein Barplot erstellt und von einem Histogramm unterschieden wird.\n",
    "\n",
    "## Lernziele Kapitel 5.2\n",
    "\n",
    "* Sie wissen, was ein **Barplot** ist.\n",
    "* Sie können ein **Säulendiagramm** von einem **Balkendiagramm** unterscheiden.\n",
    "* Sie können mit der Funktion **bar()** des Plotly-Express-Moduls einen Barplot\n",
    "  generieren lassen.\n",
    "* Sie wissen, wie aus numerischen Daten ein **Histogramm** erzeugt wird.\n",
    "* Sie können mit der Funktion **histogram()** des Plotly-Express-Moduls ein\n",
    "  Histogramm erzeugen lassen.\n",
    "\n",
    "### Barplots\n",
    "\n",
    "Im letzten Kapitel haben wir uns mit kategorialen (qualitativen) Daten\n",
    "auseinandergesetzt. Um solche Daten zu visualisieren und zu vergleichen,\n",
    "benötigen wir geeignete Diagramme. Ein Boxplot ist hierfür nicht geeignet, da\n",
    "man mit kategorialen Daten keine Rechenoperationen wie Mittelwertbildung oder\n",
    "die Berechnung von Streuungsmaßen durchführen kann. Eine Methode, die wir\n",
    "bereits kennengelernt haben, ist `.value_counts()`. Sie zählt, wie oft jeder\n",
    "einzigartige Wert in einer Datenreihe vorkommt. Die Anzahl der Werte pro\n",
    "Kategorie wird mit dem sogenannten **Barplot** visualisiert.\n",
    "\n",
    "Ein Barplot muss nicht nur die Anzahl der Werte pro Kategorie zeigen. Er kann\n",
    "jede numerische Information darstellen, die einer Kategorie zugeordnet ist.\n",
    "Dabei werden prinzipiell zwei Varianten unterschieden. Zum einen können die\n",
    "Kategorien entlang der x-Achse aneinandergereiht werden. Die Höhe der Rechtecke\n",
    "repräsentiert dann den Zahlenwert dieser Kategorie. Da die Rechtecke an Säulen\n",
    "erinnern, wird diese Variante **Säulendiagramm** genannt. Die andere Möglichkeit\n",
    "ist, die Kategorien untereinander entlang der y-Achse aufzuführen. Dann ist die\n",
    "Länge der Rechtecke repräsentativ für den Zahlenwert dieser Kategorie. Diese\n",
    "Variante wird **Balkendiagramm** genannt.\n",
    "\n",
    "> Was ist ... ein Barplot?\n",
    "Ein Barplot ist ein Diagramm, das kategoriale Daten visualisiert. Jede Kategorie\n",
    "wird durch die Höhe oder Länge eines Rechtecks repräsentiert, das den\n",
    "zugehörigen Wert darstellt.\n",
    "\n",
    "Probieren wir Barplots am Beispiel der Autoscout24-Verkaufspreise für Autos aus,\n",
    "die 2020 zugelassen wurden. Zuerst laden wir die Daten und verschaffen uns einen\n",
    "Überblick."
   ]
  },
  {
   "cell_type": "code",
   "execution_count": null,
   "id": "117b8771",
   "metadata": {},
   "outputs": [],
   "source": [
    "import pandas as pd\n",
    "\n",
    "data = pd.read_csv('autoscout24_DE_2020.csv')\n",
    "data.info()"
   ]
  },
  {
   "cell_type": "markdown",
   "id": "42f69b98",
   "metadata": {},
   "source": [
    "Mit der Methode `.value_counts()` lassen wir Python die Anzahl der Autos pro\n",
    "Marke bestimmen."
   ]
  },
  {
   "cell_type": "code",
   "execution_count": null,
   "id": "651cdf8d",
   "metadata": {},
   "outputs": [],
   "source": [
    "anzahl_pro_marke = data['Marke'].value_counts()\n",
    "anzahl_pro_marke.info()"
   ]
  },
  {
   "cell_type": "markdown",
   "id": "ba0dd847",
   "metadata": {},
   "source": [
    "Schauen wir uns die ersten zehn Einträge an:"
   ]
  },
  {
   "cell_type": "code",
   "execution_count": null,
   "id": "d3721c14",
   "metadata": {},
   "outputs": [],
   "source": [
    "anzahl_pro_marke.head(10)"
   ]
  },
  {
   "cell_type": "markdown",
   "id": "71e45118",
   "metadata": {},
   "source": [
    "Die Methode `.value_counts()` sortiert die Einträge standardmäßig von der\n",
    "höchsten zur niedrigsten Anzahl.\n",
    "\n",
    "Mit nur wenigen Zeilen Code können wir mit der Funktion `bar()` aus dem\n",
    "Plotly-Express-Modul eine Visualisierung erstellen. Zuerst importieren wir das\n",
    "Modul, dann erzeugen wir das Diagramm mit `bar()` und zuletzt lassen wir das\n",
    "Diagramm mit `show()` anzeigen."
   ]
  },
  {
   "cell_type": "code",
   "execution_count": null,
   "id": "2f56558b",
   "metadata": {},
   "outputs": [],
   "source": [
    "import plotly.express as px\n",
    "\n",
    "fig = px.bar(anzahl_pro_marke)\n",
    "fig.show()"
   ]
  },
  {
   "cell_type": "markdown",
   "id": "11ecbfbd",
   "metadata": {},
   "source": [
    "Obwohl Plotly Express bereits eine ansprechende Visualisierung bietet, könnten\n",
    "die automatisch generierten Beschriftungen \"index\", \"value\" und \"variable\"\n",
    "verbessert werden. Außerdem sollte ein Diagrammtitel hinzugefügt werden. Der\n",
    "Titel kann direkt in der `bar()`-Funktion über das `title=` Argument gesetzt\n",
    "werden. Für die Achsenbeschriftungen und den Legendentitel verwenden wir die\n",
    "Funktion `update_layout()`. Die Argumente `xaxis_title=` und `yaxis_title=`\n",
    "modifizieren die Beschriftung der x- und y-Achse. Mit `legend_title=` wird der\n",
    "Titel der Legende neu beschriftet."
   ]
  },
  {
   "cell_type": "code",
   "execution_count": null,
   "id": "1b6ff949",
   "metadata": {},
   "outputs": [],
   "source": [
    "fig = px.bar(anzahl_pro_marke, title='Autoscout24 (Zulassungsjahr 2020)')\n",
    "fig.update_layout(\n",
    "    xaxis_title='Marke',\n",
    "    yaxis_title='Anzahl Autos',\n",
    "    legend_title='Anzahl Autos pro Marke',\n",
    ")\n",
    "fig.show()"
   ]
  },
  {
   "cell_type": "markdown",
   "id": "3714c4b3",
   "metadata": {},
   "source": [
    "### Histogramm\n",
    "\n",
    "Während Barplots in erster Linie kategoriale Daten visualisieren, dienen\n",
    "Histogramme zur Darstellung numerischer Daten. Ein Barplot zeigt typischerweise\n",
    "die Anzahl der Werte pro Kategorie. Bei numerischen Daten wäre eine solche\n",
    "Darstellung oft nicht sinnvoll. Nehmen wir als Beispiel die Kilometerstände von\n",
    "Autos. Wir lassen zuerst mit der Methode `.unique()` die verschiedenen\n",
    "Kilometerstände bestimmen. Das Ergebnis ist ein sogenanntes NumPy-Array, das\n",
    "hier wie eine Liste benutzt werden kann. Mit Hilfe der `len()`-Funktion können\n",
    "wir die Anzahl der Einträge berechnen."
   ]
  },
  {
   "cell_type": "code",
   "execution_count": null,
   "id": "a07d053f",
   "metadata": {},
   "outputs": [],
   "source": [
    "kilometerstaende = data['Kilometerstand (km)'].unique()\n",
    "anzahl_kilometerstaende = len(kilometerstaende)\n",
    "print(f'Es gibt {anzahl_kilometerstaende} verschiedene Kilometerstände.')"
   ]
  },
  {
   "cell_type": "markdown",
   "id": "0ca2aea1",
   "metadata": {},
   "source": [
    "Mit über 10.000 verschiedenen Kilometerständen wäre eine direkte Visualisierung\n",
    "nicht zielführend. Um dennoch eine sinnvolle Analyse durchzuführen, können wir\n",
    "die Daten in Kategorien einteilen. Dazu bestimmen wir das Minimum und das\n",
    "Maximum der Kilometerstände."
   ]
  },
  {
   "cell_type": "code",
   "execution_count": null,
   "id": "104d4907",
   "metadata": {},
   "outputs": [],
   "source": [
    "minimaler_kilometerstand = data['Kilometerstand (km)'].min()\n",
    "maximaler_kilometerstand = data['Kilometerstand (km)'].max()\n",
    "\n",
    "print(f'minimaler Kilometerstand: {minimaler_kilometerstand}')\n",
    "print(f'maximaler Kilometerstand: {maximaler_kilometerstand}')"
   ]
  },
  {
   "cell_type": "markdown",
   "id": "de99366e",
   "metadata": {},
   "source": [
    "Die Daten reichen von Neuwagen (minimaler Kilometerstand 0 km) bis zu Autos mit\n",
    "hohem Kilometerstand (maximaler Kilometerstand 435909 km). Wir können diesen\n",
    "Bereich in gleichmäßige Kategorien unterteilen. Wählen wir beispielsweise 10\n",
    "Kategorien, so würde die 1. Kategorie alle Autos mit einem Kilometerstand von 0\n",
    "km bis 50000 km umfassen. Die 2. Kategorie geht dann von 50000 km bis 100000 km\n",
    "usw. Um jetzt zu ermitteln, wie viele Autos in die jeweilige Kategorie fallen,\n",
    "könnten wir ein kleines Python-Programm schreiben. Tatsächlich brauchen wir das\n",
    "nicht, denn diese Funtkionalität ist bereits in der `histogram()`-Funktion\n",
    "integriert, die auch die Visualisierung übernimmt.\n",
    "\n",
    "Wir übergeben der Funktion als erstes Argument die Daten und als (optionales)\n",
    "Argument, wie viele Kategorien wir uns wünschen. Die künstlich erfundenen\n",
    "Kategorien werden auch als Bins (Tonnen) bezeichnet. Daher lautet das Argument\n",
    "zum Setzen der Anzahl der Bins `nbins=`, so wie der englische Begriff »number of\n",
    "bins«."
   ]
  },
  {
   "cell_type": "code",
   "execution_count": null,
   "id": "cf218d1d",
   "metadata": {},
   "outputs": [],
   "source": [
    "fig = px.histogram(data['Kilometerstand (km)'], nbins=10, \n",
    "    title='10 künstlich erzeugte Kategorien bzgl. des Kilometerstandes (km)')\n",
    "fig.update_layout(\n",
    "    xaxis_title='Kategorien der Kilometerstände (km)',\n",
    "    yaxis_title='Anzahl Autos',\n",
    "    legend_title='Anzahl Autos pro Kategorie',\n",
    ")\n",
    "fig.show()"
   ]
  },
  {
   "cell_type": "markdown",
   "id": "fa27e587",
   "metadata": {},
   "source": [
    "Die meisten Autos haben weniger als 200000 km auf dem Kilometerzähler.\n",
    "\n",
    "Ein charakteristisches Merkmal von Histogrammen ist, dass die Balken ohne Lücke\n",
    "aneinander liegen, was die kontinuierliche Natur der numerischen Daten\n",
    "widerspiegelt. Die Anzahl der Kategorien (Bins) beeinflusst die Darstellung\n",
    "maßgeblich und sollte sorgfältig gewählt werden. Auch können die\n",
    "Histogramm-Kategorien nicht in eine andere Reihenfolge gebracht werden.\n",
    "\n",
    "Die Anzahl der Kategorien ist ein sehr wichtiger Faktor bei der Visualisierung.\n",
    "Werden zu wenige Kategorien gewählt, werden auch nicht die Unterschiede\n",
    "sichtbar. Werden zu viele Kategorien gewählt, sind ggf. einige Kategorien leer.\n",
    "\n",
    "#### Mini-Übung 5.3\n",
    "\n",
    "Wählen Sie verschiedene Werte für die Anzahl der Kategorien aus. Welche Anzahl\n",
    "an Kategorien ist für diesen Datensatz sinnvoll und warum?\n",
    "\n",
    "Zusammenfassend wird ein Histogramm folgendermaßen beschrieben.\n",
    "\n",
    "> Was ist ... ein Histogramm?\n",
    "Ein Histogramm ist eine grafische Darstellung, bei der numerische Daten in\n",
    "Kategorien eingeteilt und dann die Anzahl der Werte pro Kategorie durch die Höhe\n",
    "eines Balkens dargestellt wird\n",
    "\n",
    "### Zusammenfassung und Ausblick Kapitel 5.2\n",
    "\n",
    "In diesem Kapitel wurden zwei wichtige Diagrammtypen vorgestellt: der Barplot\n",
    "und das Histogramm. Obwohl beide mit Rechtecken arbeiten, haben sie\n",
    "unterschiedliche Anwendungsbereiche und sollten nicht verwechselt werden.\n",
    "Während der Barplot ideal für kategoriale Daten ist, eignet sich das Histogramm\n",
    "zur Visualisierung numerischer Daten. Im nächsten Kapitel widmen wir uns dem\n",
    "Thema Datenfilterung\n",
    "\n",
    "## 5.3 Daten filtern und gruppieren\n",
    "\n",
    "Im vorherigen Kapitel haben wir Autos basierend auf ihrem Kilometerstand\n",
    "gruppiert und visualisiert. Während diese Gruppierung automatisch im Hintergrund\n",
    "stattfand, werden wir in diesem Kapitel lernen, wie wir direkt auf die\n",
    "gruppierten Daten zugreifen und zusätzliche Analysen durchführen können.\n",
    "\n",
    "## Lernziele Kapitel 5.3\n",
    "\n",
    "* Sie wissen, dass die Wahrheitswerte `True` (wahr)  oder `False` (falsch) in\n",
    "  dem Datentyp **bool** gespeichert werden.\n",
    "* Sie kennen die wichtigsten Vergleichsoperatoren (`<`, `<=`, `>`, `>=`, `==`,\n",
    "  `!=`, `in`, `not in`) in Python.\n",
    "* Sie können ein Pandas-DataFrame-Objekt nach einem Wert filtern.\n",
    "* Sie können ein Pandas-DataFrame-Objekt mit den Methoden `groupby()` und\n",
    "  `get_group()` gruppieren.\n",
    "\n",
    "### Daten filtern\n",
    "\n",
    "Im vorherigen Kapitel haben wir die Kilometerstände von Autos untersucht, die im\n",
    "Jahr 2020 zugelassen und Mitte 2023 auf Autoscout24.de angeboten wurden. Bei der\n",
    "Kategorisierung der Kilometerstände fiel auf, dass Fahrzeuge mit einer\n",
    "Laufleistung von über 200000 km selten sind. Trotzdem beeinflusste dies die\n",
    "Aufteilung in zehn gleichmäßige Gruppen, die von 0 km bis 435909 km reichten,\n",
    "erheblich. Um eine genauere Analyse zu ermöglichen, wäre es sinnvoll, Fahrzeuge\n",
    "mit einer Laufleistung von bis zu 200.000 km in den Fokus zu nehmen und die\n",
    "Ausreißer auszuschließen. Daher widmen wir uns in diesem Kapitel der Filterung\n",
    "von tabellarischen Datensätzen mithilfe von Pandas.\n",
    "\n",
    "Zuerst laden wir den Datensatz und überprüfen den Inhalt."
   ]
  },
  {
   "cell_type": "code",
   "execution_count": null,
   "id": "2812c3a8",
   "metadata": {},
   "outputs": [],
   "source": [
    "import pandas as pd\n",
    "\n",
    "data = pd.read_csv('autoscout24_DE_2020.csv')\n",
    "data.info()"
   ]
  },
  {
   "cell_type": "markdown",
   "id": "499e92d5",
   "metadata": {},
   "source": [
    "Um die Autos mit einem Kilometerstand von bis zu 200000 km zu filtern,\n",
    "vergleichen wir die entsprechende Spalte mit dem Wert 200000, indem wir den aus\n",
    "der Mathematik bekannten Kleiner-gleich-Operators `<=` benutzen. Das Ergebnis\n",
    "dieses Vergleichs speichern wir in der Variable `bedingung`."
   ]
  },
  {
   "cell_type": "code",
   "execution_count": null,
   "id": "1efe7f0f",
   "metadata": {},
   "outputs": [],
   "source": [
    "bedingung = data['Kilometerstand (km)'] <= 200000"
   ]
  },
  {
   "cell_type": "markdown",
   "id": "c5f89e57",
   "metadata": {},
   "source": [
    "Aber was genau ist in der Variable `bedingung` enthalten? Schauen wir uns den\n",
    "Datentyp an:"
   ]
  },
  {
   "cell_type": "code",
   "execution_count": null,
   "id": "45c7d124",
   "metadata": {},
   "outputs": [],
   "source": [
    "type(bedingung)"
   ]
  },
  {
   "cell_type": "markdown",
   "id": "0e593ad6",
   "metadata": {},
   "source": [
    "Offensichtlich handelt es sich um ein Pandas-Series-Objekt. Für weitere\n",
    "Informationen können wir die `.info()`-Methode aufrufen:"
   ]
  },
  {
   "cell_type": "code",
   "execution_count": null,
   "id": "c15be94f",
   "metadata": {},
   "outputs": [],
   "source": [
    "bedingung.info()"
   ]
  },
  {
   "cell_type": "markdown",
   "id": "8f93169b",
   "metadata": {},
   "source": [
    "In dem Series-Objekt sind 18566 Einträge vom Datentyp `bool` gespeichert. Diesen\n",
    "Datentyp haben wir bisher nicht kennengelernt. Wir lassen die ersten fünf\n",
    "Einträge ausgeben:"
   ]
  },
  {
   "cell_type": "code",
   "execution_count": null,
   "id": "5104fd43",
   "metadata": {},
   "outputs": [],
   "source": [
    "bedingung.head()"
   ]
  },
  {
   "cell_type": "markdown",
   "id": "eaeed39e",
   "metadata": {},
   "source": [
    "Sind alle Einträge mit dem Wert `True` gefüllt? Wie viele und vor allem welche\n",
    "einzigartige Einträge gibt es in diesem Series-Objekt?"
   ]
  },
  {
   "cell_type": "code",
   "execution_count": null,
   "id": "28185457",
   "metadata": {},
   "outputs": [],
   "source": [
    "bedingung.unique()"
   ]
  },
  {
   "cell_type": "markdown",
   "id": "1095353e",
   "metadata": {},
   "source": [
    "Das Series-Objekt enthält nur `True` und `False`, was den Datentyp `bool`\n",
    "charakterisiert. In diesem Datentyp können nur zwei verschiedene Werte\n",
    "gespeichert werden, nämlich wahr (True) und falsch (False). Oft sind\n",
    "Wahrheitswerte das Ergebnis eines Vergleichs, wie das folgende Code-Beispiel\n",
    "zeigt:"
   ]
  },
  {
   "cell_type": "code",
   "execution_count": null,
   "id": "75ed5ffd",
   "metadata": {},
   "outputs": [],
   "source": [
    "x = 19\n",
    "print(x  < 100)"
   ]
  },
  {
   "cell_type": "markdown",
   "id": "68255e5f",
   "metadata": {},
   "source": [
    "In der Python-Programmierung wird der Datentyp bool oft verwendet, um\n",
    "Programmcode zu verzweigen. Damit ist gemeint, dass Teile des Programms nur\n",
    "durchlaufen und ausgeführt werden, wenn eine bestimmte Bedingung wahr (True)\n",
    "ist. In dieser Vorlesung benutzen wir bool-Werte hauptsächlich zum Filtern von\n",
    "Daten.\n",
    "\n",
    "> Welche Vergleichsoperatoren kennt Python\n",
    "In Python können die mathematischen Vergleichsoperatoren in ihrer gewohnten\n",
    "Schreibweise verwendet werden:\n",
    "\n",
    "* `<` kleiner als\n",
    "* `<=` kleiner als oder gleich\n",
    "* `>` größer\n",
    "* `>=` größer als oder gleich\n",
    "* `==` gleich (`=` ist der Zuweisungsoperator, nicht mit Gleichheit\n",
    "  verwechseln!)\n",
    "* `!=` ungleich\n",
    "\n",
    "Darüber hinaus kann mit `in` oder `not in` getestet werden, ob\n",
    "ein Element in einer Liste ist oder eben nicht.\n",
    "\n",
    "Aber was machen wir jetzt mit diesem Series-Objekt? Wir können es als Index\n",
    "benutzen für den ursprünglichen Datensatz benutzen. Die Zeilen, in denen `True`\n",
    "steht, werden übernommen, die anderen verworfen."
   ]
  },
  {
   "cell_type": "code",
   "execution_count": null,
   "id": "9a2741c3",
   "metadata": {},
   "outputs": [],
   "source": [
    "autos_bis_200000km = data[bedingung]\n",
    "autos_bis_200000km.info()"
   ]
  },
  {
   "cell_type": "markdown",
   "id": "2cc36cd1",
   "metadata": {},
   "source": [
    "Von den 18566 Autos wurden 18525 Autos übernommen. Ist denn die Filterung\n",
    "geglückt? Wir verschaffen uns mit der `.describe()`-Methode einen schnellen\n",
    "Überblick."
   ]
  },
  {
   "cell_type": "code",
   "execution_count": null,
   "id": "ff2930cc",
   "metadata": {},
   "outputs": [],
   "source": [
    "autos_bis_200000km.describe()"
   ]
  },
  {
   "cell_type": "markdown",
   "id": "d1a1dc70",
   "metadata": {},
   "source": [
    "Der maximale Eintrag für die Spalte `Kilometerstand (km)` ist 199000 km. Mit dem\n",
    "Tilde-Operator `~` können wir das Pandas-Series-Objekt `bedingung` in das\n",
    "Gegenteil umwandeln. Damit können wir also die Autos, bei denen der Vergleich\n",
    "`<= 200000` zu `False` ausgewertet wurde, herausfiltern."
   ]
  },
  {
   "cell_type": "code",
   "execution_count": null,
   "id": "04c80c9f",
   "metadata": {},
   "outputs": [],
   "source": [
    "autos_ab_200000km = data[~bedingung]\n",
    "autos_ab_200000km.info()"
   ]
  },
  {
   "cell_type": "markdown",
   "id": "5a5fbc6b",
   "metadata": {},
   "source": [
    "41 Autos, die 2020 zugelassen wurden, sollten Mitte 2023 mit einem\n",
    "Kilometerstand von mehr als 200000 km verkauft werden. Schauen wir uns die\n",
    "Statistik an."
   ]
  },
  {
   "cell_type": "code",
   "execution_count": null,
   "id": "c8fb564a",
   "metadata": {},
   "outputs": [],
   "source": [
    "autos_ab_200000km.describe()"
   ]
  },
  {
   "cell_type": "markdown",
   "id": "2f7ecb1c",
   "metadata": {},
   "source": [
    "Und was sind das für Autos?"
   ]
  },
  {
   "cell_type": "code",
   "execution_count": null,
   "id": "aedf6131",
   "metadata": {},
   "outputs": [],
   "source": [
    "autos_ab_200000km.head(10)"
   ]
  },
  {
   "cell_type": "markdown",
   "id": "8b8e124f",
   "metadata": {},
   "source": [
    "### Gruppieren\n",
    "\n",
    "Eine Filterung nach Kilometerstand ermöglicht es uns, die Autos in zwei\n",
    "Datensätze zu teilen: Autos mit bis zu 200000 km Laufleistung und jene mit mehr\n",
    "als 200000 km (hierzu kann der Tilde-Operator (~) verwendet werden).\n",
    "\n",
    "Wenden wir nun diese Technik an, um die Fahrzeuge basierend auf ihrer Marke zu\n",
    "trennen. Ein Beispiel: Um alle \"Audi\"-Fahrzeuge zu extrahieren, verwenden wir\n",
    "den folgenden Code:"
   ]
  },
  {
   "cell_type": "code",
   "execution_count": null,
   "id": "34fa57b8",
   "metadata": {},
   "outputs": [],
   "source": [
    "bedingung_audi = data['Marke'] == 'audi'\n",
    "audis = data[bedingung_audi]\n",
    "audis.info()"
   ]
  },
  {
   "cell_type": "markdown",
   "id": "07bdff72",
   "metadata": {},
   "source": [
    "Diese Bedingung erfüllen 1.190 Autos. Der Gesamtdatensatz enthält jedoch 41\n",
    "unterschiedliche Automarken. Es wäre ineffizient, für jede Marke eine separate\n",
    "Filterung durchzuführen. Deshalb bietet Pandas die `.groupby()`-Methode, die es\n",
    "erlaubt, die Daten automatisch nach den einzigartigen Einträgen einer Spalte zu\n",
    "gruppieren:"
   ]
  },
  {
   "cell_type": "code",
   "execution_count": null,
   "id": "389e298f",
   "metadata": {},
   "outputs": [],
   "source": [
    "autos_nach_marke = data.groupby('Marke')\n",
    "type(autos_nach_marke)"
   ]
  },
  {
   "cell_type": "markdown",
   "id": "fe338001",
   "metadata": {},
   "source": [
    "Das Resultat ist eine spezielle Pandas-Datenstruktur namens `DataFrameGroupBy`.\n",
    "Es sind nicht alle bisher bekannten Methoden auf dieses Objekt anwendbar, aber\n",
    "beispielsweise die `.describe()`-Methode darf verwendet werden:"
   ]
  },
  {
   "cell_type": "code",
   "execution_count": null,
   "id": "aa0d3a78",
   "metadata": {},
   "outputs": [],
   "source": [
    "autos_nach_marke.describe()"
   ]
  },
  {
   "cell_type": "markdown",
   "id": "91de6993",
   "metadata": {},
   "source": [
    "Für jede Automarke werden nun für jede Spalte mit metrischen (quantitativen)\n",
    "Informationen die statistischen Kennzahlen ermittelt. Die entstehende Tabelle\n",
    "ist etwas unübersichtlich. Besser ist daher, sich die statistischen Kennzahlen\n",
    "einzeln ausgeben zu lassen. Im Folgenden ermitteln wir die Mittelwerte der\n",
    "metrischen Informationen nach Automarke. Damit tatsächlich auch nur die\n",
    "metrischen Daten gemittelt werden, müssen wir als Argument noch zusätzlich\n",
    "`numeric_only=True` setzen."
   ]
  },
  {
   "cell_type": "code",
   "execution_count": null,
   "id": "91801dc0",
   "metadata": {},
   "outputs": [],
   "source": [
    "autos_nach_marke.mean(numeric_only=True)"
   ]
  },
  {
   "cell_type": "markdown",
   "id": "9ae2f345",
   "metadata": {},
   "source": [
    "Eine sehr wichtige Methode der GroupBy-Datenstruktur ist die\n",
    "`get_group()`-Methode. Damit können wir ein bestimmtes DataFrame-Objekt aus dem\n",
    "GroupBy-Objekt extrahieren:"
   ]
  },
  {
   "cell_type": "code",
   "execution_count": null,
   "id": "6007d685",
   "metadata": {},
   "outputs": [],
   "source": [
    "audis_alternativ = autos_nach_marke.get_group('audi')\n",
    "audis_alternativ.info()"
   ]
  },
  {
   "cell_type": "markdown",
   "id": "0473d883",
   "metadata": {},
   "source": [
    "In der Variablen `audis_alternativ` steckt nun der gleiche Datensatz wie in der\n",
    "Variablen `audis`, den wir bereits durch das Filtern des ursprünglichen\n",
    "Datensatzes extrahiert haben.\n",
    "\n",
    "## Zusammenfassung und Ausblick Kapitel 5.3\n",
    "\n",
    "In diesem Kapitel haben wir die Technik des Datenfilterns kennengelernt. Um\n",
    "spezifische Einträge aus einem Datensatz basierend auf einem bestimmten Wert zu\n",
    "extrahieren, nutzen wir Vergleichsoperationen und verwenden das resultierende\n",
    "Series-Objekt als Index. Wenn das Ziel darin besteht, Daten anhand der\n",
    "einzigartigen Werte einer Spalte zu gruppieren, dann ist die Kombination von\n",
    "`.groupby()` und `.get_group()` oft der effizienteste Weg. Damit haben wir\n",
    "unsere Einführung in die Datenexploration abgeschlossen, obwohl es noch viele\n",
    "weitere Möglichkeiten gibt, die Daten zu erkunden. Im nächsten Kapitel beginnen\n",
    "wir mit den Grundlagen des maschinellen Lernens und beschäftigen uns mit\n",
    "Entscheidungsbäumen\n",
    "\n",
    "## Übungen\n",
    "\n",
    "### Übung 5.1\n",
    "\n",
    "Schauen Sie sich die Datei 'kaggle_germany-wind-energy.csv' im Texteditor bzw.\n",
    "im JupyterLab an. Welche Spalte könnte als Zeilenindex dienen? Importieren Sie\n",
    "passend die Daten.\n",
    "\n",
    "Verschaffen Sie sich einen Überblick über die Daten. Welche Messwerte stehen in\n",
    "den Spalten? Weitere Informationen erhalten Sie hier:\n",
    "<https://www.kaggle.com/datasets/aymanlafaz/wind-energy-germany>\n",
    "\n",
    "Ermitteln Sie die statistischen Kennzahlen und visualisieren Sie die\n",
    "statistischen Kennzahlen als Boxplot. Ist es sinnvoll, einen gemeinsamen Boxplot\n",
    "zu verwenden? Interpretieren Sie die statistischen Kennzahlen.\n",
    "\n",
    "Visualisieren Sie die drei Eigenschaften als Sctterplots. Welche\n",
    "Schlussfolgerungen ziehen Sie aus den Plots?\n",
    "\n",
    "Visualisieren Sie drei Eigenschaften als Scattermatrix. Gibt es Abhängigkeiten?"
   ]
  },
  {
   "cell_type": "code",
   "execution_count": null,
   "id": "556e2c03",
   "metadata": {},
   "outputs": [],
   "source": [
    "# Hier Ihr Code"
   ]
  },
  {
   "cell_type": "markdown",
   "id": "2a4bca93",
   "metadata": {},
   "source": [
    "### Übung 5.2\n",
    "\n",
    "Importieren Sie den Datensatz 'kaggle_ikea.csv' und verschaffen Sie sich einen\n",
    "Überblick über die Daten.\n",
    "\n",
    "In welche verschiedenen Katgorien (category) sind die IKEA-Artikel unterteilt?\n",
    "Erstellen Sie für jede Kategorie einen Boxplot der Verkaufspreise und ziehen Sie\n",
    "Schlussfolgerungen daraus.\n",
    "\n",
    "Lassen Sie für jede Katgeorie den durschschnittlichen Preis dieser Kategorie als\n",
    "Barplot visualisieren. Lesen Sie danach ab: welche Kategorie hat den geringsten\n",
    "Durchschnittspreis?\n",
    "\n",
    "Lassen Sie für diese Kategorie die Anzahl der Artikel bestimmen. Visualisieren\n",
    "Sie dann den Preis in Abhängigkeit des Namens als Scatterplot. Bei welchem Namen\n",
    "gibt es die größte Spannweite an Verkaufspreisen? Welches ist der teuerste\n",
    "Artikel (ID?) in dieser Kategorie und wie wird er beschrieben?"
   ]
  },
  {
   "cell_type": "code",
   "execution_count": null,
   "id": "454f4434",
   "metadata": {},
   "outputs": [],
   "source": [
    "# Hier Ihr Code"
   ]
  },
  {
   "cell_type": "markdown",
   "id": "ac8adafb",
   "metadata": {},
   "source": [
    "### Übung 5.3\n",
    "\n",
    "Lesen Sie die csv-Datei 'statistic_id1301764_formel1-fahrerwertung-saison-2022.csv' (Formel 1 Fahrerwertung, Stand 30.10.2022, Quelle: <https://de.statista.com/statistik/daten/studie/1301764/umfrage/formel-1-wm-stand/)> ein.\n",
    "\n",
    "Führen Sie eine statistische Datenanalyse inklusive Visualisierung durch. Visualisieren Sie zusätzlich die Fahrerwertung."
   ]
  },
  {
   "cell_type": "code",
   "execution_count": null,
   "id": "087ea604",
   "metadata": {},
   "outputs": [],
   "source": [
    "# Hier Ihr Code"
   ]
  }
 ],
 "metadata": {
  "jupytext": {
   "formats": "ipynb,md:myst"
  },
  "kernelspec": {
   "display_name": "Python 3",
   "language": "python",
   "name": "python3"
  }
 },
 "nbformat": 4,
 "nbformat_minor": 5
}
