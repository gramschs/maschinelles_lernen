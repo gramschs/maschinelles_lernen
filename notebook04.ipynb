{
 "cells": [
  {
   "cell_type": "markdown",
   "id": "8f5d6b32",
   "metadata": {},
   "source": [
    "# 4. Tabellarische Daten erkunden\n",
    "\n",
    "## 4.1 Datenstruktur DataFrame\n",
    "\n",
    "Bisher haben wir uns mit Datenreihen beschäftigt, sozusagen eindimensionalen\n",
    "Arrays. Das Modul Pandas stellt zur Verwaltung von Datenreihen die Datenstruktur\n",
    "Series zur Verfügung. In diesem Kapitel lernen wir die Datenstruktur\n",
    "**DataFrame** kennen, die die Verwaltung von tabellarischen Daten ermöglicht,\n",
    "also sozusagen zweidimensionalen Arrays.\n",
    "\n",
    "### Lernziele Kapitel 4.1\n",
    "\n",
    "* Sie kennen die Datenstruktur **DataFrame**.\n",
    "* Sie kennen das **csv-Dateiformat**.\n",
    "* Sie können eine csv-Datei mit **read_csv()** einlesen.\n",
    "* Sie können die ersten Zeilen eines DataFrames mit **.head()** anzeigen lassen.\n",
    "* Sie konnen mit **.info()** sich einen Überblick über die importierten Daten\n",
    "  verschaffen.\n",
    "* Sie können mit **.describe()** die statistischen Kennzahlen ermitteln.\n",
    "\n",
    "### Was ist ein DataFrame?\n",
    "\n",
    "Bei Auswertung von Messungen ist der häufigste Fall der, dass Daten in Form\n",
    "einer Tabelle vorliegen. Ein DataFrame-Objekt entspricht einer Tabelle, wie man\n",
    "sie beispielsweise von Excel, LibreOffice oder Numbers kennt. Sowohl Zeile als\n",
    "auch Spalten sind indiziert. Typischerweise werden die Daten in der Tabelle\n",
    "zeilenweise angeordnet. Damit ist gemeint, dass jede Zeile einen Datensatz\n",
    "darstellt und die Spalten die Eigenschaften speichern.\n",
    "\n",
    "Ein DataFrame kann direkt über mehrere Pandas-Series-Objekte oder verschachtelte\n",
    "Listen erzeugt werden. Da es in der Praxis nur selten vorkommt und nur für sehr\n",
    "kleine Datenmengen praktikabel ist, Daten händisch zu erfassen, fokussieren wir\n",
    "gleich auf die Erzeugung von DataFrame-Objekten aus einer Datei.\n",
    "\n",
    "### Import von Tabellen mit .read_csv()\n",
    "\n",
    "Tabellen liegen werden oft in dem Dateiformat abgespeichert, das die jeweilige\n",
    "Tabellenkalkulationssoftware Excel, Numbers oder LibreOffice Calc als Standard\n",
    "eingestellt hat. Wir betrachten in dieser Vorlesung Tabellen, die in einem\n",
    "offenen Standardformat vorliegen und damit unabhängig von der verwendeten\n",
    "Software und dem verwendeten Betriebssystem sind.\n",
    "\n",
    "Das **Dateiformat CSV** speichert Daten zeilenweise ab. Dabei steht CSV für\n",
    "\"comma separated value\". Die Trennung der Spalten erfolgt durch ein\n",
    "Trennzeichen, normalerweise durch das Komma. Im deutschsprachigen Raum wird\n",
    "gelegentlich ein Semikolon verwendet, weil im deutschprachigen Raum das Komma\n",
    "als Dezimaltrennzeichen verwendet wird.\n",
    "\n",
    "Um Tabellen im csv-Format einzulesen, bietet Pandas eine eigene Funktion namens\n",
    "`read_csv` an (siehe [Dokumentation →\n",
    "read_csv](https://pandas.pydata.org/docs/reference/api/pandas.read_csv.html)).\n",
    "Wird diese Funktion verwendet, um die Daten zu importieren, so wird automatisch\n",
    "ein DataFrame-Objekt erzeugt. Beim Aufruf der Funktion wird mindestens der\n",
    "Dateiname übergeben. Zusäztliche Optionen können über optionale Argumente\n",
    "eingestellt werden. Beispielweise könnte auch das Semikolon als Trennzeichen\n",
    "eingestellt werden.\n",
    "\n",
    "Am besten sehen wir uns die Funktionsweise von `read_csv` an einem Beispiel an.\n",
    "Sollten Sie mit einem lokalen Jupyter Notebook arbeiten, laden Sie bitte die\n",
    "Datei\n",
    "[autoscout24_xxs.csv](https://gramschs.github.io/book_ml4ing/data/autoscout24_xxs.csv)\n",
    "herunter und speichern Sie sie in denselben Ordner, in dem auch dieses Jupyter\n",
    "Notebook liegt. Alternativ können Sie die csv-Datei auch über die URL\n",
    "importieren, wie es in der folgenden Code-Zelle gemacht wird. Die csv-Datei\n",
    "enthält die Angaben zu 10 Autos, die auf\n",
    "[Autoscout24](https://www.autoscout24.de) zum Verkauf angeboten wurden.\n",
    "\n",
    "Führen Sie dann anschließend die folgende Code-Zelle aus."
   ]
  },
  {
   "cell_type": "code",
   "execution_count": null,
   "id": "561f1244",
   "metadata": {},
   "outputs": [],
   "source": [
    "import pandas as pd\n",
    "\n",
    "url = 'https://gramschs.github.io/book_ml4ing/data/autoscout24_xxs.csv'\n",
    "tabelle = pd.read_csv(url)"
   ]
  },
  {
   "cell_type": "markdown",
   "id": "9ae1b39a",
   "metadata": {},
   "source": [
    "Es erscheint keine Fehlermeldung, aber den Inhalt der geladenen Datei sehen wir\n",
    "trotzdem nicht. Dazu verwenden wir die Methode `.head()`.\n",
    "\n",
    "### Anzeige der ersten Zeilen mit .head()\n",
    "\n",
    "Probieren wir einfachmal aus, was die Anwendung der Methode `.head()` bewirkt."
   ]
  },
  {
   "cell_type": "code",
   "execution_count": null,
   "id": "8f43122f",
   "metadata": {},
   "outputs": [],
   "source": [
    "tabelle.head()"
   ]
  },
  {
   "cell_type": "markdown",
   "id": "b83552c4",
   "metadata": {},
   "source": [
    "Die Methode `.head()` zeigt uns die ersten fünf Zeilen der Tabelle an. Wenn wir\n",
    "beispielsweise die ersten 10 Zeilen anzeigen lassen wollen, so verwenden wir die\n",
    "Methode .head() mit dem Argument 10, also `.head(10)`:"
   ]
  },
  {
   "cell_type": "code",
   "execution_count": null,
   "id": "44a958a6",
   "metadata": {},
   "outputs": [],
   "source": [
    "tabelle.head(10)"
   ]
  },
  {
   "cell_type": "markdown",
   "id": "a9218cc3",
   "metadata": {},
   "source": [
    "Offensichtlich wurde beim Import der Daten wieder ein impliziter Index 0, 1, 2,\n",
    "usw. gesetzt. Das ist nicht weiter verwunderlich, denn Pandas kann nicht wissen,\n",
    "welche Spalte wir als Index vorgesehen haben. Und manchmal ist ein automatisch\n",
    "erzeugter impliziter Index auch nicht schlecht. In diesem Fall würden wir aber\n",
    "gerne als Zeilenindex die Auto-IDs verwenden. Daher modifizieren wir den Befehl\n",
    "read_csv mit dem optionalen Argument `index_col=`. Die Namen stehen in der 1.\n",
    "Spalte, was in Python-Zählweise einer 0 entspricht."
   ]
  },
  {
   "cell_type": "code",
   "execution_count": null,
   "id": "7095c5c9",
   "metadata": {},
   "outputs": [],
   "source": [
    "tabelle = pd.read_csv('autoscout24_xxs.csv', index_col=0)\n",
    "tabelle.head(10)"
   ]
  },
  {
   "cell_type": "markdown",
   "id": "9941792f",
   "metadata": {},
   "source": [
    "### Übersicht verschaffen mit .info()\n",
    "\n",
    "Das obige Beispiel zeigt uns zwar nun die ersten 10 Zeilen des importierten\n",
    "Datensatzes, aber wie viele Daten insgesamt enthalten sind, können wir mit der\n",
    "`.head()`-Methode nicht erfassen. Dafür stellt Pandas die Methode `.info()` zur\n",
    "Verfügung. Probieren wir es einfach aus."
   ]
  },
  {
   "cell_type": "code",
   "execution_count": null,
   "id": "fd86ea6c",
   "metadata": {},
   "outputs": [],
   "source": [
    "tabelle.info()"
   ]
  },
  {
   "cell_type": "markdown",
   "id": "a2bcd6cd",
   "metadata": {},
   "source": [
    "Mit `.info()` erhalten wir eine Übersicht, wie viele Spalten es gibt und auch\n",
    "die Spaltenüberschriften werden aufgelistet.\n",
    "\n",
    "Weiterhin entnehmen wir der Ausgabe von `.info()`, dass in jeder Spalte 10\n",
    "Einträge sind, die 'non-null' sind. Damit ist gemeint, dass diese Zellen beim\n",
    "Import nicht leer waren. Zudem wird bei jeder Spalte noch der Datentyp\n",
    "angegeben. Für die Marke oder das Modell, die als Strings gespeichert sind, wird\n",
    "der allgemeine Datentyp 'object' angegeben. Beim Jahr oder dem Preis wurden\n",
    "korrektweise Integer erkannt. Der Verbrauch (Liter pro 100 Kilometer) wird als\n",
    "Float gespeichert.\n",
    "\n",
    "### Statistische Kennzahlen mit .describe()\n",
    "\n",
    "So wie die Methode `.info()` uns einen schnellen Überblick über die Daten eines\n",
    "DataFrame-Objektes gibt, so liefert die Methode `.describe()` eine schnelle\n",
    "Übersicht über statistische Kennzahlen."
   ]
  },
  {
   "cell_type": "code",
   "execution_count": null,
   "id": "7127868f",
   "metadata": {},
   "outputs": [],
   "source": [
    "tabelle.describe()"
   ]
  },
  {
   "cell_type": "markdown",
   "id": "a88ff7d5",
   "metadata": {},
   "source": [
    "Da es sich eingebürgert hat, Daten zeilenweise abzuspeichern und die Eigenschaft\n",
    "pro einzelnem Datensatz in den Spalten zu speichern, wertet `.describe()` jede\n",
    "Spalte für sich aus. Für jede Eigenschaft werden dann die statistischen\n",
    "Kennzahlen\n",
    "\n",
    "* count\n",
    "* mean\n",
    "* std\n",
    "* min\n",
    "* max\n",
    "* Quantile 25 %, 50 % und 75 %\n",
    "* max\n",
    "\n",
    "ausgegeben.\n",
    "\n",
    "Die Bedeutung der Kennzahlen wird in der\n",
    "[Dokumentation → describe()](https://pandas.pydata.org/docs/reference/api/pandas.DataFrame.describe.html)\n",
    "erläutert. Sie entsprechen den statistischen Kennzahlen, die die Methode\n",
    ".describe() für Series-Objekte liefert. Pandas hat hier auch auf den Datentyp\n",
    "reagiert. Nur für numerische Werte (Integer oder Float) wurden die statistischen\n",
    "Kennzahlen ermittelt.\n",
    "\n",
    "### Zusammenfassung und Ausblick Kapitel 4.1\n",
    "\n",
    "Mit Hilfe der Datenstruktur DataFrame können tabellarische Daten verwaltet\n",
    "werden. In den nächsten Kapiteln werden wir uns damit beschäftigen, auf einzelne\n",
    "Spalten oder Zeilen zuzugreifen und die Datenpunkte als sogenannten Scatterplot\n",
    "zu visualisieren.\n",
    "\n",
    "## 4.2 Arbeiten mit Tabellendaten\n",
    "\n",
    "In Tabellenkalkulationssoftware ist es möglich, einzelne Zeilen oder Spalten zu\n",
    "bearbeiten. Pandas mit seiner Dantestruktur DataFrame bietet diese Möglichkeit\n",
    "ebenfalls. Wie auf einzelne Spalten und Zeilen zugegriffen wird und wie die\n",
    "Daten bearbeitet werden können, zeigt dieses Kapitel.\n",
    "\n",
    "## Lernziele Kapitel 4.2\n",
    "\n",
    "* Sie können mit eckigen Klammern **[]** und dem Spaltenindex auf eine ganze\n",
    "  Spalte zugreifen.\n",
    "* Sie können mit **.loc[]** und dem Zeilenindex auf eine ganze Zeile zugreifen.\n",
    "* Sie können mit **.loc[zeileindex, spaltenindex]** auf eine einzelne Zelle der\n",
    "  Tabelle zugreifen.\n",
    "* Sie können mehrere unzusammenhängende Zeilen/Spalten mittels Liste auswählen.\n",
    "* Sie können zusammenhängende Bereich mittels **Slicing** auswählen.\n",
    "* Sie können eine Tabelle um eine Zeile oder Spalte erweitern.\n",
    "\n",
    "### Zugriff auf Spalten\n",
    "\n",
    "Bei einer Liste oder der Pandas-Datenstruktur Series haben wir auf ein einzelnes\n",
    "Element zugegriffen, indem wir eckige Klammern benutzt haben. Bei Tabellen und\n",
    "damit auch DataFrames ist es üblich, dass die Eigenschaften in den Spalten\n",
    "stehen und in den Zeilen die einzelnen Datensätze. Mit den eckigen Klammern und\n",
    "dem Indexnamen greifen wir diesmal also nicht nur ein Element heraus, sondern\n",
    "gleich eine ganze Spalte.\n",
    "\n",
    "Falls Sie aus dem vorherigen Kapitel den Datensatz {download}`Download\n",
    "autoscout24_xxs.csv\n",
    "<https://gramschs.github.io/book_ml4ing/data/autoscout24_xxs.csv>` noch geladen\n",
    "haben, können Sie sich mit `.info()` die Spaltenüberschriften, also den Index,\n",
    "direkt anzeigen lassen. Ansonsten importieren Sie zuerst Pandas mit seiner\n",
    "üblichen Abkürzung pd und laden den Datensatz."
   ]
  },
  {
   "cell_type": "code",
   "execution_count": null,
   "id": "5bf48929",
   "metadata": {},
   "outputs": [],
   "source": [
    "import pandas as pd\n",
    "tabelle = pd.read_csv('autoscout24_xxs.csv', index_col=0)\n",
    "tabelle.info()"
   ]
  },
  {
   "cell_type": "markdown",
   "id": "a0f2bbd5",
   "metadata": {},
   "source": [
    "Die Farbe der 10 Autos können wir folgendermaßen aus der Tabelle auswählen:"
   ]
  },
  {
   "cell_type": "code",
   "execution_count": null,
   "id": "9f9c321e",
   "metadata": {},
   "outputs": [],
   "source": [
    "farbe = tabelle['Farbe']"
   ]
  },
  {
   "cell_type": "markdown",
   "id": "4cd29501",
   "metadata": {},
   "source": [
    "Was steckt jetzt in der Variable `farbe`? Ermitteln wir zunächst, welchen\n",
    "Datentyp das Objekt hat, das in `farbe` gespeichert ist."
   ]
  },
  {
   "cell_type": "code",
   "execution_count": null,
   "id": "3ac9916c",
   "metadata": {},
   "outputs": [],
   "source": [
    "type(farbe)"
   ]
  },
  {
   "cell_type": "markdown",
   "id": "f4a74cd9",
   "metadata": {},
   "source": [
    "Es ist ein Series-Objekt mit dem Namen Farbe, also dem Spaltenindex. Das neu\n",
    "erzeugte Series-Objekt kann also beispielsweise mit `.head()` angezeigt werden."
   ]
  },
  {
   "cell_type": "code",
   "execution_count": null,
   "id": "44e2baaf",
   "metadata": {},
   "outputs": [],
   "source": [
    "farbe.head()"
   ]
  },
  {
   "cell_type": "markdown",
   "id": "dc75613f",
   "metadata": {},
   "source": [
    "Ein DataFrame besteht aus Series-Objekten.\n",
    "\n",
    "### Zugriff auf Zeilen\n",
    "\n",
    "Natürlich kann es auch Gründe geben, sich einen einzelnen Datensatz mit allen\n",
    "Eigenschaften herauszugreifen. Oder anders ausgedrückt, vielleicht möchte man in\n",
    "der Tabelle eine einzelne Zeile auswählen. Dazu gibt es das Attribut `.loc`.\n",
    "Danach werden wieder eckige Klammern benutzt, wobei diesmal der Zeilenindex\n",
    "verwendet wird.\n",
    "\n",
    "Der folgende Code-Schnippsel speichert die Zeile des 4. Autos (= BMW Nr. 1) in\n",
    "der Variable `viertes_auto` ab. Wir ermitteln gleich den Datentyp dazu."
   ]
  },
  {
   "cell_type": "code",
   "execution_count": null,
   "id": "923aac59",
   "metadata": {},
   "outputs": [],
   "source": [
    "viertes_auto = tabelle.loc['BMW Nr. 1']\n",
    "type(viertes_auto)"
   ]
  },
  {
   "cell_type": "markdown",
   "id": "493d98ba",
   "metadata": {},
   "source": [
    "Auch eine einzelne Zeile ist eine Series-Datenstruktur, die wir mit den\n",
    "Series-Methoden weiter bearbeiten können. Der Name des Series-Objektes ist\n",
    "diesmal der alte Zeilenindex. Wir lassen den Datensatz mit `.head()` anzeigen."
   ]
  },
  {
   "cell_type": "code",
   "execution_count": null,
   "id": "f1e05318",
   "metadata": {},
   "outputs": [],
   "source": [
    "viertes_auto.head()"
   ]
  },
  {
   "cell_type": "markdown",
   "id": "a2ee3b02",
   "metadata": {},
   "source": [
    "### Zugriff auf Zellen\n",
    "\n",
    "Es kann auch vorkommen, dass man gezielt auf eine einzelne Zelle zugreifen\n",
    "möchte. Auch dazu benutzen wir das Attribut `.loc[]`. Für eine einzelne Zelle\n",
    "müssen wir angeben, in welcher Zeile und in welcher Spalte sich diese Zelle\n",
    "befindet. Das Attribut `.loc[]` ermöglicht auch zwei Angaben, also Zeile und\n",
    "Spalte, indem beide Werte durch ein Komma getrennt werden.\n",
    "\n",
    "Wollen wir beispielsweise wissen, wann der Audi Nr. 3 zum zugelassen wurde, so\n",
    "gehen wir folgendermaßen vor:"
   ]
  },
  {
   "cell_type": "code",
   "execution_count": null,
   "id": "ab284210",
   "metadata": {},
   "outputs": [],
   "source": [
    "erstzulassung_audi3 = tabelle.loc['Audi Nr. 3', 'Erstzulassung']\n",
    "type(erstzulassung_audi3)"
   ]
  },
  {
   "cell_type": "markdown",
   "id": "6ece9da6",
   "metadata": {},
   "source": [
    "Jetzt erhalten wir keine Series-Datenstruktur zurück, sondern den Datentyp des\n",
    "Elements in dieser Zelle. In unserem Beispiel ist die Erstzulassung als String\n",
    "gespeichert, den wir mit der print()-Funktion ausgeben lassen können:"
   ]
  },
  {
   "cell_type": "code",
   "execution_count": null,
   "id": "e5dfb3f7",
   "metadata": {},
   "outputs": [],
   "source": [
    "print(erstzulassung_audi3 )"
   ]
  },
  {
   "cell_type": "markdown",
   "id": "bdf9e80f",
   "metadata": {},
   "source": [
    "Wir Menschen können diesen String natürlich interpretieren und sehen, dass der\n",
    "Audi Nr. 3 im November 2018 zum ersten Mal zugelassen wurde. Für Python ist es\n",
    "an dieser Stelle aber nicht möglich, eine korrekte Interpretation des Strings zu\n",
    "bieten.\n",
    "\n",
    "### Mehrere Zeilen oder Spalten\n",
    "\n",
    "Sollen mehrere Zeilen oder Spalten gleichzeitig ausgewählt werden, so werden die\n",
    "entsprechenden Indizes als eine Liste in die eckigen Klammern gesetzt.\n",
    "\n",
    "Der folgende Code wählt sowohl die Erstzulassung als auch den Preis aus."
   ]
  },
  {
   "cell_type": "code",
   "execution_count": null,
   "id": "65d36fd5",
   "metadata": {},
   "outputs": [],
   "source": [
    "mehrere_spalten = tabelle[ ['Erstzulassung', 'Preis (Euro)'] ]\n",
    "mehrere_spalten.head()"
   ]
  },
  {
   "cell_type": "markdown",
   "id": "f2268ebf",
   "metadata": {},
   "source": [
    "Wenn die Spalten oder Zeilen nacheinander kommen, also zusammenhängend sind,\n",
    "brauchen wir nicht alle Indizes in die Liste schreiben. Dann genügt es, den\n",
    "ersten Index und den letzten Index zu nehmen und dazwischen einen Doppelpunkt zu\n",
    "setzen. Diese Art, Zeilen oder Spalten auszuwählen, wird in der Informatik als\n",
    "**Slicing** bezeichnet. Alle Autos der Marke Citroën werden also folgendermaßen\n",
    "extrahiert:"
   ]
  },
  {
   "cell_type": "code",
   "execution_count": null,
   "id": "d46325e7",
   "metadata": {},
   "outputs": [],
   "source": [
    "citroens = tabelle.loc[ 'Citroen Nr. 1' : 'Citroen Nr. 5'] \n",
    "citroens.head()"
   ]
  },
  {
   "cell_type": "markdown",
   "id": "07569b38",
   "metadata": {},
   "source": [
    "Jetzt kann beispielsweise der mittlere Verkaufspreis aller Citroëns\n",
    "folgendermaßen ermittelt werden:"
   ]
  },
  {
   "cell_type": "code",
   "execution_count": null,
   "id": "3d8fc4e9",
   "metadata": {},
   "outputs": [],
   "source": [
    "mittelwert = citroens['Preis (Euro)'].mean()\n",
    "print(f'Der mittlere Verkaufspreis der Citroens ist {mittelwert:.2f} EUR.')"
   ]
  },
  {
   "cell_type": "markdown",
   "id": "f74da509",
   "metadata": {},
   "source": [
    "Beim Slicing können wir den Angangsindex oder den Endindex oder sogar beides\n",
    "weglassen. Wenn wir den Anfangsindex weglassen, fängt Pandas bei der ersten\n",
    "Zeile/Spalte an. Lassen wir den Endindex weg, geht der Slice automatisch bis zum\n",
    "Ende.\n",
    "\n",
    "### Neue Spalte oder Zeile einfügen\n",
    "\n",
    "Eine neue Spalte einzufügen, funktioniert recht einfach. Dazu wird ein neuer\n",
    "Spaltenindex erzeugt."
   ]
  },
  {
   "cell_type": "code",
   "execution_count": null,
   "id": "a7339069",
   "metadata": {},
   "outputs": [],
   "source": [
    "tabelle['Verbrauch pro Leistung'] = tabelle['Verbrauch (l/100 km)'] / tabelle['Leistung (PS)']\n",
    "tabelle.head(10)"
   ]
  },
  {
   "cell_type": "markdown",
   "id": "de52ecbe",
   "metadata": {},
   "source": [
    "Nach demselben Prinzip können wir einen neuen Datensatz aufnehmen und eine neue\n",
    "Zeile einfügen. Da wir uns auf die Zeilen beziehen, verwenden wir wieder\n",
    "`loc[]`."
   ]
  },
  {
   "cell_type": "code",
   "execution_count": null,
   "id": "f00c99d7",
   "metadata": {},
   "outputs": [],
   "source": [
    "tabelle.loc['Dacia Nr. 1'] = ['dacia', 'Dacia Duster', 'orange', '03/2023', 2023, 25749, 84, 114, 'Schaltgetriebe', 'Diesel', 5.3, 140, 5.0, 'Journey Blue dCi 115 4x4', 5.3/114] \n",
    "tabelle.head(11)"
   ]
  },
  {
   "cell_type": "markdown",
   "id": "dc84141b",
   "metadata": {},
   "source": [
    "### Zusammenfassung und Ausblick Kapitel 4.2\n",
    "\n",
    "In diesem Kapitel haben wir uns damit beschäftigt, wie tabellarische Daten\n",
    "verwaltet werden. Im nächsten Kapitel geht es darum, diese zu visualisieren.\n",
    "\n",
    "## 4.3 Scatterplots und Scattermatrix\n",
    "\n",
    "Bei der Datenvisualisierung geht es darum, Daten durch eine Grafik so\n",
    "aufzubereiten, dass Muster oder Unregelmäßigkeiten in den Daten entdeckt werden\n",
    "können. Dabei kann die visuelle Darstellung der Daten helfen, Muster in den\n",
    "Daten zu entdecken, aber sie kann auch irreführend sein. Abhängig davon, wie die\n",
    "Art der Daten beschaffen ist, die wir visualisieren wollen, gibt es verschiedene\n",
    "Darstellungsformen, die sogenannten **Diagrammtypen**. Im Folgenden betrachten wir\n",
    "die Diagrammtypen\n",
    "\n",
    "* Scatterplot und\n",
    "* Scattermatrix.\n",
    "\n",
    "Danach beschäftigen wir uns mit der Gestaltung bzw. dem Styling von Diagrammen.\n",
    "\n",
    "## Lernziele Kapitel 4.3\n",
    "\n",
    "* Sie können mit der Funktion **scatter()** einen **Scatterplot** erzeugen, der\n",
    "  numerische Daten als Ursache-Wirkungs-Diagramm visualisiert.\n",
    "* Sie kennen die folgenden Styling-Optionen\n",
    "  * Textannotation **text=**,\n",
    "  * Farbe **color=** und\n",
    "  * Größe **size=**.\n",
    "* Sie können mit **title=** den Titel des Diagramms setzen.\n",
    "* Sie können eine **Scattermatrix** mit **scatter_matrix()** erzeugen und\n",
    "  interpretieren.\n",
    "\n",
    "### Scatterplots\n",
    "\n",
    "Scatterplots (deutsch: Streudiagramme) werden eingesetzt, wenn der Zusammenhang\n",
    "zwischen zwei numerischen Größen untersucht werden soll. Das ist vor allem bei\n",
    "Experimenten häufig der Fall.\n",
    "\n",
    "Im Folgenden soll der Scatterplot anhand des Autoscout24-Beispiels\n",
    "{download}`Download autoscout24_xxs.csv\n",
    "<https://gramschs.github.io/book_ml4ing/data/autoscout24_xxs.csv>` demonstriert\n",
    "werden. Dazu laden wir die Tabelle wie üblich mit Pandas."
   ]
  },
  {
   "cell_type": "code",
   "execution_count": null,
   "id": "058f893a",
   "metadata": {},
   "outputs": [],
   "source": [
    "import pandas as pd\n",
    "daten = pd.read_csv('autoscout24_xxs.csv', index_col=0)\n",
    "daten.info()"
   ]
  },
  {
   "cell_type": "markdown",
   "id": "e99d0a41",
   "metadata": {},
   "source": [
    "Uns interessieren zunächst die Verkaufspreise der Autos. Zu jedem Auto soll\n",
    "entlang der y-Achse der Verkaufspreis aufgetragen werden. Dazu wird zuerst\n",
    "Plotly Express mit der üblichen Abkürzung px importiert. Danach nutzen wir die\n",
    "Funktion `scatter()`. Das erste Argument in den runden Klammern ist die\n",
    "komplette Tabelle, also `daten`. Danach geben wir direkt den Spaltenindex der\n",
    "Spalte an, die visualisiert werden soll, also `y = 'Preis (Euro)'`. Zuletzt\n",
    "lassen wir den Scatterplot auch mit `.show()` anzeigen."
   ]
  },
  {
   "cell_type": "code",
   "execution_count": null,
   "id": "6088b40d",
   "metadata": {},
   "outputs": [],
   "source": [
    "import plotly.express as px\n",
    "diagramm = px.scatter(daten, y = 'Preis (Euro)')\n",
    "diagramm.show()"
   ]
  },
  {
   "cell_type": "markdown",
   "id": "70df3466",
   "metadata": {},
   "source": [
    "Da wir für die x-Achse keine Angaben gemacht haben, wird automatisch der\n",
    "Zeilenindex für die x-Achse verwendet.\n",
    "\n",
    "Der Scatterplot bietet im Vergleich zum Boxplot weitere Informationen.\n",
    "Beispielsweise erkennen wir nun, dass die Autos der Marke Citroën eher unter dem\n",
    "Durchschnitt liegen. Scatterplots bieten uns auch die Möglichkeit, Muster zu\n",
    "visuell zu erkunden, um Abhängigkeiten von Ursache und Wirkung zu erkunden. Wir\n",
    "könnten beispielsweise auf die Idee kommen, dass der Preis (= Wirkung) auch\n",
    "abhängig ist von der Anzahl der gefahrenen Kilometer (= Ursache). Wir setzen die\n",
    "vermutete Ursache auf die x-Achse mit dem Argument `x = 'Kilometerstand (km)'`\n",
    "und die vermutete Wirkung auf die y-Achse mit `y = 'Preis (Euro)'`."
   ]
  },
  {
   "cell_type": "code",
   "execution_count": null,
   "id": "70a9c247",
   "metadata": {},
   "outputs": [],
   "source": [
    "diagramm = px.scatter(daten, x = 'Kilometerstand (km)', y = 'Preis (Euro)')\n",
    "diagramm.show()"
   ]
  },
  {
   "cell_type": "markdown",
   "id": "f80ffe55",
   "metadata": {},
   "source": [
    "Von der Tendenz her scheint unsere Vermutung richtig zu sein. Je mehr Kilometer\n",
    "ein Auto bereits gefahren wurde, desto günstiger ist sein Verkaufspreis.\n",
    "Allerdings scheint es zwei Autos zu geben, die nicht ganz in dieses Muster\n",
    "passen. Ein Auto wird trotz eines Kilometerstandes von 117433 km für 46 TEUR\n",
    "angeboten, an anderes hat nur 15200 km auf dem Buckel, soll aber trotzdem für\n",
    "nur 12 TEUR verkauft werden. Aber welche Autos sind die beiden Ausnahmen? Um\n",
    "mehr Informationen aus den Daten zu holen, beschäftigen wir uns mit dem Styling\n",
    "von Scatterplots.\n",
    "\n",
    "### Styling von Scatterplots\n",
    "\n",
    "Die Voreinstellungen von Plotly sind bereits sehr gut gewählt, so dass ohne\n",
    "weitere Optionen bereits gut aussehende und informative Diagramme erstellt\n",
    "werden können. Eine Möglichkeit, durch das Styling der Diagramme\n",
    "Zusatzinformationen zu visualisieren, bietet die Option `text=`. Wir verwenden\n",
    "den Zeilenindex als Text, der in dem Attribut `.index` gespeichert ist."
   ]
  },
  {
   "cell_type": "code",
   "execution_count": null,
   "id": "877735a6",
   "metadata": {},
   "outputs": [],
   "source": [
    "diagramm = px.scatter(daten, x = 'Kilometerstand (km)', y = 'Preis (Euro)', text=daten.index)\n",
    "diagramm.show()"
   ]
  },
  {
   "cell_type": "markdown",
   "id": "77aa2d04",
   "metadata": {},
   "source": [
    "An jedem Datenpunkt wird nun zusätzlich die Auto-ID eingeblendet. Leider\n",
    "überschreibt der Text den Datenpunkt selbst. Das kann nachträglich geändert\n",
    "werden, indem die Textposition relativ zu den Datenpunkten auf einen anderen\n",
    "Wert gesetzt wird. Die einzelnen Bestandteile eines Plotly-Express-Diagramms\n",
    "heißen **trace**. Sie werden durch `update_traces()` aktualisiert oder anders\n",
    "ausgedrückt, die Voreinstellungen werden dadurch überschrieben. Wir möchten,\n",
    "dass die Position der Texte oberhalb der Datenpunkte ist, aber dennoch zentriert\n",
    "zum Datenpunkt. Durch das Argument `textposition='top center'` erreichen wir\n",
    "dieses Ziel, wie der folgende Scatterplot zeigt."
   ]
  },
  {
   "cell_type": "code",
   "execution_count": null,
   "id": "ca79c77f",
   "metadata": {},
   "outputs": [],
   "source": [
    "diagramm = px.scatter(daten, x = 'Kilometerstand (km)', y = 'Preis (Euro)', text=daten.index)\n",
    "diagramm.update_traces(textposition='top center')\n",
    "diagramm.show()"
   ]
  },
  {
   "cell_type": "markdown",
   "id": "33c11337",
   "metadata": {},
   "source": [
    "Als nächstes möchten wir weitere Zusatzinformationen in das Diagramm packen.\n",
    "Nicht immer ist es sinnvoll, so viele Zusatzinformationen in ein Diagramm zu\n",
    "bringen, da damit das Publikum auch schnell überfordert werden kann. Daher\n",
    "sollte gut überlegt werden, ob die beiden nächsten Möglichkeiten gleichzeitig\n",
    "genutzt werden sollen.  \n",
    "\n",
    "Die Farbe ist eine weitere Möglichkeit, Zusatzinformationen zu visualisieren.\n",
    "Wie alt ist ein Auto? Hat es ebenfalls einen Einfluss auf den Verkaufspreis? Wir\n",
    "nutzen das Jahr der Erstzulassung, um das Alter der Autos abzuschätzen. Die\n",
    "Anweisung an Python, die Punkte des Scatterplots nach der Erstzulassung\n",
    "einzufärben, wird durch das optionale Argument `color='Jahr'` gegeben."
   ]
  },
  {
   "cell_type": "code",
   "execution_count": null,
   "id": "e0f487a3",
   "metadata": {},
   "outputs": [],
   "source": [
    "diagramm = px.scatter(daten, x = 'Kilometerstand (km)', y = 'Preis (Euro)', text=daten.index, color='Jahr')\n",
    "diagramm.update_traces(textposition='top center')\n",
    "diagramm.show()"
   ]
  },
  {
   "cell_type": "markdown",
   "id": "d4ac074c",
   "metadata": {},
   "source": [
    "Die Farbe scheint links gelber zu sein als rechts, wo Auto 'Audi Nr. 1' violett\n",
    "gefärbt ist. Also scheint das Jahr der Erstzulassung und damit das Alter der\n",
    "Fahrzeuge auch etwas mit dem Kilometerstand zu tun zu haben, der auf der x-Achse\n",
    "aufgetragen ist. Je jünger das Fahrzeug ist, desto weniger Kilomter wurde es\n",
    "bisher gefahren.\n",
    "\n",
    "Als zweite Möglichkeit, Zusatzinformationen direkt mit den Datenpunkten im\n",
    "Scatterplot zu visualisieren, dient die Größe der Punkte. Mit dem optionalen\n",
    "Argument `size=` wird sie gesteuert. Wiederum verwenden wir einen Spaltenindex\n",
    "als Argument. Die Leistung könnte erfahrungsgemäß ebenfalls den Verkaufspreis\n",
    "beeinflussen. Also setzen wir `size='Leistung (PS)'` und betrachten das so\n",
    "erweiterte Diagramm."
   ]
  },
  {
   "cell_type": "code",
   "execution_count": null,
   "id": "c2e3d689",
   "metadata": {},
   "outputs": [],
   "source": [
    "diagramm = px.scatter(daten, x = 'Kilometerstand (km)', y = 'Preis (Euro)', text=daten.index, color='Jahr', size='Leistung (PS)')\n",
    "diagramm.update_traces(textposition='top center')\n",
    "diagramm.show()"
   ]
  },
  {
   "cell_type": "markdown",
   "id": "9af283e3",
   "metadata": {},
   "source": [
    "Das Auto 'BMW Nr. 1', das uns schon zuvor aufgefallen ist, weil der Preis recht\n",
    "hoch ist, obwohl das Auto schon einen mittleren Kilomterstand hat, scheint\n",
    "besonders viel PS zu haben. Vielleicht erklärt das den hohen Preis?\n",
    "\n",
    "Als letzte Styling-Möglichkeit betrachten wir den Titel. Im Gegensatz zu den\n",
    "vorherigen Styling-Möglichkeiten, ist der Titel stets Pflicht. **Jedes Diagramm\n",
    "muss einen Titel haben!** Der Titel wird mit dem Argument `title=` gesetzt."
   ]
  },
  {
   "cell_type": "code",
   "execution_count": null,
   "id": "74a2e958",
   "metadata": {},
   "outputs": [],
   "source": [
    "diagramm = px.scatter(daten, x = 'Kilometerstand (km)', y = 'Preis (Euro)', text=daten.index, color='Jahr', size='Leistung (PS)', title='Verkaufsdaten von 10 Autos (Quelle: Autocout24.de)')\n",
    "diagramm.update_traces(textposition='top center')\n",
    "diagramm.show()"
   ]
  },
  {
   "cell_type": "markdown",
   "id": "44284650",
   "metadata": {},
   "source": [
    "### Scattermatrix\n",
    "\n",
    "Unsere Tabelle hat sieben Spalten mit numerischen Werten: Jahr, Preis (Euro),\n",
    "Leistung (kW), Leistung (PS), Verbrauch (l/100 km), Verbrauch (g/km) und\n",
    "Kilometerstand (km). Damit können sieben Eigenschaften als Ursache interpretiert\n",
    "werden und auf der x-Achse aufgetragen werden. Zu jeder dieser sieben\n",
    "Eigenschaften können dann die verbleibenden sechs Eigenschaften als Wirkung\n",
    "interpretiert werden und auf der y-Achse dargestellt werden. Also müssten wir 42\n",
    "Scatterplots untersuchen. Die Scattermatrix vereinfacht das Zusammenstellen\n",
    "dieser Kombinationen. Dazu legen wir erst eine Liste mit den Spaltenindizes an,\n",
    "die in die Scattermatrix aufgenommen werden sollen. Danach erzeugen wir mit der\n",
    "Funktion `scatter_matrix()` die gewünschten Kombinationen. Als erstes Argument\n",
    "werden die Daten aus der Tabelle übergeben, dann folgt die Liste der\n",
    "ausgewählten Spalten als Argument für den Parameter `dimensions=`."
   ]
  },
  {
   "cell_type": "code",
   "execution_count": null,
   "id": "e658faa5",
   "metadata": {},
   "outputs": [],
   "source": [
    "auswahl = ['Jahr', 'Preis (Euro)', 'Leistung (kW)', 'Leistung (PS)', 'Verbrauch (l/100 km)', 'Verbrauch (g/km)', 'Kilometerstand (km)']\n",
    "diagramm = px.scatter_matrix(daten, dimensions=auswahl)\n",
    "diagramm.show()"
   ]
  },
  {
   "cell_type": "markdown",
   "id": "34e91b51",
   "metadata": {},
   "source": [
    "Es werden 49 Diagramme angezeigt, die allerdings kaum lesbar sind. Warum 49 und\n",
    "nicht 42? Tatsächlich wird auch jede Eigenschaft als Ursache mit ihrer Wirkung\n",
    "auf sich selbst dargestellt. Da das Diagramm so kaum lesbar ist, reduzieren wir\n",
    "die Auswahl weiter und nehmen nur die ersten vier Eigenschaften."
   ]
  },
  {
   "cell_type": "code",
   "execution_count": null,
   "id": "62f2f79c",
   "metadata": {},
   "outputs": [],
   "source": [
    "auswahl = ['Jahr', 'Preis (Euro)', 'Leistung (kW)', 'Leistung (PS)']\n",
    "diagramm = px.scatter_matrix(daten, dimensions=auswahl)\n",
    "diagramm.show()"
   ]
  },
  {
   "cell_type": "markdown",
   "id": "4cfb4a93",
   "metadata": {},
   "source": [
    "Auf der Diagonalen befinden sich die Scatterplots, bei denen dieselbe\n",
    "Eigenschaft auf der x- und auf der y-Achse aufgetragen ist. Daher müssen diese\n",
    "Punkte immer auf der Winkelhalbierenden liegen. Diese Darstellung zeigt uns\n",
    "schnell, dass die Auswahl der Autos nicht gleichmäßig bezogen auf das Jahr der\n",
    "Erstzulassung erfolgt ist. Im Scatterplot Jahr - Jahr ist ein Punkt (1997) sehr\n",
    "weit von den restlichen Autos entfernt. Beim Preis hingegen sieht es besser aus,\n",
    "diese Punkte sind entlang der Winkelhalbierenden relativ gleichmäßig verteilt.\n",
    "Allerdings zeigen beide Scatterplots für die Leistung wiederum, dass ein Auto\n",
    "(kW = 294 bzw. PS = 400) von den anderen Autos entfern ist. Bei beiden Autos\n",
    "könnte man argumentieren, dass sie nicht repräsentativ für den Datensatz sind,\n",
    "sondern als Ausreißer betrachtet werden müssen. Es stellt sich die Frage, ob sie\n",
    "für die weitere Datenverarbeitung aus dem Datensatz gelöscht werden sollen.  \n",
    "\n",
    "Betrachten wir den Scatterplot Leistung (kW) vs. Leistung (PS), so stellen wir\n",
    "fest, dass die Punkte ebenfalls auf der Winkelhalbierenden liegen. Tatsächlich\n",
    "ist das nicht verwunderlich, da die Leistung ja nur eine einzige Eigenschaft\n",
    "darstellt, aber in zwei verschiedenen Einheiten angegeben wird. 1 Watt (W) sind\n",
    "ungefähr 0,00136 Pferdestärken (PS). Die Scattermatrix zeigt uns nun (wenn wir\n",
    "es nicht schon vorher wussten), dass wir nur eine der beiden Spalten brauchen.\n",
    "Diese Spalte könnte für die weitere Datenexploration gelöscht werden."
   ]
  },
  {
   "cell_type": "code",
   "execution_count": null,
   "id": "fa4c134e",
   "metadata": {},
   "outputs": [],
   "source": [
    "auswahl = ['Jahr', 'Preis (Euro)', 'Leistung (kW)']\n",
    "diagramm = px.scatter_matrix(daten, dimensions=auswahl)\n",
    "diagramm.show()"
   ]
  },
  {
   "cell_type": "markdown",
   "id": "517c50ef",
   "metadata": {},
   "source": [
    "Als letztes Interpretationsbeispiel betrachten wir die zweite Zeile der Matrix,\n",
    "wo der Preis (Euro) auf der y-Achse aufgetragen ist. Betrachten wir den ersten\n",
    "Scatterplot der zweiten Zeile, so scheint das Jahr keinen besonderen Einfluss\n",
    "auf den Verkaufspreis zu haben. Beim dritten Scatterplot in der zweiten Zeile,\n",
    "scheint es aber ein Muster zu geben. Mit wachsender Leistung scheint auch der\n",
    "Verkaufspreis zu steigen. Die Scattermatrix hilft also gerade zu Beginn der\n",
    "Datenexploration schnell, interessante Zusammenhänge zwischen einzelnen\n",
    "Eigenschaften aufzudecken, die dann durch einzelne Scatterplots näher untersucht\n",
    "werden können.\n",
    "\n",
    "### Zusammenfassung und Ausblick Kapitel 4.3\n",
    "\n",
    "In diesem Kapitel haben wir uns mit der Visualisierung von numerischen Werten\n",
    "beschäftigt. Die Scattermatrix ordnet alle Kombinationen von einzelnen\n",
    "Scatterplots in einer Matrix an. Damit können schnell Muster in den Daten\n",
    "gefunden werden, deren Abhängigkeiten dann wiederum durch einzelne Scatterplots\n",
    "detaillierter beleuchtet werden können. Bisher haben wir aber nur die\n",
    "numerischen Werte untersucht. Wie auch die nicht-numerischen Werte wie\n",
    "beispielsweise die Farbe der Autos mit in die Visualisierung einbezogen werden\n",
    "können, sehen wir im nächsten Kapitel.\n",
    "\n",
    "## Übungen\n",
    "\n",
    "Daten für die Übungen:\n",
    "\n",
    "* [12612-0001_de.csv](https://nextcloud.frankfurt-university.de/s/ddfDzAAnJtJ4FZQ)\n",
    "* [stromverbrauch_hessen.csv](https://nextcloud.frankfurt-university.de/s/bpZ8TZrzafKqAxq)\n",
    "\n",
    "### Übung 4.1 - Teilaufgabe a)\n",
    "\n",
    "Schauen Sie sich die csv-Datei '12612-0001_de.csv' im Texteditor an. Der\n",
    "Datensatz enthält die Lebendgeburten in Deutschland getrennt nach männlich,\n",
    "weiblich und insgesmt (Quelle:\n",
    "<https://www-genesis.destatis.de/datenbank/beta/statistic/12612/table/12612-0001>).\n",
    "Ab welcher Zeile beginnen die Daten und in welcher Zeile enden sie? Importieren\n",
    "Sie dann die Daten, wobei Kopf- und Fußzeilen beim Import übersprungen werden\n",
    "sollen. Welche Spalte ist als Index-Spalte geeignet? Setzen Sie eine passende\n",
    "Spalte als Index. Verschaffen Sie sich einen Überblick über die Daten und\n",
    "erstellen Sie eine Übersicht der statistischen Kennzahlen.\n",
    "\n",
    "Tipp: Importieren Sie pandas mit dem üblichen Alias pd und führen Sie dann die\n",
    "folgende Code-Zeile in einer Code-Zelle aus:\n",
    "\n",
    "```none\n",
    "pd.read_csv?\n",
    "```\n",
    "\n",
    "Welches Argument könnte für das Überspringen der Fußzeilen stehen?\n",
    "\n",
    "## Übung 4.1 - Teilaufgabe b)\n",
    "\n",
    "Kontrollieren Sie, ob die Spalte 'insgesamt' tatsächlich die Summe der beiden\n",
    "Spalten 'männlich' und 'weiblich' ist. Bilden Sie dazu die Differenz 'insgesamt' -\n",
    "'männlich' - 'weiblich' und fügen Sie diese Differenz als neue Spalte dem\n",
    "DataFrame hinzu. Wie lauten die statistischen Kennzahlen dieser Spalte? Welchen\n",
    "Schluss ziehen Sie daraus? Haben Sie eine Vermutung, was passiert ist?\n",
    "\n",
    "### Übung 4.1 - Teilaufgabe c)\n",
    "\n",
    "Lassen Sie die statistischen Kennzahlen der Lebendgeburten 'männlich' und\n",
    "'weiblich' als Boxplot visualisieren. Wurden mehr Jungen oder Mädchen geboren?\n",
    "Liegt der Median mittig zwischen Q1 und Q3?\n",
    "\n",
    "### Übung 4.1 - Teilaufgabe d)\n",
    "\n",
    "Visualisieren Sie die Anzahl der männlichen und weiblichen Lebendgeburten pro\n",
    "Jahr als Scatterplot. Beschriften Sie auch die Achsen und setzen Sie einen\n",
    "Titel.\n",
    "\n",
    "### Übung 4.2 - Teilaufgabe a)\n",
    "\n",
    "Schauen Sie sich die csv-Datei 'stromverbrauch_hessen.csv' im Texteditor an.\n",
    "Welche Daten enthält die Datei? Ab welcher Zeile beginnen die Daten und in\n",
    "welcher Zeile enden sie? Importieren Sie dann die Daten, wobei Kopf- und\n",
    "Fußzeilen beim Import übersprungen werden sollen. Welche Spalte ist als\n",
    "Index-Spalte geeignet? Setzen Sie eine passende Spalte als Index. Verschaffen\n",
    "Sie sich einen Überblick über die Daten und erstellen Sie eine Übersicht der\n",
    "statistischen Kennzahlen.\n",
    "\n",
    "## Übung 4.2 - Teilaufgabe b)\n",
    "\n",
    "Checken Sie, ob die Spalte 'insgesamt' tatsächlich die Summe der anderen Spalten ist.\n",
    "\n",
    "## Übung 4.2 - Teilaufgabe c)\n",
    "\n",
    "Fertigen Sie Boxplots an und bewerten Sie die statistischen Kennzahlen.\n",
    "\n",
    "## Übung 4.2 - Teilaufgabe d)\n",
    "\n",
    "Visualisieren Sie den Stromverbrauch der drei relvanten Sektoren Industrie,\n",
    "Verkehr und Haushalte abhängig vom Jahr in einem gemeinsamen Scatterplot. Setzen\n",
    "Sie einen Titel und beschriften Sie auch die Achsen.\n",
    "\n",
    "Gibt es Auffälligkeiten?"
   ]
  }
 ],
 "metadata": {
  "jupytext": {
   "formats": "ipynb,md:myst"
  },
  "kernelspec": {
   "display_name": "Python 3",
   "language": "python",
   "name": "python3"
  }
 },
 "nbformat": 4,
 "nbformat_minor": 5
}
