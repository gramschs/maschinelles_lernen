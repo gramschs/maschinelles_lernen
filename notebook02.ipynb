{
 "cells": [
  {
   "cell_type": "markdown",
   "id": "24c97000",
   "metadata": {},
   "source": [
    "# 2. Crashkurs Python\n",
    "\n",
    "In dieser Vorlesung werden wir Python für maschinelles Lernen nutzen. Daher\n",
    "folgt in diesem Part ein Crashkurs in Python. Wer daran interessiert ist, die\n",
    "Grundlagen von Python zu erlernen, bevor es mit maschinellem Lernen losgeht, ist\n",
    "herzlich dazu eingeladen, das\n",
    "[Python-Vorlesungsskript](https://gramschs.github.io/book_python/intro.html) für\n",
    "Studierende der Ingenieurwissenschaften nutzen.\n",
    "\n",
    "## 2.1 Datentypen, Variablen und print()\n",
    "\n",
    "Beim maschinellen Lernen geht es um Daten und Algorithmen. Dabei können die\n",
    "Daten alles Mögliche umfassen, beispielsweise Zahlen oder Texte. Daher\n",
    "beschäftigen wir uns zuerst mit Datentypen. Dann geht es um Variablen und deren\n",
    "Ausgabe auf dem Bildschirm.\n",
    "\n",
    "### Lernziele Kapitel 2.1\n",
    "\n",
    "* Sie kennen die einfachen Datentypen:\n",
    "  * **Integer**\n",
    "  * **Float**\n",
    "  * **String**\n",
    "* Sie wissen, was eine **Variable** ist und kennen den **Zuweisungsoperator**.\n",
    "* Sie können die **print()**-Funktion zur Ausgabe auf dem Bildschirm anwenden.\n",
    "\n",
    "### Einfache Datentypen\n",
    "\n",
    "Beim maschinellen Lernen geht es um die Sammlung, Erkundung und Analyse von\n",
    "Daten, um Antworten auf vorgegebene Fragen zu finden. Schematisch stellen wir\n",
    "maschinelles Lernen folgendermaßen dar:\n",
    "\n",
    "![Schematische Darstellung der Vorgehensweise im maschinellen Lernen](https://gramschs.github.io/book_ml4ing/_images/fig01_prozess.png)\n",
    "\n",
    "Der Computer kann Informationen aber nur als 0 und 1 verarbeiten. Auf dem\n",
    "Speichermedium oder im Speicher selbst werden Daten daher als eine Folge von 0\n",
    "und 1 gespeichert. Damit es für uns Programmierinnen und Programmierer einfacher\n",
    "wird, Daten zu speichern und zu verarbeiten, wurden Datentypen eingeführt.  \n",
    "\n",
    "**Datentypen** fassen gleichartige Objekte zusammen und stellen den\n",
    "Programmierer:innen passende Operationen zur Verfügung. Mit Operationen sind die\n",
    "Aktionen gemeint, die mit diesen Datenobjekten durchgeführt werden dürfen.\n",
    "Zahlen dürfen beispielsweise addiert werden, Buchstaben aber nicht. Es hängt von\n",
    "der Programmiersprache ab, welche Datentypen zur Verfügung stehen, wie diese im\n",
    "Hintergrund gespeichert werden und welche Operationen möglich sind.\n",
    "\n",
    "In diesem Kapitel beschäftigen wir uns mit den einfachen Datentypen\n",
    "\n",
    "* Integer,\n",
    "* Float und\n",
    "* String.\n",
    "\n",
    "#### Integer und Float\n",
    "\n",
    "In der Programmierung unterscheidet man grundsätzlich zwischen zwei Zahlenarten,\n",
    "den Ganzzahlen und den Gleitkommazahlen/Fließkommazahlen. Die Ganzzahlen werden\n",
    "in der Mathematik als **ganze Zahlen** bezeichnet. In der Informatik wird jedoch\n",
    "der englische Begriff dafür verwendet: **Integer**.\n",
    "\n",
    "Mit Integern können wir ganz normal rechnen, also arithmetische Operationen\n",
    "ausführen:"
   ]
  },
  {
   "cell_type": "code",
   "execution_count": null,
   "id": "8225057f",
   "metadata": {},
   "outputs": [],
   "source": [
    "2+3"
   ]
  },
  {
   "cell_type": "code",
   "execution_count": null,
   "id": "44ae5857",
   "metadata": {},
   "outputs": [],
   "source": [
    "2*3"
   ]
  },
  {
   "cell_type": "code",
   "execution_count": null,
   "id": "c79f4874",
   "metadata": {},
   "outputs": [],
   "source": [
    "6-7"
   ]
  },
  {
   "cell_type": "code",
   "execution_count": null,
   "id": "70b65bc0",
   "metadata": {},
   "outputs": [],
   "source": [
    "3*(4+7)"
   ]
  },
  {
   "cell_type": "code",
   "execution_count": null,
   "id": "bf019e27",
   "metadata": {},
   "outputs": [],
   "source": [
    "25/5"
   ]
  },
  {
   "cell_type": "code",
   "execution_count": null,
   "id": "95529f6a",
   "metadata": {},
   "outputs": [],
   "source": [
    "4**2"
   ]
  },
  {
   "cell_type": "markdown",
   "id": "f37e3497",
   "metadata": {},
   "source": [
    "Mit einer Operation verlassen wir aber bereits den Bereich der ganzen Zahlen,\n",
    "den Bereich der Integers. `25/5` ist wieder eine ganze Zahl, nicht jedoch\n",
    "`25/3`. Damit sind wir bei den Fließkommazahlen. Auch hier wird üblicherweise\n",
    "der englische Begriff **Float** für **Fließkommazahl** verwendet."
   ]
  },
  {
   "cell_type": "code",
   "execution_count": null,
   "id": "69a0a7ea",
   "metadata": {},
   "outputs": [],
   "source": [
    "2.3 + 4.5"
   ]
  },
  {
   "cell_type": "code",
   "execution_count": null,
   "id": "34ba4489",
   "metadata": {},
   "outputs": [],
   "source": [
    "5.6 - 2.1"
   ]
  },
  {
   "cell_type": "code",
   "execution_count": null,
   "id": "2e159b40",
   "metadata": {},
   "outputs": [],
   "source": [
    "2.1 * 3.5"
   ]
  },
  {
   "cell_type": "code",
   "execution_count": null,
   "id": "53fd2d5d",
   "metadata": {},
   "outputs": [],
   "source": [
    "3.4 / 1.7"
   ]
  },
  {
   "cell_type": "code",
   "execution_count": null,
   "id": "3aae422d",
   "metadata": {},
   "outputs": [],
   "source": [
    "3.4 ** 2"
   ]
  },
  {
   "cell_type": "code",
   "execution_count": null,
   "id": "17818530",
   "metadata": {},
   "outputs": [],
   "source": [
    "3.5 * (2.6 - 3.8 / 1.9)"
   ]
  },
  {
   "cell_type": "markdown",
   "id": "ad87adfd",
   "metadata": {},
   "source": [
    "Das folgende Video gibt eine Einführung in das Thema »Zahlen mit Python«: <https://youtu.be/VtiDkRDPA_c>.\n",
    "\n",
    "#### String\n",
    "\n",
    "Daten sind aber sehr oft keine Zahlen. Beispielsweise könnte man sich\n",
    "vorstellen, eine Einkaufsliste zu erstellen und diese im Computer oder in einer\n",
    "Notiz-App auf dem Handy zu speichern. Eine solche **Zeichenkette** heißt in der\n",
    "Informatik **String**. Mit Zeichen meint man dabei Zahlen, Buchstaben oder\n",
    "andere Zeichen wie beispielsweise !\"§$%&/()=?.\n",
    "\n",
    "Strings werden in Python durch einfache Hochkomma oder Anführungszeichen\n",
    "definiert."
   ]
  },
  {
   "cell_type": "code",
   "execution_count": null,
   "id": "972520ed",
   "metadata": {},
   "outputs": [],
   "source": [
    "'Dies ist ein String!'"
   ]
  },
  {
   "cell_type": "markdown",
   "id": "cb71376f",
   "metadata": {},
   "source": [
    "Mit Strings kann man ebenfalls \"rechnen\", nur ist das Ergebnis vielleicht anders\n",
    "als erwartet."
   ]
  },
  {
   "cell_type": "code",
   "execution_count": null,
   "id": "ac8365d9",
   "metadata": {},
   "outputs": [],
   "source": [
    "2 * 'Dies ist ein String!'"
   ]
  },
  {
   "cell_type": "code",
   "execution_count": null,
   "id": "bf10f70e",
   "metadata": {},
   "outputs": [],
   "source": [
    "'String 1 ' + 'String 2' "
   ]
  },
  {
   "cell_type": "markdown",
   "id": "272a11c3",
   "metadata": {},
   "source": [
    "Das folgende Video gibt eine Einführung zum Thema »Strings in Python«: <https://youtu.be/sTEf4_mrLvw>.\n",
    "\n",
    "### Variablen und Zuweisung\n",
    "\n",
    "**Variablen** sind beschriftete Schubladen. Oder anders formuliert sind\n",
    "Variablen Objekte, denen man einen Namen gibt. Technisch gesehen sind diese\n",
    "Schubladen ein kleiner Bereich im Arbeitsspeicher des Computers. Was in diesen\n",
    "Schubladen aufbewahrt wird, kann sehr unterschiedlich sein. Beispielsweise die\n",
    "Telefonnummer des ADAC-Pannendienstes, die 10. Nachkommastelle von $\\pi$ oder\n",
    "die aktuelle Position des Mauszeigers können in den Schubladen enthalten sein.\n",
    "\n",
    "#### Zuweisungen sind keine Gleichungen\n",
    "\n",
    "Wir verwenden Variablen, um bestimmte Werte oder ein bestimmtes Objekt zu\n",
    "speichern. Eine Variable wird durch eine **Zuweisung** erzeugt. Damit meinen\n",
    "wir, dass eine Schublade angelegt wird und die Schublade dann erstmalig gefüllt\n",
    "wird. Das erstmalige Füllen der Schublade nennt man in der Informatik auch\n",
    "Initialisieren. Für die Zuweisung wird in Python das `=`-Zeichen verwendet."
   ]
  },
  {
   "cell_type": "code",
   "execution_count": null,
   "id": "209a5026",
   "metadata": {},
   "outputs": [],
   "source": [
    "x = 0.5"
   ]
  },
  {
   "cell_type": "markdown",
   "id": "f90396de",
   "metadata": {},
   "source": [
    "Sobald die Variable `x` in diesem Beispiel durch eine Zuweisung von 0.5 erstellt\n",
    "wurde, können wir sie verwenden:"
   ]
  },
  {
   "cell_type": "code",
   "execution_count": null,
   "id": "1a5d33ea",
   "metadata": {},
   "outputs": [],
   "source": [
    "x * 3"
   ]
  },
  {
   "cell_type": "code",
   "execution_count": null,
   "id": "f9b3e770",
   "metadata": {},
   "outputs": [],
   "source": [
    "x + 17"
   ]
  },
  {
   "cell_type": "markdown",
   "id": "fb7b7125",
   "metadata": {},
   "source": [
    "Wichtig ist, dass das `=` in der Informatik eine andere Bedeutung hat als in der\n",
    "Mathematik. `=` meint nicht das Gleichheitszeichen, sondern den sogenannten\n",
    "**Zuweisungsoperator**. Das ist in der Programmierung ein Kommando, das eine\n",
    "Schublade befüllt oder technischer ausgedrückt, ein Objekt einer Variable\n",
    "zuweist.\n",
    "\n",
    "Variablen müssen initalisiert (erstmalig mit einem Wert versehen) werden, bevor\n",
    "sie verwendet werden können, sonst tritt ein Fehler auf.\n",
    "\n",
    "##### Mini-Übung 1\n",
    "\n",
    "Fügen Sie eine Code-Zelle ein und schreiben Sie in die Code-Zelle einfach nur `n`. Lassen Sie die Code-Zelle ausführen. Was passiert?"
   ]
  },
  {
   "cell_type": "code",
   "execution_count": null,
   "id": "23bc76ff",
   "metadata": {},
   "outputs": [],
   "source": [
    "# hier Ihr Code"
   ]
  },
  {
   "cell_type": "markdown",
   "id": "38c94953",
   "metadata": {},
   "source": [
    "Sehr häufig findet man Code wie"
   ]
  },
  {
   "cell_type": "code",
   "execution_count": null,
   "id": "117b91fd",
   "metadata": {},
   "outputs": [],
   "source": [
    "x = x + 1"
   ]
  },
  {
   "cell_type": "markdown",
   "id": "a66c2b24",
   "metadata": {},
   "source": [
    "Würden wir dies als Gleichung lesen, wie wir es aus der Mathematik gewohnt sind,\n",
    "x = x + 1, könnten wir x auf beiden Seiten subtrahieren und erhalten 0 = 1. Wir\n",
    "wissen, dass dies nicht wahr ist, also stimmt hier etwas nicht.\n",
    "\n",
    "In Python sind Gleichungen keine mathematischen Gleichungen, sondern\n",
    "Zuweisungen. \"=\" ist kein Gleichheitszeichen im mathematischen Sinne, sondern\n",
    "eine Zuweisung. Die Zuweisung muss immer in der folgenden Weise zweistufig\n",
    "gelesen werden:\n",
    "\n",
    "1. Berechne den Wert auf der rechten Seite (also x+1).\n",
    "2. Weise den Wert auf der rechten Seite dem auf der linken Seite stehenden\n",
    "   Variablennamen zu (in Python-Sprechweise: binde dem Namen auf der linken\n",
    "   Seite an das auf der rechten Seite angezeigte Objekt)."
   ]
  },
  {
   "cell_type": "code",
   "execution_count": null,
   "id": "79c56ca5",
   "metadata": {},
   "outputs": [],
   "source": [
    "x = 4     \n",
    "x = x + 1\n",
    "x"
   ]
  },
  {
   "cell_type": "markdown",
   "id": "f28940d5",
   "metadata": {},
   "source": [
    "#### Richtlinien für Variablennamen\n",
    "\n",
    "Früher war der Speicherplatz von Computern klein, daher wurden häufig nur kurze\n",
    "Variablennamen wie beispielsweise `i` oder `N` verwendet. Heutzutage ist es\n",
    "Standard, nur in Ausnahmefällen (z.B. in Schleifen, dazu kommen wir noch) kurze\n",
    "Variablennamen zu nehmen. Stattdessen werden Namen benutzt, bei denen man\n",
    "erraten kann, was die Variable für einen Einsatzzweck hat. Beispielsweise lässt\n",
    "der Code"
   ]
  },
  {
   "cell_type": "code",
   "execution_count": null,
   "id": "9393ae8c",
   "metadata": {},
   "outputs": [],
   "source": [
    "m = 0.19\n",
    "n = 80\n",
    "b = n + m*n\n",
    "b"
   ]
  },
  {
   "cell_type": "markdown",
   "id": "b93ed5fa",
   "metadata": {},
   "source": [
    "nur schwer vermuten, was damit bezweckt wird. Dagegen erahnt man bei diesem Code\n",
    "schon eher, was bezweckt wird:"
   ]
  },
  {
   "cell_type": "code",
   "execution_count": null,
   "id": "ea384fb5",
   "metadata": {},
   "outputs": [],
   "source": [
    "mehrwertsteuersatz = 19/100\n",
    "nettopreis = 80\n",
    "bruttopreis = nettopreis + mehrwertsteuersatz * nettopreis\n",
    "bruttopreis"
   ]
  },
  {
   "cell_type": "markdown",
   "id": "58e2e7fb",
   "metadata": {},
   "source": [
    "Code-Zellen zeigen arithmetische Operationen direkt nach Ausführen der\n",
    "Code-Zelle an. Wenn allerdings in der Code-Zelle mehrere Python-Anweisungen\n",
    "sind, müssen wir in die letzte Zeile nochmal die Variable selbst hinschreiben,\n",
    "deren Wert angezeigt werden soll. Das ist etwas umständlich und funktioniert\n",
    "auch nur mit Jupyter Notebooks. Normalerweise gibt es dazu eine Python-Funktion\n",
    "`print()`, auf die wir später noch zurückkommen.\n",
    "\n",
    "Verwenden Sie für Variablennamen nur ASCII-Zeichen, also keine Umlaute wie ö, ü\n",
    "oder ß. Zahlen sind erlaubt, aber nicht am Anfang des Namens. Es ist sinnvoll,\n",
    "lange Variablen durch einen Unterstrich besser lesbar zu gestalten (sogenannte\n",
    "Snake-Case-Formatierung). Ich empfehle für Variablennamen beispielsweise\n",
    "\n",
    "`dateiname_alt` oder `dateiname_neu`\n",
    "\n",
    "wenn beispielsweise eine Datei umbenannt wird. Sie sind frei in der Gestaltung\n",
    "der Variablennamen, verboten sind nur die sogannnten Schlüsselwörter.\n",
    "\n",
    "Die folgenden beiden Videos fassen die beiden Themen Variablen und Zuweisungen\n",
    "nochmals zusammen.\n",
    "\n",
    "* <https://youtu.be/jfOLXKPGXJ0>\n",
    "* <https://youtu.be/XKFQ2_et5k8>\n",
    "\n",
    "#### Datentypen ermitteln mit type()\n",
    "\n",
    "Werden zwei Integer geteilt, so wird das Ergebnis automatisch in einen Float\n",
    "umgewandelt. Mit Hilfe der Funktion `type()` können wir den Python-Interpreter\n",
    "bestimmen lassen, welcher Datentyp in einer Variable gespeichert ist. Mit\n",
    "Funktion ist an dieser Stelle keine mathematische Funktion gemeint. Eine\n",
    "**Funktion** sind viele Anweisungen nacheinander, um eine bestimmte Teilaufgabe\n",
    "zu lösen. Damit klar ist, dass es sich um eine Funktion und nicht um eine\n",
    "Variable handelt, werden runde Klammern an den Namen der Funktion gehängt.\n",
    "\n",
    "In diesem Fall soll der Datentyp eines Objektes ermittelt werden. Damit der\n",
    "Python-Interpreter weiß, von welcher Variable der Datentyp ermittelt werden\n",
    "soll, schreiben wir die Variable in runde Klammern."
   ]
  },
  {
   "cell_type": "code",
   "execution_count": null,
   "id": "c5102b7d",
   "metadata": {},
   "outputs": [],
   "source": [
    "x = 25 * 5\n",
    "type(x)"
   ]
  },
  {
   "cell_type": "code",
   "execution_count": null,
   "id": "abbead6d",
   "metadata": {},
   "outputs": [],
   "source": [
    "x = 25 / 5\n",
    "type(x)"
   ]
  },
  {
   "cell_type": "markdown",
   "id": "da613600",
   "metadata": {},
   "source": [
    "Nicht immer ist es aber möglich, Datentypen zu mischen. Dann meldet Python einen\n",
    "Fehler.\n",
    "\n",
    "Das folgende Video fasst die Datentypen Integer, Float und String nochmal zusammen: <https://youtu.be/1WqFJ5wsA4o>.\n",
    "\n",
    "### Ausgaben mit print()\n",
    "\n",
    "Jetzt lernen Sie eine weitere Python-Funktion kennen. Bei den obigen\n",
    "Rechenaufgaben wurde automatisch das Ergebnis der Rechnung angezeigt, sobald die\n",
    "Code-Zelle ausgeführt wurde. Dies ist eine Besonderheit der Jupyter Notebooks,\n",
    "würde aber in einem normalen Python-Programm nicht funktionieren. Auch möchte\n",
    "man vielleicht ein Zwischenergebnis anzeigen lassen. Die interaktive Ausgabe der\n",
    "Jupyter Notebooks zeigt jedoch immer nur den Inhalt der letzten Zeile an.\n",
    "\n",
    "Für die Anzeige von Rechenergebnissen oder Texten gibt es in Python die\n",
    "**print()**-Funktion. Die print()-Funktion in Python gibt den Wert am Bildschirm\n",
    "aus, der ihr als sogenanntes **Argument** in den runden Klammern übergeben wird.\n",
    "Das kann zum Beispiel eine Zahl oder eine Rechenaufgabe sein, wie in dem\n",
    "folgenden Beispiel."
   ]
  },
  {
   "cell_type": "code",
   "execution_count": null,
   "id": "fb05ae8f",
   "metadata": {},
   "outputs": [],
   "source": [
    "print(2)\n",
    "print(3+3)"
   ]
  },
  {
   "cell_type": "markdown",
   "id": "de110dc6",
   "metadata": {},
   "source": [
    "In der ersten Zeile ist das Argument für die print()-Funktion die Zahl 2. Das\n",
    "Argument wird in runde Klammern hinter den Funktionsnamen `print` geschrieben.\n",
    "Ein Argument ist sozusagen der Input, der an die print()-Funktion übergeben\n",
    "wird, damit der Python-Interpreter weiß, welcher Wert auf dem Bildschirm\n",
    "angezeigt werden soll.\n",
    "\n",
    "Das zweite Beispiel in der zweiten Zeile funktioniert genauso. Nur wird diesmal\n",
    "eine komplette Rechnung als Argument an die print()-Funktion übergeben. In dem\n",
    "Fall rechnet der Python-Interpreter erst den Wert der Rechnung, also `3+3=6` aus\n",
    "und übergibt dann die `6` an die print()-Funktion. Die print()-Funktion wiederum\n",
    "zeigt dann die `6` am Bildschirm an.\n",
    "\n",
    "#### Mini-Übung 2\n",
    "\n",
    "Lassen Sie Python den Term $3:4$ berechnen und geben Sie das Ergebnis mit der print()-Funktion aus."
   ]
  },
  {
   "cell_type": "code",
   "execution_count": null,
   "id": "458373f8",
   "metadata": {},
   "outputs": [],
   "source": [
    "# Geben Sie nach diesem Kommentar Ihren Code ein:"
   ]
  },
  {
   "cell_type": "markdown",
   "id": "7cd9c5c8",
   "metadata": {},
   "source": [
    "Python kann mit der print()-Funktion jedoch nicht nur Zahlen ausgeben, sondern\n",
    "auch Texte, also Strings."
   ]
  },
  {
   "cell_type": "code",
   "execution_count": null,
   "id": "e2c9c26d",
   "metadata": {},
   "outputs": [],
   "source": [
    "print('Hallo')"
   ]
  },
  {
   "cell_type": "markdown",
   "id": "623884fa",
   "metadata": {},
   "source": [
    "#### Mini-Übung 3\n",
    "\n",
    "Probieren Sie aus was passiert, wenn Sie die einfachen Anführungszeichen `'`\n",
    "durch doppelte Anführungszeichen `\"` ersetzen. Lassen Sie den Text Hallo Welt\n",
    "ausgeben :-)"
   ]
  },
  {
   "cell_type": "code",
   "execution_count": null,
   "id": "a4fc9aa9",
   "metadata": {},
   "outputs": [],
   "source": [
    "# Geben Sie nach diesem Kommentar Ihren Code ein:"
   ]
  },
  {
   "cell_type": "markdown",
   "id": "422e9017",
   "metadata": {},
   "source": [
    "Zum Schluss behandeln wir noch formatierte Strings, die sogenannten f-Strings.\n",
    "Seit Python 3.6 erleichtert dieser Typ von String die Programmierung. Falls Sie\n",
    "Python-Code sehen, in dem Prozentzeichen vorkommen (ganz, ganz alt) oder die\n",
    "`.format()`-Methode benutzt wird, wundern Sie sich nicht. In dieser Vorlesung\n",
    "verwenden wir jedoch f-Strings.\n",
    "\n",
    "**f-Strings** sind die Abkürzung für \"formatted string literals\". Sie\n",
    "ermöglichen es, den Wert einer Variable oder einen Ausdruck direkt in den String\n",
    "einzubetten. Dazu werden geschweifte Klammern verwendet, also `{` und `}` und zu\n",
    "Beginn des Strings wird ein `f` eingefügt, um aus dem String einen f-String zu\n",
    "machen. Der Python-Interpreter fügt dann zur Laufzeit des Programms den\n",
    "entsprechenden Wert der Variable in den String ein.\n",
    "\n",
    "Hier ein Beispiel:"
   ]
  },
  {
   "cell_type": "code",
   "execution_count": null,
   "id": "8d63add8",
   "metadata": {},
   "outputs": [],
   "source": [
    "name = 'Alice'\n",
    "alter = 20\n",
    "print(f'Mein Name ist {name} und ich bin {alter} Jahre alt.')"
   ]
  },
  {
   "cell_type": "markdown",
   "id": "7ea1ad29",
   "metadata": {},
   "source": [
    "Insbesondere bei Ausgabe von Zahlen sind f-Strings besonders nützlich. Wenn nach\n",
    "dem Variablennamen ein Doppelpunkt eingefügt wird, kann danach die Anzahl der\n",
    "gewünschten Stellen vor dem Komma (hier natürlich ein Punkt) und der\n",
    "Nachkommastellen festgelegt werden. Zusätzlich setzen wir ein `f` in die\n",
    "geschweiften Klammern, um einen Float anzeigen zu lassen. Im folgenden Beispiel\n",
    "geben wir $\\pi$ auf zwei Nachkommastellen an."
   ]
  },
  {
   "cell_type": "code",
   "execution_count": null,
   "id": "83a75239",
   "metadata": {},
   "outputs": [],
   "source": [
    "pi = 3.141592653589793238462643383279\n",
    "print(f'Pi = {pi:1.2f}')"
   ]
  },
  {
   "cell_type": "markdown",
   "id": "7762bdfd",
   "metadata": {},
   "source": [
    "Es ist schwierig, sich alle Formatierungsoptionen zu merken. Auf der\n",
    "Internetseite\n",
    "[https://cheatography.com/brianallan/cheat-sheets/python-f-strings-basics/](https://cheatography.com/brianallan/cheat-sheets/python-f-strings-basics/)\n",
    "finden Sie eine umfangreiche Übersicht und können sich zudem ein pdf-Ddokument\n",
    "herunterladen.\n",
    "\n",
    "#### Mini-Übung 4\n",
    "\n",
    "Schreiben Sie ein Programm, mit dem der Flächeninhalt eines Rechtecks berechnet werden soll. Die beide Seitenlängen werden jeweils in den Variablen `laenge` und `breite` gespeichert (suchen Sie sich eigene Zahlen aus). Ausgegeben werden soll dann: \"Der Flächeninhalt eines Rechtecks mit den Seiten XX und XX ist XX.\", wobei XX durch die korrekten Zahlen ersetzt werden und der Flächeninhalt auf eine Nachkommastelle gerundet werden soll."
   ]
  },
  {
   "cell_type": "code",
   "execution_count": null,
   "id": "e2c8c4c2",
   "metadata": {},
   "outputs": [],
   "source": [
    "#"
   ]
  },
  {
   "cell_type": "markdown",
   "id": "0ae8f188",
   "metadata": {},
   "source": [
    "### Zusammenfassung und Ausblick Kapitel 2.1\n",
    "\n",
    "In diesem Kapitel haben wir gelernt, was ein Datentyp ist, wie eine Variable mit\n",
    "einem Wert gefüllt wird und mit der print()-Funktion am Bildschirm ausgegeben\n",
    "wird. Die einfachsten Datentypen Integer, Float und String reichen allerdings\n",
    "nicht aus, um z.B. die eine Adresse mit Straße (String), Hausnummer (Integer)\n",
    "und Postleitzahl (Integer) in einer Variablen gemeinsam zu speichern. Dazu\n",
    "lernen wir im nächsten Abschnitt den Datentyp Liste kennen\n",
    "\n",
    "## 2.2 Listen und for-Schleifen\n",
    "\n",
    "Bisher haben wir drei verschiedene Datentypen kennengelernt:\n",
    "\n",
    "* Integer (ganze Zahlen),\n",
    "* Floats (Fließkommazahlen) und\n",
    "* Strings (Zeichenketten).\n",
    "\n",
    "Damit können wir einzelne Objekte der realen Welt ganz gut abbilden. Mit einem\n",
    "String können wir den Namen einer Person erfassen, mit einem Integer das Alter\n",
    "der Person und mit einem Float die Körpergröße der Person gemessen in Meter. Was\n",
    "uns aber bisher fehlt ist eine Sammlung von Namen oder eine Sammlung von\n",
    "Körpergrößen. Daher werden wir uns in diesem Kapitel mit dem Datentyp **Liste**\n",
    "beschäftigen.\n",
    "\n",
    "Oft kommt es vor, dass für jedes Element der Liste bestimmte Aktionen\n",
    "durchgeführt werden sollen. Daher werden wir uns auch mit der Wiederholung von\n",
    "Code-Abschnitten mittels der sogenannten **for-Schleife** beschäftigen.\n",
    "\n",
    "### Lernziele Kapitel 2.2\n",
    "\n",
    "* Sie kennen den Datentyp **Liste**.\n",
    "* Sie können Listen mit eckigen Klammern erzeugen.\n",
    "* Sie können Listen mit dem **Plus-Operator** verketten, Elemente mit\n",
    "  **.append()** anhängen oder Werte mit **.remove()** aus der Liste löschen.\n",
    "* Sie können über den **Index** auf einzelne Listenelementer zugreifen.\n",
    "* Sie können eine **for-Schleife mit Liste** programmieren.\n",
    "* Sie wissen, wie die Fachbegriffe der einzelnen Bestandteil der Schleife\n",
    "  lauten:\n",
    "  * **Kopfzeile**, wird mit **Doppelpunkt :** abgeschlossen\n",
    "  * Schlüsselwörter **for** und **in**\n",
    "  * **Schleifenvariable**  \n",
    "* Sie wissen, dass der Anweisungsblock des Schleifeninneren eingerückt werden\n",
    "  muss. Die **Einrückung** muss immer mit der gleichen Anzahl von Zeichen\n",
    "  (Leerzeichen oder Tab) erfolgen.\n",
    "\n",
    "### Datentyp Liste\n",
    "\n",
    "Eine Liste ist eine Sammlung von Objekten. Dabei können die Objekte einen\n",
    "beliebigen Datentyp aufweisen. Eine Liste wird durch eckige Klammern erzeugt.\n",
    "\n",
    "Beispielsweise könnte eine Liste drei Integer enthalten:"
   ]
  },
  {
   "cell_type": "code",
   "execution_count": null,
   "id": "45e8d4e7",
   "metadata": {},
   "outputs": [],
   "source": [
    "a = [34, 12, 54]\n",
    "print(a)"
   ]
  },
  {
   "cell_type": "markdown",
   "id": "444a2374",
   "metadata": {},
   "source": [
    "Das folgende Beispiel zeigt eine Liste mit vier Namen, die durch Strings\n",
    "repräsentiert werden:"
   ]
  },
  {
   "cell_type": "code",
   "execution_count": null,
   "id": "72a581dc",
   "metadata": {},
   "outputs": [],
   "source": [
    "a = ['Alice', 'Bob', 'Charlie', 'Dora']\n",
    "print(a)"
   ]
  },
  {
   "cell_type": "markdown",
   "id": "a4c6e169",
   "metadata": {},
   "source": [
    "Eine leere Liste wird durch `[]` definiert:"
   ]
  },
  {
   "cell_type": "code",
   "execution_count": null,
   "id": "4ca59e41",
   "metadata": {},
   "outputs": [],
   "source": [
    "a = []\n",
    "print(a)"
   ]
  },
  {
   "cell_type": "markdown",
   "id": "d377c15c",
   "metadata": {},
   "source": [
    "Der Datentyp heißt formal `list`:"
   ]
  },
  {
   "cell_type": "code",
   "execution_count": null,
   "id": "db2488cf",
   "metadata": {},
   "outputs": [],
   "source": [
    "type(a)"
   ]
  },
  {
   "cell_type": "markdown",
   "id": "2a5c161d",
   "metadata": {},
   "source": [
    "Listen können gekürzt und erweitert werden. Eine sehr nützliche Funktion ist\n",
    "daher die `len()`-Funktion. Das `len` steht dabei für `length`. Wird die\n",
    "Funktion `len()` mit einer Liste (oder mit einem String) als Argument\n",
    "aufgerufen, gibt sie die Anzahl der Listenelemente (oder Anzahl der Zeichen im\n",
    "String) zurück."
   ]
  },
  {
   "cell_type": "code",
   "execution_count": null,
   "id": "be1d864e",
   "metadata": {},
   "outputs": [],
   "source": [
    "a = ['Hund', 'Katze', 'Maus', 'Affe','Elefant']\n",
    "len(a)"
   ]
  },
  {
   "cell_type": "markdown",
   "id": "0555f51d",
   "metadata": {},
   "source": [
    "Listen müssen nicht nur Elemente eines Datentyps enthalten. In Python ist es\n",
    "erlaubt, in eine Liste Objekte mit verschiedenen Datentypen zu sammeln. Das\n",
    "folgende Beispiel zeigt eine Mischung aus Elementen der drei Datentypen Integer,\n",
    "Float und String."
   ]
  },
  {
   "cell_type": "code",
   "execution_count": null,
   "id": "37c1ebea",
   "metadata": {},
   "outputs": [],
   "source": [
    "a = [123, 'Ente', -42, 17.4, 0, 'Elefant']\n",
    "print(a)"
   ]
  },
  {
   "cell_type": "markdown",
   "id": "b330a6e0",
   "metadata": {},
   "source": [
    "#### Mini-Übung 5\n",
    "\n",
    "Erzeugen Sie eine Einkaufsliste, um einen Obstsalat zuzubereiten und speichern\n",
    "Sie diese Liste in der Variablen `einkaufsliste`. Lassen Sie dann den Computer\n",
    "bzw. den Python-Interpreter zählen, wie viele Zutaten Ihre Liste enthält und\n",
    "geben Sie dann die Anzahl aus."
   ]
  },
  {
   "cell_type": "code",
   "execution_count": null,
   "id": "b61b7db6",
   "metadata": {},
   "outputs": [],
   "source": [
    "# Hier Ihr Code:"
   ]
  },
  {
   "cell_type": "markdown",
   "id": "96848e17",
   "metadata": {},
   "source": [
    "### Listen bearbeiten\n",
    "\n",
    "Listen sind in Python veränderlich. Besonders häufig kommt es vor, dass zwei\n",
    "Listen zu einer neuen Liste kombiniert werden sollen. Da diese Aktion so wichtig\n",
    "ist, kann dies in Python direkt mit dem `+`-Operator erledigt werden. Der\n",
    "Fachbegriff für das Aneinanderhängen von Listen ist **Verkettung** oder auf\n",
    "Englisch **Concatenation**."
   ]
  },
  {
   "cell_type": "code",
   "execution_count": null,
   "id": "bf73aad0",
   "metadata": {},
   "outputs": [],
   "source": [
    "a = [37, 3, 5] + [3, 35, 100]\n",
    "print(a)"
   ]
  },
  {
   "cell_type": "markdown",
   "id": "18cb9688",
   "metadata": {},
   "source": [
    "Um an das Ende der Liste ein neues Element einzufügen, verwendet man die Methode\n",
    "`append()`. Eine **Methode** ist eine spezielle Funktion, die zu dem Datentyp\n",
    "gehört und daher an die Variable angehängt wird, indem man einen Punkt schreibt\n",
    "und dann den Methodennamen."
   ]
  },
  {
   "cell_type": "code",
   "execution_count": null,
   "id": "45212fc0",
   "metadata": {},
   "outputs": [],
   "source": [
    "a = [34, 56, 23]\n",
    "print(a)\n",
    "\n",
    "a.append(42)\n",
    "print(a)"
   ]
  },
  {
   "cell_type": "markdown",
   "id": "1a3bdcee",
   "metadata": {},
   "source": [
    "Aus der Liste können Elemente durch die `remove()`-Methode gelöscht werden.\n",
    "Dabei wird das Element, das gelöscht werden soll, der Methode als Argument\n",
    "übergeben. Es wird der erste auftretende Wert aus der Liste gelöscht."
   ]
  },
  {
   "cell_type": "code",
   "execution_count": null,
   "id": "db7f246d",
   "metadata": {},
   "outputs": [],
   "source": [
    "a = [34, 56, 23, 42]\n",
    "print(a)\n",
    "\n",
    "a.remove(56)\n",
    "print(a)"
   ]
  },
  {
   "cell_type": "markdown",
   "id": "d809acc8",
   "metadata": {},
   "source": [
    "#### Mini-Übung 6\n",
    "\n",
    "Nehmen Sie Ihre Einkaufsliste für den Obsalat von vorhin. Fügen Sie noch Zimt und Zucker hinzu. Leider passen in Ihren Einkaufswagen nur maximal 5 Sachen. Lassen Sie daher die Anzahl der Elemente ausgeben."
   ]
  },
  {
   "cell_type": "code",
   "execution_count": null,
   "id": "c8ddec8c",
   "metadata": {},
   "outputs": [],
   "source": [
    "# Hier Ihr Code:"
   ]
  },
  {
   "cell_type": "markdown",
   "id": "555d1c4e",
   "metadata": {},
   "source": [
    "Video: <https://youtu.be/ihF8bZoauBs>\n",
    "\n",
    "### Zugriff auf einzelne Listenelemente\n",
    "\n",
    "Listen sind (übrigens genau wie Strings) ein sogenannter **sequentieller\n",
    "Container**. Sequentielle Container sind Sammlungen von Datenobjekten. Was heißt\n",
    "das? Eine Straße ist eine Sammlung von Häusern. Aber in einer Straße sind die\n",
    "Häuser zusätzlich durchnummeriert. Eine Hausnummer ermöglicht es, die Position\n",
    "eines Hauses innerhalb der Straße zu bestimmen. Sammlungen von Objekten mit\n",
    "einer Positionsnummer werden sequentielle Container genannt. Sie sind mit ganzen\n",
    "Zahlen, also Integern, durchnummeriert. In Python beginnt die Nummerierung bei\n",
    "0. Die Nummer eines Elementes aus der Sequenz nennt man **Index**.\n",
    "Umgangssprachlich könnte man den Index also auch als Hausnummer bezeichnen.\n",
    "\n",
    "In einer Liste hat also das erste Element den Index 0. Das zweite Element hat\n",
    "den Index 1 usw. Um ein einzelnes Element einer Liste herausgreifen zu können,\n",
    "schreibt man `liste[i]`. Dabei ist `liste` der Name der Liste und `i` der Idnex.\n",
    "Um einfach auf das letzte Element einer Liste zugreifen zu können, hat Python\n",
    "den Index -1 eingeführt.\n",
    "\n",
    "Probieren wir ein Beispiel aus:"
   ]
  },
  {
   "cell_type": "code",
   "execution_count": null,
   "id": "06f99a7e",
   "metadata": {},
   "outputs": [],
   "source": [
    "a = [34, 56, 23, 42]\n",
    "erstes = a[0]\n",
    "print(f'Das erste Element in der Liste ist: {erstes}')"
   ]
  },
  {
   "cell_type": "code",
   "execution_count": null,
   "id": "0561ee78",
   "metadata": {},
   "outputs": [],
   "source": [
    "# Erzeugung Liste\n",
    "meine_liste = ['rot', 'grün', 'blau', 'gelb', 'weiß', 'schwarz']\n",
    "\n",
    "# das fünfte Elment weiß wird durch lila ersetzt\n",
    "meine_liste[4] = 'lila'\n",
    "print(meine_liste)"
   ]
  },
  {
   "cell_type": "markdown",
   "id": "e37c4523",
   "metadata": {},
   "source": [
    "Das Bearbeiten von einzelnen Listenelementen wird auch **Zugriff** genannt. Das\n",
    "folgende Video zeigt die Zugriffsmöglichkeiten von Listen: <https://youtu.be/_XzWPXvya2w>.\n",
    "\n",
    "### Code wiederholen mit der for-Schleife\n",
    "\n",
    "Manchmal möchte man für jedes Element einer Liste eine oder mehrere Aktionen\n",
    "durchführen. Dazu gibt es die **for-Schleife**."
   ]
  },
  {
   "cell_type": "code",
   "execution_count": null,
   "id": "5d4b31d2",
   "metadata": {},
   "outputs": [],
   "source": [
    "for i in [2, 4, 6, 8, 10]:\n",
    "    print(i)"
   ]
  },
  {
   "cell_type": "markdown",
   "id": "6fbbaae6",
   "metadata": {},
   "source": [
    "Eine Schleife beginnt mit dem Schlüsselwort **for**. Danach kommt der Name der\n",
    "sogenannten **Schleifenvariable**, in diesem Fall also `i`. Als nächstes folgt\n",
    "wieder ein Schlüsselwort, nämlich **in** und zuletzt Liste. Diese Zeile nennt\n",
    "man **Kopfzeile**.\n",
    "\n",
    "Python muss wissen, welche Kommandos für jeden Schleifendurchgang ausgeführt\n",
    "werden sollen. Daher wird die Kopfzeile der Schleife mit einem Doppelpunkt `:`\n",
    "beendet. Danach werden alle Kommandos aufgelistet, die ausgeführt werden sollen.\n",
    "Damit Python weiß, wann es wieder mit dem normalen Programm weitergehen soll,\n",
    "müssen wir dem Python-Interpreter das Ende der Schleife signalisieren. In vielen\n",
    "Programmiersprachen wird das mit dem Schlüsselwort `end` gemacht oder es werden\n",
    "Klammern gesetzt. In Python wird stattdessen mit **Einrückung** gearbeitet. Alle\n",
    "Zeilen mit Anweisungen, die eingerückt sind, werden in der Schleife wiederholt.\n",
    "\n",
    "Wie sieht das nun bei unserem Beispiel aus? Die Schleifenvariable heißt `i`. Sie\n",
    "nimmt beim 1. Schleifendurchgang den Wert `2` an. Dann werden die Anweisungen im\n",
    "Schleifeninneren ausgeführt, also die print()-Funktion für `i = 2` angewendet\n",
    "und eine 2 ausgegeben. Dann wird die Schleife ein 2. Mal durchlaufen. Diesmal\n",
    "nimmt die Schleifenvariable `i` den Wert `4` an und die print()-Funktion gibt 4\n",
    "aus. Das geht so weiter bis zum 5. Schleifendurchgang, wo die Schleifenvariable\n",
    "den Wert `i = 10` annimmt und eine 10 auf dem Bildschirm angezeigt wird. Da die\n",
    "`10` das letzte Element der Liste war, macht der Python-Interpreter mit dem\n",
    "normalen Programm weiter. Bei unserem kurzen Beispiel ist aber schon das Ende\n",
    "des Programmes erreicht. Zusammengefasst, werden nacheinander die Elemente der\n",
    "Liste `[2, 4, 6, 8, 10]` auf dem Bildschirm ausgegeben.\n",
    "\n",
    "Schauen wir uns ein erstes Beispiel an. Jedes Element der Liste `[4,5,7,11,21]`\n",
    "soll um 2 erhöht werden."
   ]
  },
  {
   "cell_type": "code",
   "execution_count": null,
   "id": "0051bc18",
   "metadata": {},
   "outputs": [],
   "source": [
    "for zahl in [4,5,7,11,21]:\n",
    "    summe = zahl + 2\n",
    "    print(f'Wenn ich {zahl} + 2 rechne, erhalte ich {summe}.')\n",
    "print('Ich bin fertig!')"
   ]
  },
  {
   "cell_type": "markdown",
   "id": "a25e4788",
   "metadata": {},
   "source": [
    "#### Mini-Übung 7\n",
    "\n",
    "Lassen Sie nacheinander die Zutaten Ihrer Einkaufsliste ausgeben."
   ]
  },
  {
   "cell_type": "code",
   "execution_count": null,
   "id": "b0c6d1e2",
   "metadata": {},
   "outputs": [],
   "source": [
    "# Hier Ihr Code:"
   ]
  },
  {
   "cell_type": "markdown",
   "id": "be460fe8",
   "metadata": {},
   "source": [
    "Video: <https://youtu.be/ISo1uqLcVw8>\n",
    "\n",
    "Es kommt sehr häufig vor, dass über Listen mit Zahlen iteriert werden soll.\n",
    "Dafür stellt Python3 die Funktion `range()`zur Verfügung."
   ]
  },
  {
   "cell_type": "code",
   "execution_count": null,
   "id": "11a350b2",
   "metadata": {},
   "outputs": [],
   "source": [
    "for zahl in range(3):\n",
    "    print(zahl)\n",
    "print('Fertig!')"
   ]
  },
  {
   "cell_type": "markdown",
   "id": "b7dc8bc2",
   "metadata": {},
   "source": [
    "Wird `range(endzahl)` mit nur einem Parameter aufgerufen, dann beginnt der\n",
    "Python-Interpreter stets von `0` an zu zählen. Dabei ist die `endzahl` nicht\n",
    "inkludiert, d.h. der Python-Interpreter stoppt bei `endzahl - 1`. Es ist auch\n",
    "möglich, eine Startzahl vorzugeben, also:"
   ]
  },
  {
   "cell_type": "code",
   "execution_count": null,
   "id": "0386485d",
   "metadata": {},
   "outputs": [],
   "source": [
    "for zahl in range(1,4):\n",
    "    print(zahl)\n",
    "print('Fertig!')"
   ]
  },
  {
   "cell_type": "markdown",
   "id": "ac9ce179",
   "metadata": {},
   "source": [
    "Zusätzlich kann der Zahlenbereich noch durch die Angabe einer Schrittweite\n",
    "spezifiziert werden. Dadurch ist es beispielsweise möglich, nur ungerade Zahlen\n",
    "zu generieren:"
   ]
  },
  {
   "cell_type": "code",
   "execution_count": null,
   "id": "bd29228d",
   "metadata": {},
   "outputs": [],
   "source": [
    "for zahl in range(3, 13, 2):\n",
    "    print(zahl)\n",
    "print('Fertig!')"
   ]
  },
  {
   "cell_type": "markdown",
   "id": "e678250b",
   "metadata": {},
   "source": [
    "#### Mini-Übung 8\n",
    "\n",
    "Lassen Sie alle geraden Zahlen zwischen 100 und 120 ausgeben."
   ]
  },
  {
   "cell_type": "code",
   "execution_count": null,
   "id": "dab152bc",
   "metadata": {},
   "outputs": [],
   "source": [
    "# Hier Ihr Code:"
   ]
  },
  {
   "cell_type": "markdown",
   "id": "d638c9d3",
   "metadata": {},
   "source": [
    "Durch Angabe einer negativen Schrittweite kann auch rückwärts gezählt werden:"
   ]
  },
  {
   "cell_type": "code",
   "execution_count": null,
   "id": "b274a5d8",
   "metadata": {},
   "outputs": [],
   "source": [
    "for zahl in range(13, 3, -2):\n",
    "    print(zahl)\n",
    "print('Fertig!')"
   ]
  },
  {
   "cell_type": "markdown",
   "id": "82e2d8cf",
   "metadata": {},
   "source": [
    "Zum Abschluss folgt hier noch ein weiteres Video zu for-Schleifen: <https://youtu.be/pQh5Idw2sKM>.\n",
    "\n",
    "### Zusammenfassung und Ausblick 2.2\n",
    "\n",
    "In diesem Abschnitt haben wir uns mit dem Datentyp Liste befasst, der zur\n",
    "Sammlung verschiedener Datenobjekte dient. Für die sequentielle Bearbeitung von\n",
    "Listenelementen ist die for-Schleife besonders geeignet. Es existieren\n",
    "zusätzliche Datentypen wie Dictionary, Tupel und Set, die sich ebenfalls zum\n",
    "Speichern von Datenobjekten eignen. Neben der for-Schleife gibt es eine\n",
    "alternative Schleifenstruktur, die while-Schleife, die Code wiederholt, solange\n",
    "eine bestimmte Bedingung erfüllt ist. Anstatt uns weiterhin auf solche Aspekte\n",
    "der Python-Programmierung zu konzentrieren, werden wir im nächsten Kapitel den\n",
    "Fokus auf die Implementierung eigener Funktionen legen und einen kurzen Ausflug\n",
    "in die objektorientierte Programmierung unternehmen\n",
    "\n",
    "## 2.3 Funktionen und Methoden\n",
    "\n",
    "Sobald die Funktionalitäten komplexer werden, lohnt es sich Code in eigene\n",
    "Funktionsbausteine auszulagern und vor allem auf Code von anderen\n",
    "Programmier:innen zurückzugreifen. Code, der eine Teilaufgabe löst und einen\n",
    "eigenständigen Namen bekommt, wird **Funktion** genannt. Ist die Funktion direkt\n",
    "an einen Datentyp gekoppelt, wird die Funktion **Methode** genannt. In diesem\n",
    "Kapitel gehen wir sehr kurz auf die wichtigsten Grundlagen von Funktionen und\n",
    "Methoden ein.\n",
    "\n",
    "### Lernziele Kapitel 2.3\n",
    "\n",
    "* Sie können selbst eine **Funktion** mit Parametern und Rückgabewert\n",
    "  implementieren.\n",
    "* Sie kennen das Konzept der **objektorientierten Programmierung**.\n",
    "* Sie wissen, was **Klassen** und **Methoden** sind.\n",
    "\n",
    "### Funktionen\n",
    "\n",
    "Eine Funktion ist eine Zusammenfassung von Code, der eine bestimmte Teilaufgabe\n",
    "löst. Dabei arbeitet die Funktion nach dem EVA-Prinzip (Eingabe, Verarbeitung,\n",
    "Ausgabe). Die Funktion übernimmt Objekte als Eingabe, verarbeitet diese und\n",
    "liefert Objekte als Ergebnis zurück. Wie die Funktion dabei im Inneren genau\n",
    "funktioniert (Verarbeitung), ist unwichtig.\n",
    "\n",
    "Insbesondere muss die Teilaufgabe, die die Funktion löst, nichts mit Mathematik\n",
    "zu tun haben. Eine Funktion in der Informatik hat nichts mit einer\n",
    "mathematischen Funktion zu tun, auch wenn oft mathematische Funktionen als\n",
    "Beispiel verwendet werden. Ein Beispiel für eine nicht-mathematische Funktion\n",
    "haben Sie mit `print()` bereits kennengelernt.\n",
    "\n",
    "#### Die Benutzung von Funktionen (oder der Aufruf von Funktionen)\n",
    "\n",
    "Eine Funktion wird benutzt, indem man den Namen der Funktion hinschreibt und\n",
    "dann in runden Klammern ihre Argumente. Welche Argumente für eine Funktion\n",
    "verwendet werden dürfen, hängt von der Implementierung der Funktion ab.\n",
    "\n",
    "Beispielsweise kann als Argument für die `len()`-Funktion ein String übergeben\n",
    "werden oder eine Liste."
   ]
  },
  {
   "cell_type": "code",
   "execution_count": null,
   "id": "3e86cd0b",
   "metadata": {},
   "outputs": [],
   "source": [
    "len('Hallo')"
   ]
  },
  {
   "cell_type": "code",
   "execution_count": null,
   "id": "b693ad87",
   "metadata": {},
   "outputs": [],
   "source": [
    "len([1,2,3,4,8,2])"
   ]
  },
  {
   "cell_type": "markdown",
   "id": "f18a624b",
   "metadata": {},
   "source": [
    "In der Regel geben Funktionen wieder Ergebnisse zurück. Diese können einer\n",
    "Variable zugewiesen werden, um weiter mit dem Ergebnis zu arbeiten."
   ]
  },
  {
   "cell_type": "code",
   "execution_count": null,
   "id": "a7b92e21",
   "metadata": {},
   "outputs": [],
   "source": [
    "wort = 'Hallo'\n",
    "anzahl_zeichen = len(wort)\n",
    "print(f'Mein Wort {wort} hat {anzahl_zeichen} Zeichen.')"
   ]
  },
  {
   "cell_type": "markdown",
   "id": "e90e0b0e",
   "metadata": {},
   "source": [
    "#### Definition von einfachen Funktionen\n",
    "\n",
    "Um selbst eine Funktion zu definieren, benutzen wir das Schlüsselwort `def`.\n",
    "Danach wählen wir einen Funktionsnamen und hängen an den Funktionsnamen runde\n",
    "Klammern gefolgt von einem Doppelpunkt. Die Anweisungen, die ausgeführt werden\n",
    "sollen, sobald die Funktion aufgerufen wird, werden eingerückt.\n",
    "\n",
    "Als erstes Beispiel einer sehr einfachen Funktion betrachten wir die folgende\n",
    "Funktion:"
   ]
  },
  {
   "cell_type": "code",
   "execution_count": null,
   "id": "8924501b",
   "metadata": {},
   "outputs": [],
   "source": [
    "def gruesse_ausrichten():\n",
    "    print('Ich grüße Sie!')"
   ]
  },
  {
   "cell_type": "markdown",
   "id": "69f834dd",
   "metadata": {},
   "source": [
    "Die Funktion hat keine Argumente und keine Rückgabe, sondern gibt einfqach nur\n",
    "einen Text auf dem Bildschirm aus. Nachdem die Funktion `gruesse_ausrichten()`\n",
    "so implementiert wurde, können wir sie im Folgenden direkt verwenden."
   ]
  },
  {
   "cell_type": "code",
   "execution_count": null,
   "id": "58140b50",
   "metadata": {},
   "outputs": [],
   "source": [
    "gruesse_ausrichten()"
   ]
  },
  {
   "cell_type": "markdown",
   "id": "88593d9b",
   "metadata": {},
   "source": [
    "Und natürlich kann man sie in Programmverzweigungen und Schleifen einbauen.\n",
    "\n",
    "##### Mini-Übung 9\n",
    "\n",
    "Schreiben Sie eine Funktion, die den Namen `hallihallo` hat und das Wort Hallihallo ausgibt. Testen Sie Ihre Funktion auch."
   ]
  },
  {
   "cell_type": "code",
   "execution_count": null,
   "id": "e5bf10fa",
   "metadata": {},
   "outputs": [],
   "source": [
    "# Hier Ihr Code:"
   ]
  },
  {
   "cell_type": "markdown",
   "id": "3329af41",
   "metadata": {},
   "source": [
    "Das folgende Video zeigt, wie Funktionen selbst definiert werden: <https://youtu.be/LQCfN5HS9xI>.\n",
    "\n",
    "#### Funktionen mit Parametern\n",
    "\n",
    "Meistens haben Funktionen Argumente, um Eingaben/Input entgegennehmen und\n",
    "verarbeiten zu können. Das Argument wird bei der Implementierung der Funktion\n",
    "mit einer Variable eingeführt, wie in dem folgenden Beispiel `name`."
   ]
  },
  {
   "cell_type": "code",
   "execution_count": null,
   "id": "ef87af4c",
   "metadata": {},
   "outputs": [],
   "source": [
    "def gruesse_ausrichten_mit_parameter(name):\n",
    "    print(f'Ich grüße {name}')"
   ]
  },
  {
   "cell_type": "markdown",
   "id": "9a4591eb",
   "metadata": {},
   "source": [
    "Der Aufruf einer Funktion ohne passende Argumente führt zu einer Fehlermeldung.\n",
    "Entfernen Sie das Kommentarzeichen `#` und führen Sie die nachfolgende\n",
    "Code-Zelle aus:"
   ]
  },
  {
   "cell_type": "code",
   "execution_count": null,
   "id": "87ab18dd",
   "metadata": {},
   "outputs": [],
   "source": [
    "#gruesse_ausrichten_mit_parameter()"
   ]
  },
  {
   "cell_type": "markdown",
   "id": "be93d4b1",
   "metadata": {},
   "source": [
    "Daher müssen wir die modifizierte Funktion nun wie folgt aufrufen:"
   ]
  },
  {
   "cell_type": "code",
   "execution_count": null,
   "id": "b0c26698",
   "metadata": {},
   "outputs": [],
   "source": [
    "gruesse_ausrichten_mit_parameter('Bob')"
   ]
  },
  {
   "cell_type": "markdown",
   "id": "28cbca9a",
   "metadata": {},
   "source": [
    "Die Funktion `gruesse_ausrichten_mit_parameter()` hat aber keinen Rückgabewert.\n",
    "Das können wir wie folgt testen:"
   ]
  },
  {
   "cell_type": "code",
   "execution_count": null,
   "id": "405082b5",
   "metadata": {},
   "outputs": [],
   "source": [
    "x = gruesse_ausrichten_mit_parameter('Alice')\n",
    "type(x)"
   ]
  },
  {
   "cell_type": "markdown",
   "id": "f1927ee2",
   "metadata": {},
   "source": [
    "`x` ist vom Typ `NoneType` oder anders ausgedrückt, es hat keinen Datentyp.\n",
    "\n",
    "Sind Funktionen ohne Rückgabewert sinnvoll? Ja, denn so können Codeblöcke\n",
    "vereinfacht werden. Sollte in einem Programm Code mehrmals ausgeführt werden,\n",
    "lohnt es sich, diesen in eine Funktion auszulagern, um diese einfach aufrufen zu\n",
    "können.\n",
    "\n",
    "##### Mini-Übung 10\n",
    "\n",
    "Schreiben Sie eine Funktion mit zwei Parametern, nämlich Vor- und Nachname. Wenn\n",
    "die Funktion z.B. mit `(Alice, Miller)` aufgerufen wird, soll sie Folgendes auf\n",
    "dem Bildschirm ausgeben:\n",
    "\n",
    "```python\n",
    "Vorname: Alice\n",
    "Nachname: Miller\n",
    "```"
   ]
  },
  {
   "cell_type": "code",
   "execution_count": null,
   "id": "92930cc0",
   "metadata": {},
   "outputs": [],
   "source": [
    "# Hier Ihr Code:"
   ]
  },
  {
   "cell_type": "markdown",
   "id": "ffaa0430",
   "metadata": {},
   "source": [
    "Das folgende Video zeigt, wie Funktionen mit Parametern in Python implementiert\n",
    "werden: <https://youtu.be/af9ORp1Pty0>\n",
    "\n",
    "#### Funktionen mit Rückgabewert\n",
    "\n",
    "In der Regel jedoch haben Funktionen einen Rückgabewert. Schauen wir uns ein\n",
    "Beispiel an:"
   ]
  },
  {
   "cell_type": "code",
   "execution_count": null,
   "id": "af2519a8",
   "metadata": {},
   "outputs": [],
   "source": [
    "def berechne_quadrat(x):\n",
    "    return x*x\n",
    "\n",
    "# Aufruf der Funktion\n",
    "berechne_quadrat(7)"
   ]
  },
  {
   "cell_type": "markdown",
   "id": "e6fdb798",
   "metadata": {},
   "source": [
    "Die Rückgabe wird durch das Schlüsselwort `return` erzeugt. Es ist auch möglich,\n",
    "mehrere Ergebnisse gleichzeitig zurückzugeben. Diese werden einfach nach dem\n",
    "Schlüsselwort `return` mit Kommas getrennt gelistet.\n",
    "\n",
    "##### Mini-Übung 11\n",
    "\n",
    "Schreiben Sie eine Funktion mit zwei Parametern, nämlich den beiden Seitenlängen eines Rechtecks. Lassen Sie die Fläche des Rechtecks berechnen und zurückgeben. Testen Sie Ihr Funktion auch."
   ]
  },
  {
   "cell_type": "code",
   "execution_count": null,
   "id": "69ce5d63",
   "metadata": {},
   "outputs": [],
   "source": [
    "# Hier Ihr Code:"
   ]
  },
  {
   "cell_type": "markdown",
   "id": "11dae976",
   "metadata": {},
   "source": [
    "Video: <https://youtu.be/ehSP-sYoKCY>\n",
    "\n",
    "### Objektorientierte Programmierung\n",
    "\n",
    "In den ersten beiden Teilen unseres Crashkurses Python haben wir uns die\n",
    "Grundlagen der Programmierung erarbeitet:\n",
    "\n",
    "* Datentypen (Integer, Float, String, List)\n",
    "* Kontrollstrukturen: for-Schleife\n",
    "* Funktionen.\n",
    "\n",
    "In einigen Programmiersprachen wie beispielsweise C hätten wir damit auch alle\n",
    "Sprachelement kennengelernt. Diese Programmierung nennt man **prozedurale\n",
    "Programmierung**. Python gehört jedoch zu den objektorientierten\n",
    "Programmiersprachen, so dass wir uns jetzt noch dem Thema Objektorientierung\n",
    "widmen.\n",
    "\n",
    "#### Konzept\n",
    "\n",
    "Bei der bisherigen prozeduralen Programmierweise haben wir Funktionen und Daten\n",
    "getrennt. Die Daten werden in Variablen gespeichert. Funktionen funktionieren\n",
    "nach dem EVA-Prinzip. In der Regel erwartet eine Funktion eine Eingabe von\n",
    "Daten, verarbeitet diese Daten und gibt Daten zurück.\n",
    "\n",
    "Angenommen, wir wollten ein Programm zur Verwaltung von Lottoscheinen schreiben.\n",
    "Zu einem Lottoschein wollen wir Name, Adresse und die angekreuzten Zahlen\n",
    "speichern. Dann müssten wir mit unserem bisherigen Wissen folgende Variablen pro\n",
    "Lottoschein einführen:\n",
    "\n",
    "* vorname\n",
    "* nachname\n",
    "* strasse\n",
    "* postleitzahl\n",
    "* stadt\n",
    "* liste_mit_sechs_zahlen\n",
    "\n",
    "Wenn jetzt viele Spielerinnen und Spieler Lotto spielen wollen, wie gehen wir\n",
    "jetzt mit den Daten um? Legen wir eine Liste für die Vornamen und eine Liste für\n",
    "die Nachnamen usw. an? Und wenn jetzt der 17. Eintrag in der Liste mit den sechs\n",
    "angekreuzten Lottozahlen sechs Richtige hat, suchen wir dann den 17. Eintrag in\n",
    "der Liste mit den Vornamen und den 17. Eintrag in der Liste mit den Nachnamen\n",
    "usw.? Umständlich...\n",
    "\n",
    "Die Idee der objektorientierten Programmierung ist, für solche Szenarien\n",
    "**Objekte** einzuführen. Ein Objekt fasst verschiedene Eigenschaften wie hier\n",
    "Vorname, Nachname, Straße, usw. zu einem Objekt Lottoschein zusammen. In der\n",
    "Informatik wird eine Eigenschaft eines Objekts **Attribut** genannt.\n",
    "\n",
    "Damit hätten wir erst einmal nur einen neuen Datentyp. Ein Objekt macht noch\n",
    "mehr aus, denn zu dem neuen Datentyp kommen noch Funktionen dazu, die die\n",
    "Verwaltung des Objektes erleichtern. Funktionen, die zu einem Objekt gehören,\n",
    "nennt man **Methoden**.\n",
    "\n",
    "Video: <https://youtu.be/46yolPy-2VQ>\n",
    "\n",
    "#### Klassen und Methoden\n",
    "\n",
    "Im Folgenden sehen Sie, wie ein Objekt in Python definiert wird. Die\n",
    "Implementierung erfolgt als sogenannte **Klasse**."
   ]
  },
  {
   "cell_type": "code",
   "execution_count": null,
   "id": "1f10d346",
   "metadata": {},
   "outputs": [],
   "source": [
    "class Adresse:\n",
    "    def __init__(self, strasse, hausnummer, plz, stadt):\n",
    "        self.strasse = strasse\n",
    "        self.hausnummer = hausnummer\n",
    "        self.postleitzahl = plz\n",
    "        self.stadt = stadt\n",
    "    \n",
    "    def print(self):\n",
    "        print('Straße = ', self.strasse)\n",
    "        print('Hausnummer = ', self.hausnummer)\n",
    "        print('Postleitzahl = ', self.postleitzahl)\n",
    "        print('Stadt = ', self.stadt)"
   ]
  },
  {
   "cell_type": "markdown",
   "id": "971a9c7f",
   "metadata": {},
   "source": [
    "Eingeleitet wird eine Klasse mit dem Schlüsselwort `class` und dann dem Namen\n",
    "der Klasse. Da Klassen Objekte sind, ist es Standard, den ersten Buchstaben des\n",
    "Klassennamens groß zu schreiben. Um Variablen von Objekten leichter zu\n",
    "unterscheiden, werden Variablennamen klein geschrieben.\n",
    "\n",
    "Danach folgt ein Abschnitt namens `def __init__(self):`, in dem die\n",
    "Eigenschaften der Klasse aufgelistet werden. `init` steht dabei für\n",
    "initialisieren, also den ersten Zustand, den das Objekt später haben wird.\n",
    "\n",
    "Wie Sie sehen, können die Eingabe-Parameter der `init()`-Methode die gleichen\n",
    "Namen tragen wie die Attribute der Klasse, also `self.strasse = strasse`, müssen\n",
    "sie aber nicht. Das Beispiel `self.postleitzahl = plz` zeigt, dass das Attribut\n",
    "`self.postleitzahl` einfach den Wert des 4. Parameters bekommt, egal wie der\n",
    "heißt.\n",
    "\n",
    "Eine Adresse wird nun folgendermaßen initialisiert:"
   ]
  },
  {
   "cell_type": "code",
   "execution_count": null,
   "id": "cc7384e1",
   "metadata": {},
   "outputs": [],
   "source": [
    "adresse_fra_uas = Adresse('Nibelungenplatz', 1, 60318, 'Frankfurt am Main')"
   ]
  },
  {
   "cell_type": "markdown",
   "id": "4e4aa881",
   "metadata": {},
   "source": [
    "Würden wir nun versuchen, mit `print(adresse_fra_uas)` die Adresse am Bildschirm\n",
    "ausgeben zu lassen, würden wir eine Fehlermeldung erhalten. Die Funktion\n",
    "`print()` ist nicht für den Datentyp `Adresse` entwickelt worden. Schließlich\n",
    "können die Python-Entwickler nicht wissen, welche Klassen Sie entwickeln... Wir\n",
    "müssen also eine eigene Adressen-print()-Funktion implementieren. Da diese\n",
    "print()-Funktion nicht allgemeingültig sein kann, sondern nur für die Objekte\n",
    "`Adresse` funktionieren wird, gehört sie auch folgerichtig zur Klasse selbst.\n",
    "Sie ist also keine Funktion, sondern eine **Methode**.\n",
    "\n",
    "Eine Methode wird definiert, indem innerhalb des Anweisungsblocks der Klasse\n",
    "eine Funktion mit dem Schlüsselwort `def` definiert wird. Der erste Eingabewert\n",
    "muss zwingend der `self`-Parameter sein. Ansonsten gelten aber die gleichen\n",
    "Regeln für Methoden wie für Funktionen.\n",
    "\n",
    "Bleibt nur noch eine Frage? Wie wird nun die Methode ausgeführt? Methoden werden\n",
    "ausgeführt, indem die Variable hingeschrieben wird, dann ein Punkt gesetzt wird\n",
    "und dann die Methode mit runden Klammern angefügt wird."
   ]
  },
  {
   "cell_type": "code",
   "execution_count": null,
   "id": "656eefe1",
   "metadata": {},
   "outputs": [],
   "source": [
    "adresse_fra_uas.print()"
   ]
  },
  {
   "cell_type": "markdown",
   "id": "e0f09ee9",
   "metadata": {},
   "source": [
    "Objektorientierung ist ein sehr detailreiches Thema, das wir in diesem Kapitel\n",
    "nur streifen konnten. Die folgenden Videos geben einen vertieften Einblick in\n",
    "die Objektorientierung mit Python.\n",
    "\n",
    "* <https://youtu.be/XxCZrT7Z3G4>\n",
    "* <https://youtu.be/CLoK-_qNTnU>\n",
    "* <https://youtu.be/58IjjwHs_4A>\n",
    "\n",
    "### Zusammenfassung und Ausblick\n",
    "\n",
    "In diesem Kapitel haben wir gelernt, selbst Funktionen und Klassen mit Methoden\n",
    "zu definieren. Oft ist es aber praktischer, Funktionen und Klassen zu nutzen,\n",
    "die bereits implementiert sind, anstatt das Rad neu zu erfinden. Vor allem bei\n",
    "der Datenexploration und den maschinellen Lernalgorithmen benutzen wir die\n",
    "vorgefertigten Funktionsbausteine eher als eigene zu definieren, wie wir in den\n",
    "nächsten Kapiteln sehen werden.\n",
    "\n",
    "## Aufgaben\n",
    "\n",
    "### Aufgabe 2.1\n",
    "\n",
    "Welcher Datentyp liegt vor? Führen Sie einen Doppelklick auf diese Textzelle\n",
    "aus und schreiben Sie Ihre Antwort hinter den Pfeil.\n",
    "\n",
    "* 3 -->\n",
    "* -3 -->\n",
    "* 'drei'-->\n",
    "* 3.3 -->\n",
    "* 3,3 -->\n",
    "* 3**3 -->\n",
    "* 3**(1/3) -->\n",
    "\n",
    "### Aufgabe 2.2\n",
    "\n",
    "Schreiben Sie ein Programm, das die Zahlen von 5 bis 15 mit ihrem Quadrat\n",
    "ausgibt, also \"Das Quadrat von 5 ist 25.\" usw."
   ]
  },
  {
   "cell_type": "code",
   "execution_count": null,
   "id": "76e6927f",
   "metadata": {},
   "outputs": [],
   "source": [
    "# Hier Ihr Code:"
   ]
  },
  {
   "cell_type": "markdown",
   "id": "18643e25",
   "metadata": {},
   "source": [
    "### Aufgabe 2.3\n",
    "\n",
    "Schreiben Sie eine For-Schleife, die die Brüche 1/7, 2/7, 3/7, bis 7/7 als\n",
    "Fließkommazahl gerundet auf 2 Nachkommastellen ausgibt."
   ]
  },
  {
   "cell_type": "code",
   "execution_count": null,
   "id": "7a4bca3d",
   "metadata": {},
   "outputs": [],
   "source": [
    "# Hier Ihr Code:"
   ]
  },
  {
   "cell_type": "markdown",
   "id": "e44e5b2b",
   "metadata": {},
   "source": [
    "### Aufgabe 2.4\n",
    "\n",
    "Schreiben Sie ein Programm, das eine Liste von Namen durchgeht und jede Person begrüßt. Wenn beispielsweise die Namen Alice, Bob und Charlie in der Liste stehen, lauten die Begrüßungen:\n",
    "\n",
    "Hallo, Alice!\n",
    "\n",
    "Hallo, Bob!\n",
    "\n",
    "Hallo, Charlie!"
   ]
  },
  {
   "cell_type": "code",
   "execution_count": null,
   "id": "8bef7961",
   "metadata": {},
   "outputs": [],
   "source": [
    "# Hier Ihr Code:"
   ]
  },
  {
   "cell_type": "markdown",
   "id": "ad813063",
   "metadata": {},
   "source": [
    "### Aufgabe 2.5\n",
    "\n",
    "Schreiben Sie ein Programm, das das kleine 1x1 in schöner Tabellenform ausgibt,\n",
    "also\n",
    "\n",
    "1 x 1 = 1\n",
    "\n",
    "1 x 2 = 2\n",
    "\n",
    "usw."
   ]
  },
  {
   "cell_type": "code",
   "execution_count": null,
   "id": "ed57c0ab",
   "metadata": {},
   "outputs": [],
   "source": [
    "# Hier Ihr Code:"
   ]
  }
 ],
 "metadata": {
  "jupytext": {
   "formats": "ipynb,md:myst"
  },
  "kernelspec": {
   "display_name": "Python 3 (ipykernel)",
   "language": "python",
   "name": "python3"
  }
 },
 "nbformat": 4,
 "nbformat_minor": 5
}
