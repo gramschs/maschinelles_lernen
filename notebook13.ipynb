{
 "cells": [
  {
   "cell_type": "markdown",
   "id": "c3de573a",
   "metadata": {},
   "source": [
    "# 13. Logistische Regression\n",
    "\n",
    "Das binäre Klassifikationsverfahren des Perzeptrons sortiert Datensätze in zwei\n",
    "Klassen. Ob dabei die Entscheidung für eine Klasse sehr knapp getroffen wird\n",
    "oder eindeutig erscheint, wird dabei nicht transparent. Im Folgenden\n",
    "beschäftigen wir uns mit einem binären Klassifikationsverfahren namens\n",
    "logistische Regression, das auf einer Prognose der Klassenwahrscheinlichkeit\n",
    "basiert.\n",
    "\n",
    "## 13.1 Logistische Regression ersetzt Perzeptron\n",
    "\n",
    "### Lernziele\n",
    "\n",
    "* Sie können die **logistische Funktion** zeichnen.\n",
    "* Sie können die **Funktionsgleichung der logistischen Funktion** angeben.\n",
    "* Sie können das **logistische Regressionsmodell** schematisch darstellen.\n",
    "\n",
    "### Perzeptron ungeeignet bei nicht trennbaren Daten\n",
    "\n",
    "Das Perzeptron ist ein simples ML-Verfahren für die binäre Klassifikation.\n",
    "Allerdings ist das Perzeptron nur für trennbare Datensätze geeignet. Dazu\n",
    "schauen wir uns zwei Beispiele aus dem Männerfußball an. Ziel der folgenden\n",
    "Klassifikationsaufgabe ist es, anhand des Marktwertes eines Vereines zu\n",
    "klassifizieren, ob der Verein in der Bundesliga oder in der 2. Bundesliga\n",
    "spielt.\n",
    "\n",
    "Dazu laden wir als erstes den Datensatz `20220801_Marktwert_Bundesliga.csv`\n",
    "(Download\n",
    "[csv](https://nextcloud.frankfurt-university.de/s/GESBZzRyXq6dLNC/download);\n",
    "Quelle: <https://www.transfermarkt.de>; Stichtag: 01.08.2022)."
   ]
  },
  {
   "cell_type": "code",
   "execution_count": null,
   "id": "3712ff71",
   "metadata": {
    "tags": [
     "output-scroll"
    ]
   },
   "outputs": [],
   "source": [
    "import pandas as pd\n",
    "data_raw = pd.read_csv('data/20220801_Marktwert_Bundesliga.csv', skiprows=5, header=0, index_col=0)\n",
    "data_raw.info()"
   ]
  },
  {
   "cell_type": "markdown",
   "id": "5af3327a",
   "metadata": {},
   "source": [
    "Die ersten fünf Einträge lauten wie folgt:"
   ]
  },
  {
   "cell_type": "code",
   "execution_count": null,
   "id": "63368f55",
   "metadata": {},
   "outputs": [],
   "source": [
    "data_raw.head()"
   ]
  },
  {
   "cell_type": "markdown",
   "id": "22f3c5b3",
   "metadata": {},
   "source": [
    "Die erste Spalte enthält den Vereinsnamen, die zweite Spalte listet die\n",
    "Ligazugehörigkeit (Bundesliga, 2. Bundesliga oder 3. Liga), die dritte Spalte\n",
    "beinhaltet den Marktwert des Vereins in Mio. Euro und die vierte Spalte listet\n",
    "die Anzahl der Spieler.\n",
    "\n",
    "Welche Ligen sind denn im Datensatz vertreten?"
   ]
  },
  {
   "cell_type": "code",
   "execution_count": null,
   "id": "ec176c4c",
   "metadata": {},
   "outputs": [],
   "source": [
    "data_raw['Ligazugehörigkeit'].unique()"
   ]
  },
  {
   "cell_type": "markdown",
   "id": "23d3aa99",
   "metadata": {},
   "source": [
    "Zuerst erkunden wie die Daten und lassen uns den MArktwert abhängig von der\n",
    "Ligazugehörigkeit visualisieren."
   ]
  },
  {
   "cell_type": "code",
   "execution_count": null,
   "id": "721fbefa",
   "metadata": {},
   "outputs": [],
   "source": [
    "import plotly.express as px\n",
    "\n",
    "fig = px.box(data_raw, x = 'Ligazugehörigkeit', y = 'Wert',\n",
    "             title='Deutscher Vereinsfußball der Männer (Stichtag: 1.8.2022)')\n",
    "fig.show()"
   ]
  },
  {
   "cell_type": "markdown",
   "id": "738d7810",
   "metadata": {},
   "source": [
    "In der Bundesliga gibt es bezogen auf den Kaderwert drei Ausreißer, in der 3.\n",
    "Liga gibt es einen Ausreißer. Zoom man in die Visualisierung hinein, so sehen\n",
    "wir, dass ein Marktwert von 36 Mio. Euro die Erstligisten von den Zweitligisten\n",
    "trennt. Daher wäre für eine Klassifikation Bundesliga vs. 2. Bundesliga ein\n",
    "Perzeptron trainierbar. Eine solche Trennung funktioniert bei den Vereinen der\n",
    "\n",
    "1. Bundesliga und der 3. Liga nicht. Der minimale Marktwert der 2. Bundesliga\n",
    "(8.83 Mio. EUR) ist niedriger als der maximale Marktwert der 3. Liga (13.05 Mio.\n",
    "EUR). Wir betrachten nun nur noch 2. und 3. Liga und stellen die folgende Frage:\n",
    "\n",
    "Kann aufgrund des Marktwertes die Zugehörigkeit zur 2. Bundesliga oder 3. Liga\n",
    "prognostiziert werden? Wir visualisieren die einzelnen Datenpunkte mit der\n",
    "Ursache 'Wert' auf der x-Achse und 'Ligazugehörigkeit' auf der y-Achse."
   ]
  },
  {
   "cell_type": "code",
   "execution_count": null,
   "id": "7935c861",
   "metadata": {},
   "outputs": [],
   "source": [
    "data = data_raw[ data_raw['Ligazugehörigkeit'] != 'Bundesliga' ]\n",
    "\n",
    "fig = px.scatter(data, x = 'Wert', y = 'Ligazugehörigkeit',\n",
    "             title='Deutscher Vereinsfußball der Männer (Stichtag: 1.8.2022)')\n",
    "fig.show()"
   ]
  },
  {
   "cell_type": "markdown",
   "id": "b455604a",
   "metadata": {},
   "source": [
    "Als nächstes ersetzen wir die Klassenbezeichnungen durch numerische Werte. Mit\n",
    "Bezeichnungen wie \"3. Liga\" und \"2. Bundesliga\" kann Python nämlich nicht\n",
    "rechnen. Bei einem binären Klassifikationsverfahren wie hier werden hierfür\n",
    "üblicherweise die Zahlen 0 und 1 verwendet, also\n",
    "\n",
    "* '3. Liga --> 0'\n",
    "* '2. Bundesliga --> 1'\n",
    "\n",
    "Das Klassifikationsproblem lautet also: angenommen, ein\n",
    "Verein hat den Marktwert x. Gehört der Verein dann zur Klasse 1 (= 2.\n",
    "Bundesliga)?\n",
    "\n",
    "Als zweites verabschieden wir uns von dem Perzeptron. Anstatt eine Gerade zur\n",
    "Trennung einzuziehen, nehmen wir eine S-förmige Funktion. Diese S-förmige\n",
    "Funktion interpretieren wir als **Wahrscheinlichkeit** der Ligazugehörigkeit.\n",
    "Die Werte liegen dabei zwischen 0 und 1. Bei einer Wahrscheinlichkeit von 1 sind\n",
    "wir also 100 % sicher, dass der Verein zur Klasse 1 (= 2. Bundesliga) gehört.\n",
    "Bei einem Wert von 0.7 gehen wir mit 70 % Wahrscheinlichkeit davon aus, dass der\n",
    "Verein zur Klasse 1 (= 2. Bundesliga) gehört.\n",
    "\n",
    "Als drittes verwandeln wir die Wahrscheinlichkeit mit Werten *zwischen* 0 und 1\n",
    "in die Klassen 0 oder 1. Dazu nutzen wir die Heaviside-Funktion. Die komplette\n",
    "Vorgehensweise ist in der folgenden Grafik dargestellt.\n",
    "\n",
    "![Die S-förmige schwarz gestrichelte Kurve gibt die Wahrscheinlichkeit an, dass ein Verein zur 2. Bundesliga gehört. Da nicht nach einer Wahrscheinlichkeit gefragt ist, sondern nur nach 2. Bundesliga -- ja oder nein -- werden alle Vereine mit einer Wahrscheinlichkeitgrößer 50 % (also $\\geq 0.5$) als Zweitligisten klassifiziert.](https://gramschs.github.io/book_ml4ing/_images/bundesliga_decision_function_annotated.pdf)\n",
    "\n",
    "Jetzt brauchen wir eine Funktion für die S-förmige Kurve, das wir dann mittels\n",
    "eines ML-Verfahrens an unsere Trainingsdaten anpassen können."
   ]
  },
  {
   "cell_type": "markdown",
   "id": "471f7fb4",
   "metadata": {},
   "source": [
    "### Logistische Funktion ersetzt Heaviside-Funktion\n",
    "\n",
    "Beim Perzeptron wird auf die gewichtete Summe von Inputs die Heaviside-Funktion\n",
    "angewandt. So simpel die Heaviside-Funktion $\\phi$ auch ist, sie hat einen\n",
    "entscheidenen Nachteil. Die Heaviside-Funktion ist unstetig, sie springt von\n",
    "Null auf Eins. Diese Sprungstelle hat die **logistische Funktion** nicht.\n",
    "\n",
    "Die logistische Funktion ist defininiert als\n",
    "\n",
    "$$\\sigma(z) = \\frac{1}{1+e^{-z}}.$$\n",
    "\n",
    "Um die logistische Funktion abzukürzen, verwenden wir dabei den griechischen\n",
    "Buchstaben Sigma $\\sigma$, weil die logistische Funktion auch\n",
    "**Sigmoid-Funktion** genannt wird. In der folgenden Abbildung ist der\n",
    "Funktionsgraph der logistischen Funktion dargestellt.\n",
    "\n",
    "![Funktionsgraph der logistischen Funktion, auch Sigmoid-Funktion genannt](https://gramschs.github.io/book_ml4ing/_images/plot_logit_function.pdf)\n",
    "\n",
    "Damit haben wir die Bausteine des logistischen Regressionmodells komplettiert.\n",
    "Genau wie bei der linearen Regression oder beim Perzeptron werden zuerst die\n",
    "einzelnen Inputs gewichtet und aufsummiert. Auf die gewichtete Summe wird dann\n",
    "die logistische Funktion als Aktivierungsfunktione angewendet. Das Ergebnis ist\n",
    "die Wahrscheinlichkeit für die Klasse mit der Bezeichnung 1 (in unserem Beispiel\n",
    "die Zugehörigkeit zur 2. Bundesliga). Zuletzt wird noch die Heaviside-Funktion\n",
    "als Schwellenwertfunktion angewendet, um aus der Wahrscheinlichkeit eine Klasse\n",
    "zu machen.\n",
    "\n",
    "Schematisch dargestellt sieht das logistische Regressionsmodell also\n",
    "folgendermaßen aus:\n",
    "\n",
    "![Das logistische Regressionsmodell als neuronales Netz formuliert](https://gramschs.github.io/book_ml4ing/_images/topology_logistic_regression.svg)\n",
    "\n",
    "Mathematisch formuliert lautet das logistische Regressionsmodell folgendermaßen:\n",
    "\n",
    "$$\\hat{P} = \\sigma\\left(\\sum_{i=0}^{N} x_i \\omega_i\\right) = \\frac{1}{1+e^{-\\sum x_i \\omega_i}}\n",
    "\\rightsquigarrow \\hat{y} = \\begin{cases} 0: & \\hat{P} < 0.5 \\\\ 1: & \\hat{P} \\geq 0.5 \\end{cases} $$\n",
    "\n",
    "### Zusammenfassung und Ausblick Kapitel 13.1\n",
    "\n",
    "In diesem Abschnitt haben wir das logistische Regressionsmodell formuliert. Als\n",
    "nächstes betrachten wir ein Lernverfahren, um die Gewichte des logistischen\n",
    "Regressionsmodells zu erlernen.\n",
    "\n",
    "## 13.2 Logistische Regression lernt mit Maximum-Likelihood\n",
    "\n",
    "### Lernziele\n",
    "\n",
    "* Sie kennen die Begriffe **Fehlermaß**, **Kostenfunktion** und **Verlustfunktion**.\n",
    "\n",
    "### Wir basteln eine Kostenfunktion\n",
    "\n",
    "Bei der linearen Regression werden die prognostizierten Daten $\\hat{y}$ mit den\n",
    "echten Daten $y$ verglichen. Dazu wird der Abstand der beiden Werte berechnet\n",
    "und quadriert, damit der Fehler immer positiv ist. Zuletzt wird der Mittelwert\n",
    "aller Fehler für alle Trainingsdaten gebildet. Die Gewichte des linearen\n",
    "Regressionsmodells werden dann so berechnet, dass die mittlere Summe der\n",
    "Fehlerquadrate möglichst klein, also minimiert wird. In der Wirtschaft\n",
    "verursachen Fehler Kosten. Daher wird ein **Fehlermaß**, in der ML Community\n",
    "auch **Kostenfunktion (cost function)** genannt. Da das Fehlermaß bzw. die\n",
    "Kostenfunktion minimiert werden soll, sprechen mache auch von **Verlustfunktion\n",
    "(loss function)**.\n",
    "\n",
    "So ein Maß, egal wie wir es am Ende nennen, brauchen wir hier auch. Wir müssen\n",
    "beurteilen können, ob die gewählten Gewichte gut oder schlecht sind, also kleine\n",
    "Fehler oder große Fehler produzieren. Nur passt diesmal leider die kleinste\n",
    "Summe der Fehlerquadrate nicht. Bei der binären Klassifikation gibt es nämlich\n",
    "nur zwei Fehler. Entweder, ich prognostiziere Klasse 1, aber es wäre Klasse 0\n",
    "gewesen. Oder ich prognostiziere *nicht* Klasse 1, obwohl Klasse 1 richtig\n",
    "gewesen wäre. Damit haben wir auch zwei Fehlerarten. Für beide Fehlerarten\n",
    "führen wir ein eigenes Fehlermaß bzw. Kostenfunktion bzw. Verlustfunktion ein.\n",
    "\n",
    "Damit wir uns bei den folgenden Überlegungen etwas Schreibarbeit sparen können,\n",
    "kürzen wir die gewichtete Summe mit $z$ ab, also\n",
    "\n",
    "$$z = \\sum_{i=0}^{N} x_i \\omega_i.$$\n",
    "\n",
    "#### Kostenfunktion, wenn Klasse 1 richtig wäre\n",
    "\n",
    "$\\sigma(z)$ gibt die Wahrscheinlichkeit an, dass der prognostizierte Output\n",
    "$\\hat{y}$ in Klasse 1 einsortiert werden sollte. Wenn das richtig ist, also\n",
    "tatsächlich für den echten Output $y=1$ gilt, dann ist der Fehler bzw. sind die\n",
    "Kosten 0. Sollte jedoch das logistische Regressionsmodell $\\sigma(z)$ fehlerhaft\n",
    "Richtung 0 tendieren, so sollten auch hohe Kosten anfallen. Die Kostenfunktion\n",
    "muss also stark steigen, je mehr sich die Wahrscheinlichkeit\n",
    "$\\sigma(z)$ der 0 nähert.\n",
    "\n",
    "Es gibt einige Funktionen, die ein solches Verhalten beschreiben. Wir verwenden\n",
    "die folgende Kostenfunktion:\n",
    "\n",
    "$$c_{1}(z) =\n",
    "- \\log\\left(\\sigma(z)\\right), \\quad \\text{ falls } y=1.$$\n",
    "\n",
    "Vielleicht mag man sich jetzt wundern, wie man auf diese Funktion kommt. Diese\n",
    "Funktion wie auch die nachfolgenden Überlegungen basieren auf der\n",
    "[Maximum-Likelihood-Methode](https://de.wikipedia.org/wiki/Maximum-Likelihood-Methode),\n",
    "einem sehr bekannten statistischen Verfahren.\n",
    "\n",
    "Am einfachsten ist es wahrscheinlich, sich den Graph der Funktion anzusehen. Da\n",
    "$\\sigma(z)$ für jede Kombination von Inputs $x_i$ und Gewichten $\\omega_i$\n",
    "zwischen 0 und 1 liegt, brauchen wir die Kostenfunktion $c_1$ auch nur auf dem\n",
    "Intervall $[0, 1]$ plotten."
   ]
  },
  {
   "cell_type": "code",
   "execution_count": null,
   "id": "269f8154",
   "metadata": {},
   "outputs": [],
   "source": [
    "import numpy as np\n",
    "import plotly.express as px\n",
    "\n",
    "sigma_z = np.linspace(0,1)[1:]\n",
    "cost_1 = - np.log(sigma_z)\n",
    "\n",
    "fig = px.line(x = sigma_z, y = cost_1,\n",
    "              title='Kostenfunktion, falls Klasse 1 korrekt (y=1)',\n",
    "              labels={'x': 'sigma(z)', 'y': 'Kosten c_1'})\n",
    "fig.show()"
   ]
  },
  {
   "cell_type": "markdown",
   "id": "f9fd9344",
   "metadata": {},
   "source": [
    "#### Kostenfunktion, wenn Klasse 1 nicht richtig wäre\n",
    "\n",
    "Nun betrachten wir den zweiten Fall. Der echte Output soll nicht der Klasse 1\n",
    "angehören, also $y=0$. Sollte die Wahrscheinlichkeit des logistischen\n",
    "Regressionsmodells $\\sigma(z)$ in Richtung 0 gehen, so sollen kaum Kosten\n",
    "anfallen. Falls korrekterweise die Wahrscheinlicheit 0 ist, so sollen gar keine\n",
    "Kosten anfallen, denn der Fehler geht gegen 0. Und umgekehrt, wenn die\n",
    "Wahrscheinlichkeit des logistischen Regressionsmodells Richtung 1 tendiert, so\n",
    "sollen die Kosten stark steigen. Wir nehmen als zweite Kostenfunktion für den\n",
    "Fall $y=0$ die folgende Funktion:\n",
    "\n",
    "$$c_{0}(z) = - \\log\\left(1-\\sigma(z)\\right), \\quad \\text{ falls } y=0.$$"
   ]
  },
  {
   "cell_type": "code",
   "execution_count": null,
   "id": "814efd34",
   "metadata": {},
   "outputs": [],
   "source": [
    "sigma_z = np.linspace(0,1)[:-1]\n",
    "cost_0 = - np.log(1 - sigma_z)\n",
    "\n",
    "fig = px.line(x = sigma_z, y = cost_0,\n",
    "              title='Kostenfunktion, falls Klasse 1 nicht korrekt (y=0)',\n",
    "              labels={'x': 'sigma(z)', 'y': 'Kosten c_0'})\n",
    "fig.show()"
   ]
  },
  {
   "cell_type": "markdown",
   "id": "ffdbfaa3",
   "metadata": {},
   "source": [
    "#### Beide Kostenfunktionen kombiniert\n",
    "\n",
    "Zusammengefasst haben wir also zwei Kostenfunktionen für die beiden Fälle.\n",
    "\n",
    "$$\n",
    "c(z) =\n",
    "\\begin{cases}\n",
    "c_{0}(z): & y = 0 \\\\\n",
    "c_{1}(z): & y = 1 \\\\\n",
    "\\end{cases} \\qquad = \\qquad\n",
    "\\begin{cases}\n",
    "\n",
    "-\\log\\left(1-\\sigma(z)\\right): & y = 0 \\\\\n",
    "-\\log\\left(\\sigma(z)\\right): & y = 1 \\\\\n",
    "\\end{cases}.\n",
    "\n",
    "$$\n",
    "\n",
    "Es wäre besser, die Fallunterscheidung weglassen zu können und nur eine\n",
    "Kostenfunktion zu betrachten. Dafür gibt es einen bekannten Trick, die\n",
    "sogenannte *Konvexkombination* beider Funktionen funktioniert:\n",
    "\n",
    "$$\n",
    "c(z) = y\\cdot c_{1}(z) + (1-y) c_{0}(z).\n",
    "$$\n",
    "\n",
    "Wenn wir einmal $y=0$ einsetzen und einmal $y=1$, so sehen wir, dass entweder\n",
    "$c_{1}(z)$ oder aber $c_{0}(z)$ übrig bleibt — so wie gewünscht.\n",
    "\n",
    "Also lautet die konvex kombiniert Kostenfunktion für einen einzelnen\n",
    "Trainingsdatensatz mit den Inputs $x_i$ und den Gewichten $\\omega_i$\n",
    "\n",
    "$$ c(\\mathbf{x}; \\boldsymbol{\\omega}) = - y\\cdot\n",
    "\\log\\left(\\sigma\\left(\\sum_{i=0}^{N}x_i \\omega_i\\right)\\right) - (1-y)\n",
    "\\log\\left(\\sigma\\left(1-\\sum_{i=0}^{N}x_i \\omega_i\\right)\\right) $$\n",
    "\n",
    "mit der logistischen Funktion $\\sigma(z) = \\frac{1}{1+e^{-z}}$."
   ]
  },
  {
   "cell_type": "markdown",
   "id": "a1ef2e20",
   "metadata": {},
   "source": [
    "### Lernregel für die logistische Regression\n",
    "\n",
    "Wie bei der linearen Regression wird nun die Kostenfunktion für jeden einzelnen Trainingsdatensatz berechnet und anschließend wird über alle Kosten der Mittelwert gebildet. Nun müssen die Gewichte so gewähle werden, dass der Mittelwert der Kosten minimiert wird. Anders als bei der linearen Regression kann dafür nicht einfach eine Gleichgun gelöst werden, die die Gewichte berechnet. Stattdessen muss wie beim Pereptron ein iteratives Verfahren verwendet werden. Damit ist gemeint, dass mit zufällig gewählten Gewichten die mittleren Kosten berechnet werden. Danach wird solange an den Gewichten gedreht, bis ein Minumum der mittleren Kosten erreicht wird. Wie an den Gewichten gedreht wird, gibt der **Gradient der Kostenfunktion** vor.\n",
    "\n",
    "In dieser Vorlesung gehen wir *nicht* auf das sehr mathematiklastige Thema Gradientenverfahren ein. Der KI-Campus bietet einen spielerischen Zugang zu dem Thema mit weiterführenden Texten an: [https://learn.ki-campus.org](https://learn.ki-campus.org/courses/explorables-schule-imaginary2021/items/7H9nZI186JgjC8jOjxdbaT) (eine Anmeldung ist dafür erforderlich, aber kostenfrei).\n",
    "\n",
    "## 13.3 Logistische Regression mit Scikit-Learn\n",
    "\n",
    "### Lernziele\n",
    "\n",
    "* Sie können ein logistisches Regressionsmodell mit Scikit-Learn trainieren.\n",
    "\n",
    "### LogisticRegression\n",
    "\n",
    "Scikit-Learn bietet ein logistisches Regressionsmodell an, bei dem verschiedene\n",
    "Gradientenverfahren im Hintergrund die Gewichte bestimmen, die zu einer\n",
    "minimalen mittleren Kostenfunktion führen. Die Dokumentation zu dem logistischen\n",
    "Regressionsmodell findet sich hier: [scikit-learn.org →\n",
    "LogisticRegression](https://scikit-learn.org/stable/modules/generated/sklearn.linear_model.LogisticRegression.html).\n",
    "\n",
    "Wir wenden nun das Scikit-Learn-Modell auf unser Beispiel der binären\n",
    "Klassifikation \"Ligazugehörigkeit abhängig vom Marktwert\" deutscher\n",
    "Fußballvereine an. Dazu wiederholen laden wir die Daten und filtern zunächst\n",
    "nach Vereinen der 2. Bundesliga oder der 3. Liga."
   ]
  },
  {
   "cell_type": "code",
   "execution_count": null,
   "id": "79975503",
   "metadata": {},
   "outputs": [],
   "source": [
    "# import all data\n",
    "import pandas as pd\n",
    "data_raw = pd.read_csv('data/20220801_Marktwert_Bundesliga.csv', skiprows=5, header=0, index_col=0)\n",
    "\n",
    "# filter wrt 2. Bundesliga and 3. Liga\n",
    "data = data_raw[ data_raw['Ligazugehörigkeit'] != 'Bundesliga' ]\n",
    "\n",
    "# print all data samples\n",
    "data.head(38)"
   ]
  },
  {
   "cell_type": "markdown",
   "id": "22fcb74b",
   "metadata": {},
   "source": [
    "Als nächstes formulieren wir das Klassifikationsproblem: Gegeben ist ein Verein mit seinem Marktwert. Spielt der Verein in der 2. Bundesliga?\n",
    "\n",
    "Die Klasse `2. Bundesliga` wird in den Daten als `1` codiert, da der ML-Algorithmus nur mit numerischen Daten arbeiten kann. Den String `3. Liga` ersetzen wir in den Trainingsdaten durch eine `0`."
   ]
  },
  {
   "cell_type": "code",
   "execution_count": null,
   "id": "705b951c",
   "metadata": {},
   "outputs": [],
   "source": [
    "# encode categorical data\n",
    "data.replace('2. Bundesliga', 1, inplace=True)\n",
    "data.replace('3. Liga', 0, inplace=True)"
   ]
  },
  {
   "cell_type": "markdown",
   "id": "78b1b5dd",
   "metadata": {},
   "source": [
    "Jetzt können wir das logistische Regressionsmodell laden:"
   ]
  },
  {
   "cell_type": "code",
   "execution_count": null,
   "id": "1326346f",
   "metadata": {},
   "outputs": [],
   "source": [
    "from sklearn.linear_model import LogisticRegression\n",
    "\n",
    "logistic_regression = LogisticRegression()"
   ]
  },
  {
   "cell_type": "markdown",
   "id": "0f3bd352",
   "metadata": {},
   "source": [
    "Die Daten werden jetzt in Matrizen gepackt und in Trainings- und Testdaten unterteilt:"
   ]
  },
  {
   "cell_type": "code",
   "execution_count": null,
   "id": "f02529c7",
   "metadata": {},
   "outputs": [],
   "source": [
    "import numpy as np\n",
    "from sklearn.model_selection import train_test_split\n",
    "\n",
    "X = data[['Wert']]\n",
    "y = data['Ligazugehörigkeit']\n",
    "\n",
    "X_train, X_test, y_train, y_test = train_test_split(X, y, random_state=0)"
   ]
  },
  {
   "cell_type": "markdown",
   "id": "e5b0b13b",
   "metadata": {},
   "source": [
    "Danach können wir das logistische Regressionsmodell trainieren:"
   ]
  },
  {
   "cell_type": "code",
   "execution_count": null,
   "id": "b0a4ad5d",
   "metadata": {},
   "outputs": [],
   "source": [
    "logistic_regression.fit(X_train, y_train)"
   ]
  },
  {
   "cell_type": "markdown",
   "id": "a6cabe65",
   "metadata": {},
   "source": [
    "Und dann als nächstes beurteilen, wie viele der Testdaten korrekt klassfiziert werden."
   ]
  },
  {
   "cell_type": "code",
   "execution_count": null,
   "id": "27d44b07",
   "metadata": {},
   "outputs": [],
   "source": [
    "logistic_regression.score(X_test, y_test)"
   ]
  },
  {
   "cell_type": "markdown",
   "id": "cbd220a1",
   "metadata": {},
   "source": [
    "90 % der Testdaten werden korrekt klassifiziert. Mit einer anderen Aufteilung in\n",
    "Trainings- und Testdaten können wir auch höhere Erkennungsraten erzielen.\n",
    "Beispielsweise führt ein Split mit `random_state=1` zu einer 100 % genauen\n",
    "Klassifikation der Testdaten.\n",
    "\n",
    "Als nächstes lassen wir Python alle Daten zusammen mit der\n",
    "Wahrscheinlichkeitsfunktion visualisieren."
   ]
  },
  {
   "cell_type": "code",
   "execution_count": null,
   "id": "6f3fa27c",
   "metadata": {},
   "outputs": [],
   "source": [
    "# extrahiere die Gewichte des logistischen Regressionsmodells\n",
    "gewichte = np.concatenate((logistic_regression.intercept_, logistic_regression.coef_[:,0]))\n",
    "print(f'Gewichte: {gewichte}')\n",
    "\n",
    "# definiere Wahrschinelichkeitsfunktion\n",
    "def wahrscheinlichkeitsfunktion(x, w):\n",
    "    z = w[0] + x * w[1]\n",
    "    return 1/(1+np.exp(-z))\n",
    "\n",
    "# stelle Wartetabelle der Wahrscheinlichkeitsfunktion auf\n",
    "x = np.linspace(0, 35)\n",
    "sigma_z = wahrscheinlichkeitsfunktion(x, gewichte)\n",
    "\n",
    "# trenne Daten gemäß Ligazugehörigkeit\n",
    "data_zweite_liga = data[data['Ligazugehörigkeit'] == 1]\n",
    "data_dritte_liga = data[data['Ligazugehörigkeit'] == 0]"
   ]
  },
  {
   "cell_type": "code",
   "execution_count": null,
   "id": "aeba54cf",
   "metadata": {},
   "outputs": [],
   "source": [
    "import plotly.express as px\n",
    "import plotly.graph_objects as go\n",
    "\n",
    "fig3 = px.scatter(data_dritte_liga, x = 'Wert', y = 'Ligazugehörigkeit')\n",
    "fig2 = px.scatter(data_zweite_liga, x = 'Wert', y = 'Ligazugehörigkeit')\n",
    "fig_model = px.line(x = x, y = sigma_z)\n",
    "\n",
    "fig = go.Figure(fig_model.data + fig2.data + fig3.data)\n",
    "fig.update_layout(title='Klassifikation 2. Bundesliga / 3. Liga',\n",
    "                  xaxis_title='Marktwert',\n",
    "                  yaxis_title='Ligazugehörigkeit')\n",
    "fig.show()"
   ]
  },
  {
   "cell_type": "markdown",
   "id": "5199bd39",
   "metadata": {},
   "source": [
    "Aus der Visualisierung der Wahrscheinlichkeitsfunktion können wir grob\n",
    "abschätzen, bei welchem Marktwert ein Verein als Zweit- oder Drittligist\n",
    "klassifiziert wird. Die Wahrscheinlichkeitsfunktion schneidet die 50 %\n",
    "Grenzlinie ungefähr bei einem Marktwert von 11 Mio. Euro. Etwas genauer können\n",
    "wir diese Grenze durch das Kommando `fsolve` aus dem Scipy-Modul bestimmen\n",
    "lassen:"
   ]
  },
  {
   "cell_type": "code",
   "execution_count": null,
   "id": "dd3b007a",
   "metadata": {},
   "outputs": [],
   "source": [
    "from scipy.optimize import fsolve\n",
    "\n",
    "x_grenze =  fsolve(lambda x: wahrscheinlichkeitsfunktion(x, gewichte) - 0.5, 11.0)\n",
    "print('Grenze des Marktwertes: {:.2f} Mio. Euro'.format(x_grenze[0]))"
   ]
  },
  {
   "cell_type": "markdown",
   "id": "f24e9327",
   "metadata": {},
   "source": [
    "### Zusammenfassung\n",
    "\n",
    "In diesem Abschnitt haben wir an einem Beispiel gesehen, wie das logistische\n",
    "Regressionsmodell von Scikit-Learn trainiert und bewertet wird.\n",
    "\n",
    "## Klausurtypische Aufgaben\n",
    "\n",
    "Der folgende Datensatz enthält die Preise und Eigenschaften von Diamanten. Die\n",
    "Eigenschaften sind:\n",
    "\n",
    "* Karat (Gewicht des Diamanten)\n",
    "* Schliff (Qualität: befriedigend, gut, sehr gut, erstklassig, ideal)\n",
    "* Farbe des Diamanten (von J (schlechteste) bis D (beste))\n",
    "* Reinheit - ein Maß für die Klarheit des Diamanten (I1 (schlechteste), SI2,\n",
    "  SI1, VS2, VS1, VVS2, VVS1, IF (beste))\n",
    "* Tiefe (Gesamttiefe in Prozent = z / Mittelwert (x, y) = 2 * z / (x + y))\n",
    "* Tafel (Breite der Oberseite des Diamanten im Verhältnis zur breitesten Stelle)\n",
    "* Preis (in US-Dollar)\n",
    "* x - Länge in mm\n",
    "* y - Breite in mm\n",
    "* z - Tiefe in mm\n",
    "\n",
    "Bearbeiten Sie die folgenden Aufgaben. Vorab können Sie die folgenden Module\n",
    "importieren. Schreiben Sie Ihre Antworten als Kommentar oder in eine\n",
    "Markdown-Zelle. Lassen Sie das Jupyter Notebook am Ende noch einmal komplett\n",
    "ausführen, bevor Sie es abgeben."
   ]
  },
  {
   "cell_type": "code",
   "execution_count": null,
   "id": "34025c40",
   "metadata": {},
   "outputs": [],
   "source": [
    "# import numpy as np\n",
    "# import pandas as pd\n",
    "# import plotly.express as px\n",
    "# import plotly.graph_objects as go\n",
    "\n",
    "# from sklearn.ensemble import RandomForestClassifier, RandomForestRegressor\n",
    "# from sklearn.linear_model import LinearRegression, LogisticRegression, Perceptron\n",
    "# from sklearn.model_selection import train_test_split, cross_validate, KFold, GridSearchCV\n",
    "# from sklearn.neural_network import MLPClassifier, MLPRegressor\n",
    "# from sklearn.preprocessing import PolynomialFeatures, MinMaxScaler, StandardScaler\n",
    "# from sklearn.svm  import SVC, SVR\n",
    "# from sklearn.tree import DecisionTreeClassifier, DecisionTreeRegressor, plot_tree\n",
    "\n",
    "# pd.DataFrame.iteritems = pd.DataFrame.items"
   ]
  },
  {
   "cell_type": "markdown",
   "id": "2ec31232",
   "metadata": {},
   "source": [
    "### Explorative Datenanalyse\n",
    "\n",
    "#### Aufgabe 1: Import und Bereinigung der Daten\n",
    "\n",
    "Importieren Sie die Daten 'diamonds_DE.csv'. Verschaffen Sie sich einen\n",
    "Überblick und beantworten Sie folgende Fragen in einer Markdown-Zelle:\n",
    "\n",
    "* Wie viele Diamanten enthält die Datei?\n",
    "* Wie viele Merkmale/Attribute/Eigenschaften/Features sind in den Daten enthalten?\n",
    "* Sind alle Einträge gültig? Wenn nein, wie viele Einträge sind nicht gültig?\n",
    "* Welchen Datentyp haben die einzelnen Attribute/Eigenschaften/Features?\n",
    "\n",
    "Falls der Datensatz ungültige Werte aufweist oder Unstimmigkeiten enthält,\n",
    "bereinigen Sie ihn."
   ]
  },
  {
   "cell_type": "code",
   "execution_count": null,
   "id": "ea58f9e0",
   "metadata": {},
   "outputs": [],
   "source": [
    "#"
   ]
  },
  {
   "cell_type": "markdown",
   "id": "c3a1cfe0",
   "metadata": {},
   "source": [
    "#### Aufgabe 2: Statistische Kennzahlen der numerischen Eigenschaften\n",
    "\n",
    "* Ermitteln Sie von den numerischen Eigenschaften die statistischen Kennzahlen\n",
    "  und visualisieren Sie sie. Verwenden Sie beim Plot eine aussagefähige\n",
    "  Beschriftung.\n",
    "* Interpretieren Sie jede Eigenschaft anhand der statistischen Kennzahlen und\n",
    "  der Plots.\n",
    "* Bereinigen Sie bei Ungereimtheiten den Datensatz weiter.\n",
    "* Entfernen Sie Ausreißer."
   ]
  },
  {
   "cell_type": "code",
   "execution_count": null,
   "id": "23bc74db",
   "metadata": {},
   "outputs": [],
   "source": [
    "#"
   ]
  },
  {
   "cell_type": "markdown",
   "id": "8084c8fc",
   "metadata": {},
   "source": [
    "#### Aufgabe 3: Statistische Kennzahlen (kategoriale Eigenschaften)\n",
    "\n",
    "* Ermitteln Sie, wie häufig jeder Wert einer Kategorie in der jeweiligen Spalte\n",
    "  vorkommt.\n",
    "* Lassen Sie die Anzahl der Werte auch visualisieren. Beschriften Sie die\n",
    "  Diagramme mit einem aussagefähigen Titel.\n",
    "* Fassen Sie die Ergebnisse bzw. die Interpretation davon jeweils kurz zusammen\n",
    "  (in einer Markdown-Zelle)."
   ]
  },
  {
   "cell_type": "code",
   "execution_count": null,
   "id": "e1c277e7",
   "metadata": {},
   "outputs": [],
   "source": [
    "#"
   ]
  },
  {
   "cell_type": "markdown",
   "id": "217f7f66",
   "metadata": {},
   "source": [
    "### ML-Modelle\n",
    "\n",
    "#### Aufgabe 4: Regression\n",
    "\n",
    "Ziel der Regressionsaufgabe ist es, den Preis der Diamanten zu prognostizieren.\n",
    "\n",
    "* Wählen Sie zwei Regressionsmodelle aus.\n",
    "* Wählen Sie für jedes der zwei Modelle eine oder mehrere Eigenschaften aus, die\n",
    "  Einfluss auf den Preis haben könnten. Begründen Sie Ihre Auswahl.\n",
    "* Adaptieren Sie die Daten jeweils passend zu den von Ihnen gewählten Modellen.\n",
    "* Falls notwendig, skalieren Sie die Daten.\n",
    "* Führen Sie einen Split der Daten in Trainings- und Testdaten durch.\n",
    "* Trainieren Sie jedes ML-Modell.\n",
    "* Validieren Sie jedes ML-Modell bzgl. der Trainingsdaten und der Testdaten.\n",
    "* Bewerten Sie abschließend: welches der zwei Modelle würden Sie empfehlen?\n",
    "  Begründen Sie Ihre Empfehlung."
   ]
  },
  {
   "cell_type": "code",
   "execution_count": null,
   "id": "c8964a1c",
   "metadata": {},
   "outputs": [],
   "source": [
    "#"
   ]
  },
  {
   "cell_type": "markdown",
   "id": "1d22414b",
   "metadata": {},
   "source": [
    "#### Aufgabe 5: Klassifikation\n",
    "\n",
    "Ziel der Klassifikationsaufgabe ist es, die Preisklasse \"billig\" oder \"teuer\"\n",
    "der Diamanten zu prognostizieren.\n",
    "\n",
    "* Vorbereitung: Filtern Sie die Daten nach den Diamanten, deren Preis kleiner\n",
    "oder gleich dem Median aller Preise ist. Diese Diamanten sollen als \"billig\"\n",
    "klassfiziert werden. Diamanten, deren Preis größer als der Median aller Preise\n",
    "ist, sollen als \"teuer\" klassifiziert werden. Speichern Sie dieses neue Merkmal\n",
    "in einer neuen Spalte \"Preisklasse\".\n",
    "* Trainieren Sie einen Entscheidungsbaum (Decision Tree) mit den Merkmalen\n",
    "  \"Karat\" und \"Schliff\".\n",
    "* Adaptieren Sie die Daten.\n",
    "* Falls notwendig, skalieren Sie die Daten.\n",
    "* Führen Sie einen Split der Daten in Trainings- und Testdaten durch.\n",
    "* Führen Sie eine Gittersuche für\n",
    "  * die Baumtiefe (2, 3) und\n",
    "  * die minimale Anzahl an Samples pro Blatt (1, 2, 5) durch.\n",
    "* Lassen Sie das beste Modell als Baum visualisieren.\n",
    "* Bewerten Sie abschließend: ist das Modell für den Produktiveinsatz geeignet?\n",
    "  Begründen Sie Ihre Bewertung."
   ]
  },
  {
   "cell_type": "code",
   "execution_count": null,
   "id": "aa9ff373",
   "metadata": {},
   "outputs": [],
   "source": [
    "#"
   ]
  }
 ],
 "metadata": {
  "jupytext": {
   "formats": "ipynb,md:myst"
  },
  "kernelspec": {
   "display_name": "Python 3",
   "language": "python",
   "name": "python3"
  }
 },
 "nbformat": 4,
 "nbformat_minor": 5
}
